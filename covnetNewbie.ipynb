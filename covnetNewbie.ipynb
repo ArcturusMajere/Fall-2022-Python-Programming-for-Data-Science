{
  "cells": [
    {
      "cell_type": "markdown",
      "metadata": {
        "id": "view-in-github",
        "colab_type": "text"
      },
      "source": [
        "<a href=\"https://colab.research.google.com/github/ArcturusMajere/Fall-2022-Python-Programming-for-Data-Science/blob/main/covnetNewbie.ipynb\" target=\"_parent\"><img src=\"https://colab.research.google.com/assets/colab-badge.svg\" alt=\"Open In Colab\"/></a>"
      ]
    },
    {
      "cell_type": "markdown",
      "metadata": {
        "id": "3uY9v1Z0BwZ-"
      },
      "source": [
        "# Convolutional Neural Networks with Keras and TensorFlow Exercise (5 points)\n",
        "\n",
        "This exercise is designed for students with beginner and intermediate skills in neural networks. If you have advanced skills in neural networks, please attempt the other exercise found in this folder. It is up to the students to evaluate whether their skills in working with neural networks are at the beginner, intermediate, or advanced level. "
      ]
    },
    {
      "cell_type": "markdown",
      "metadata": {
        "id": "qLiQL-o0jD1l"
      },
      "source": [
        "## 1. Load the Dataset\n",
        "\n",
        "For this exercise, we will use the Fashion MNIST dataset, which consists of 60,000 train and 10,000 test images of fashion items. \n",
        "\n",
        "More information about the dataset can be found [here](https://keras.io/api/datasets/fashion_mnist/).\n",
        "\n",
        "First, import the necessary libraries (TensorFlow, Keras, NumPy, Matplotlib), and aferward load the Fashion MNIST dataset. The dataset can be loaded directly from the Keras built-in datasets."
      ]
    },
    {
      "cell_type": "code",
      "execution_count": 1,
      "metadata": {
        "id": "yo35t7dQZ4tw"
      },
      "outputs": [],
      "source": [
        "import pandas as pd\n",
        "import numpy as np\n",
        "import datetime\n",
        "import matplotlib.pyplot as plt\n",
        "import seaborn as sns\n",
        "from matplotlib import pyplot\n",
        "from sklearn.metrics import accuracy_score\n",
        "from sklearn.model_selection import train_test_split\n",
        "import tensorflow as tf\n",
        "from tensorflow import keras\n",
        "from keras.models import load_model\n",
        "from keras.preprocessing.image import ImageDataGenerator\n",
        "from keras.callbacks import EarlyStopping\n",
        "from keras.models import Model\n",
        "from keras.layers import Input\n",
        "from keras.layers.convolutional import Conv2D\n",
        "from keras.layers.pooling import MaxPooling2D\n",
        "from keras.layers import BatchNormalization\n",
        "from keras.layers import Dense\n",
        "from keras.layers import Flatten\n",
        "from keras.layers import Dropout"
      ]
    },
    {
      "cell_type": "code",
      "execution_count": 2,
      "metadata": {
        "colab": {
          "base_uri": "https://localhost:8080/"
        },
        "id": "aDosK5rgmt2e",
        "outputId": "c42a6e56-b40f-4fa3-c53e-93cbfe6faf4a"
      },
      "outputs": [
        {
          "output_type": "stream",
          "name": "stdout",
          "text": [
            "Downloading data from https://storage.googleapis.com/tensorflow/tf-keras-datasets/train-labels-idx1-ubyte.gz\n",
            "29515/29515 [==============================] - 0s 0us/step\n",
            "Downloading data from https://storage.googleapis.com/tensorflow/tf-keras-datasets/train-images-idx3-ubyte.gz\n",
            "26421880/26421880 [==============================] - 0s 0us/step\n",
            "Downloading data from https://storage.googleapis.com/tensorflow/tf-keras-datasets/t10k-labels-idx1-ubyte.gz\n",
            "5148/5148 [==============================] - 0s 0us/step\n",
            "Downloading data from https://storage.googleapis.com/tensorflow/tf-keras-datasets/t10k-images-idx3-ubyte.gz\n",
            "4422102/4422102 [==============================] - 0s 0us/step\n"
          ]
        }
      ],
      "source": [
        "(x_train, y_train), (x_test, y_test) = tf.keras.datasets.fashion_mnist.load_data()"
      ]
    },
    {
      "cell_type": "markdown",
      "metadata": {
        "id": "4YN_lP0cEAI9"
      },
      "source": [
        "Display the shape of the train and test arrays of images and labels. "
      ]
    },
    {
      "cell_type": "code",
      "execution_count": 3,
      "metadata": {
        "id": "qthXAPF1jRUr",
        "colab": {
          "base_uri": "https://localhost:8080/"
        },
        "outputId": "15a0ec01-8c20-4e30-c1f3-267b02339fe9"
      },
      "outputs": [
        {
          "output_type": "stream",
          "name": "stdout",
          "text": [
            "training dimensions: (60000, 28, 28) (60000,)\n",
            "test dimensions: (10000, 28, 28) (10000,)\n"
          ]
        }
      ],
      "source": [
        "print(\"training dimensions:\" ,x_train.shape, y_train.shape) \n",
        "print(\"test dimensions:\",x_test.shape, y_test.shape)"
      ]
    },
    {
      "cell_type": "markdown",
      "metadata": {
        "id": "E3TBM9sYELoj"
      },
      "source": [
        "Display the maximum and minimum values of the images. "
      ]
    },
    {
      "cell_type": "code",
      "execution_count": 4,
      "metadata": {
        "id": "RXh3il8bjasT",
        "colab": {
          "base_uri": "https://localhost:8080/"
        },
        "outputId": "7018ca2b-a497-44f0-86dd-ce77277e1846"
      },
      "outputs": [
        {
          "output_type": "stream",
          "name": "stdout",
          "text": [
            "maximum values of x_train, x_test, y_train, y_test, respectively are 255 255 9 9\n",
            "minimum values of x_train, x_test, y_train, y_test, respectively are 0 0 0 0\n",
            "Max pixel value 255\n",
            "Min pixel value 0\n",
            "Average pixel value 73.0\n",
            "Data type uint8\n"
          ]
        }
      ],
      "source": [
        "print(\"maximum values of x_train, x_test, y_train, y_test, respectively are\",\n",
        "      x_train.max(), x_test.max(), y_train.max(), y_test.max())\n",
        "print(\"minimum values of x_train, x_test, y_train, y_test, respectively are\",\n",
        "      x_train.min(), x_test.min(), y_train.min(), y_test.min())\n",
        "print('Max pixel value', np.max(x_train))\n",
        "print('Min pixel value', np.min(x_train))\n",
        "print('Average pixel value', np.round(np.mean(x_train)))\n",
        "print('Data type', x_train[0].dtype)"
      ]
    },
    {
      "cell_type": "markdown",
      "metadata": {
        "id": "ZHfXpe48EQl0"
      },
      "source": [
        "Resize the images to be in the [0,1] range, and display again the maximum and minimum values to make sure that the scaling was done properly."
      ]
    },
    {
      "cell_type": "code",
      "execution_count": 5,
      "metadata": {
        "id": "8mYCYXQQjauy",
        "colab": {
          "base_uri": "https://localhost:8080/"
        },
        "outputId": "95308e23-de64-4883-a2c9-ee0a1fd6dea4"
      },
      "outputs": [
        {
          "output_type": "stream",
          "name": "stdout",
          "text": [
            "maximum values of x_train, x_test, y_train, y_test, respectively are 1.0 1.0 9 9\n",
            "minimum values of x_train, x_test, y_train, y_test, respectively are 0.0 0.0 0 0\n",
            "Max pixel value 1.0\n",
            "Min pixel value 0.0\n",
            "Average pixel value 0.0\n",
            "Data type float64\n"
          ]
        }
      ],
      "source": [
        "x_train = x_train / 255\n",
        "x_test = x_test / 255\n",
        "print(\"maximum values of x_train, x_test, y_train, y_test, respectively are\",\n",
        "      x_train.max(), x_test.max(), y_train.max(), y_test.max())\n",
        "print(\"minimum values of x_train, x_test, y_train, y_test, respectively are\",\n",
        "      x_train.min(), x_test.min(), y_train.min(), y_test.min())\n",
        "print('Max pixel value', np.max(x_train))\n",
        "print('Min pixel value', np.min(x_train))\n",
        "print('Average pixel value', np.round(np.mean(x_train)))\n",
        "print('Data type', x_train[0].dtype)"
      ]
    },
    {
      "cell_type": "markdown",
      "metadata": {
        "id": "rRs3LjLpEcgr"
      },
      "source": [
        "Convert the train and test label arrays into one-hot encoding format."
      ]
    },
    {
      "cell_type": "code",
      "execution_count": 6,
      "metadata": {
        "id": "hjIaBnNzjg2A",
        "colab": {
          "base_uri": "https://localhost:8080/"
        },
        "outputId": "d34ed9f2-323a-4a77-960b-21cc26bf70fe"
      },
      "outputs": [
        {
          "output_type": "stream",
          "name": "stdout",
          "text": [
            "Labels train shape: (60000, 10)\n",
            "Labels test shape: (10000, 10)\n"
          ]
        }
      ],
      "source": [
        "y_train1hot = keras.utils.to_categorical(y_train, 10)\n",
        "y_test1hot = keras.utils.to_categorical(y_test, 10)\n",
        "print('Labels train shape: {}'.format(y_train1hot.shape))\n",
        "print('Labels test shape: {}'.format(y_test1hot.shape))"
      ]
    },
    {
      "cell_type": "markdown",
      "metadata": {
        "id": "ROgMf6_jErc-"
      },
      "source": [
        "Display several images in the training dataset **and their labels**. "
      ]
    },
    {
      "cell_type": "code",
      "execution_count": 7,
      "metadata": {
        "colab": {
          "base_uri": "https://localhost:8080/",
          "height": 536
        },
        "id": "LGjWbkQsjg3-",
        "outputId": "b3c9d79e-6356-46a1-f3f4-a256d56f60c9"
      },
      "outputs": [
        {
          "output_type": "display_data",
          "data": {
            "text/plain": [
              "<Figure size 1008x648 with 9 Axes>"
            ],
            "image/png": "[encoded data removed]"
          },
          "metadata": {
            "needs_background": "light"
          }
        }
      ],
      "source": [
        "label_names =  ['T-shirt/top','Trouser','Pullover','Dress','Coat','Sandal','Shirt','Sneakers','Bag','Ankle boot']\n",
        "\n",
        "plt.figure(figsize=(14, 9))\n",
        "for n in range(9):\n",
        "    i = np.random.randint(0, len(x_train), 1)\n",
        "    ax = plt.subplot(3, 3, n+1)\n",
        "    plt.imshow(x_train[i[0]])\n",
        "    l = int(y_train[i])\n",
        "    plt.title(label_names[l])\n",
        "    plt.axis('off')"
      ]
    },
    {
      "cell_type": "markdown",
      "metadata": {
        "id": "MZT7X-PBE-mZ"
      },
      "source": [
        "## 2. Model Definition and Training\n",
        "\n",
        "Create a model called `fminst_1` which has the following layers:\n",
        "- Input layer\n",
        "- Convolutional layer with 128 filters and kernel size of 3\n",
        "- Convolutional layer with 128 filters and kernel size of 3\n",
        "- Max-pooling layer \n",
        "- Flatten layer\n",
        "- Dense layer with 64 neurons\n",
        "- Output dense layer with 10 neurons"
      ]
    },
    {
      "cell_type": "code",
      "execution_count": 8,
      "metadata": {
        "id": "Qsgi1kc9E-mZ"
      },
      "outputs": [],
      "source": [
        "inputs = Input(shape=(28, 28, 1))\n",
        "conv1a = Conv2D(filters=128, kernel_size=3)(inputs)\n",
        "conv1b = Conv2D(filters=128, kernel_size=3)(conv1a)\n",
        "pool1 = MaxPooling2D()(conv1b)\n",
        "flat = Flatten()(pool1)\n",
        "dense1 = Dense(64, activation='relu')(flat)\n",
        "outputs = Dense(10, activation='softmax')(dense1)\n",
        "fmnist_1 = Model(inputs, outputs)"
      ]
    },
    {
      "cell_type": "markdown",
      "metadata": {
        "id": "l3hd_BDxFsFz"
      },
      "source": [
        "Display a summary of the model. State how many parameters the model has."
      ]
    },
    {
      "cell_type": "code",
      "execution_count": 9,
      "metadata": {
        "id": "iWnSWvcBE-mZ",
        "colab": {
          "base_uri": "https://localhost:8080/"
        },
        "outputId": "8d654626-0a5a-4276-e336-29a1bc2573ee"
      },
      "outputs": [
        {
          "output_type": "stream",
          "name": "stdout",
          "text": [
            "Model: \"model\"\n",
            "_________________________________________________________________\n",
            " Layer (type)                Output Shape              Param #   \n",
            "=================================================================\n",
            " input_1 (InputLayer)        [(None, 28, 28, 1)]       0         \n",
            "                                                                 \n",
            " conv2d (Conv2D)             (None, 26, 26, 128)       1280      \n",
            "                                                                 \n",
            " conv2d_1 (Conv2D)           (None, 24, 24, 128)       147584    \n",
            "                                                                 \n",
            " max_pooling2d (MaxPooling2D  (None, 12, 12, 128)      0         \n",
            " )                                                               \n",
            "                                                                 \n",
            " flatten (Flatten)           (None, 18432)             0         \n",
            "                                                                 \n",
            " dense (Dense)               (None, 64)                1179712   \n",
            "                                                                 \n",
            " dense_1 (Dense)             (None, 10)                650       \n",
            "                                                                 \n",
            "=================================================================\n",
            "Total params: 1,329,226\n",
            "Trainable params: 1,329,226\n",
            "Non-trainable params: 0\n",
            "_________________________________________________________________\n"
          ]
        }
      ],
      "source": [
        "fmnist_1.summary()"
      ]
    },
    {
      "cell_type": "markdown",
      "metadata": {
        "id": "-Cc9l0o6GHZA"
      },
      "source": [
        "Reshape the train arrays of images from the current shape of (60000, 28, 28) to (60000, 28, 28, 1).\n",
        "Repeat the same for the test array of images."
      ]
    },
    {
      "cell_type": "code",
      "execution_count": 10,
      "metadata": {
        "id": "lDdsapRnGWnQ"
      },
      "outputs": [],
      "source": [
        "X_train = x_train.reshape(60000, 28, 28, 1)\n",
        "X_test  = x_test.reshape(10000,28,28,1)"
      ]
    },
    {
      "cell_type": "markdown",
      "metadata": {
        "id": "f9HvTIOZF1_b"
      },
      "source": [
        "Compile the model using Adam optimizer, and train the model for 10 epochs using a batch size of 128 images."
      ]
    },
    {
      "cell_type": "code",
      "execution_count": 11,
      "metadata": {
        "id": "ur1mrvN6E-mZ",
        "colab": {
          "base_uri": "https://localhost:8080/"
        },
        "outputId": "fa014f44-bff6-4664-8494-259b76fd6983"
      },
      "outputs": [
        {
          "output_type": "stream",
          "name": "stdout",
          "text": [
            "Epoch 1/10\n",
            "469/469 [==============================] - 15s 15ms/step - loss: 0.4191 - accuracy: 0.8524\n",
            "Epoch 2/10\n",
            "469/469 [==============================] - 7s 15ms/step - loss: 0.2664 - accuracy: 0.9030\n",
            "Epoch 3/10\n",
            "469/469 [==============================] - 7s 15ms/step - loss: 0.2145 - accuracy: 0.9226\n",
            "Epoch 4/10\n",
            "469/469 [==============================] - 7s 15ms/step - loss: 0.1800 - accuracy: 0.9346\n",
            "Epoch 5/10\n",
            "469/469 [==============================] - 7s 15ms/step - loss: 0.1491 - accuracy: 0.9450\n",
            "Epoch 6/10\n",
            "469/469 [==============================] - 7s 15ms/step - loss: 0.1283 - accuracy: 0.9519\n",
            "Epoch 7/10\n",
            "469/469 [==============================] - 7s 16ms/step - loss: 0.1131 - accuracy: 0.9586\n",
            "Epoch 8/10\n",
            "469/469 [==============================] - 7s 15ms/step - loss: 0.0948 - accuracy: 0.9645\n",
            "Epoch 9/10\n",
            "469/469 [==============================] - 7s 15ms/step - loss: 0.0841 - accuracy: 0.9690\n",
            "Epoch 10/10\n",
            "469/469 [==============================] - 7s 15ms/step - loss: 0.0745 - accuracy: 0.9727\n"
          ]
        },
        {
          "output_type": "execute_result",
          "data": {
            "text/plain": [
              "<keras.callbacks.History at 0x7f9d900e3390>"
            ]
          },
          "metadata": {},
          "execution_count": 11
        }
      ],
      "source": [
        "fmnist_1.compile(optimizer='adam',loss='categorical_crossentropy',metrics=['accuracy'])\n",
        "fmnist_1.fit(X_train, y_train1hot, epochs=10, batch_size=128)"
      ]
    },
    {
      "cell_type": "markdown",
      "metadata": {
        "id": "htCRKPG3GnIY"
      },
      "source": [
        "Calculate the accuracy of the model on the test dataset."
      ]
    },
    {
      "cell_type": "code",
      "execution_count": 12,
      "metadata": {
        "id": "Ju2gvT6GE-ma",
        "colab": {
          "base_uri": "https://localhost:8080/"
        },
        "outputId": "101824e3-28e0-4c66-b8fc-1f4ad4b2cb6f"
      },
      "outputs": [
        {
          "output_type": "stream",
          "name": "stdout",
          "text": [
            "313/313 [==============================] - 1s 4ms/step - loss: 0.3873 - accuracy: 0.9092\n",
            "313/313 [==============================] - 1s 2ms/step\n",
            "Classification Accuracy:  0.9092000126838684\n"
          ]
        }
      ],
      "source": [
        "evals_test = fmnist_1.evaluate(X_test, y_test1hot)\n",
        "preds = fmnist_1.predict(X_test)\n",
        "print(\"Classification Accuracy: \", evals_test[1])"
      ]
    },
    {
      "cell_type": "markdown",
      "metadata": {
        "id": "UJ2VAk7JG4Gr"
      },
      "source": [
        "Plot a few images in the test dataset and display the ground-truth and predicted labels. "
      ]
    },
    {
      "cell_type": "code",
      "execution_count": 38,
      "metadata": {
        "colab": {
          "base_uri": "https://localhost:8080/",
          "height": 559
        },
        "id": "cEZlHsRBE-ma",
        "outputId": "80c9ab1c-e64a-4253-9395-8425d5e04455"
      },
      "outputs": [
        {
          "output_type": "error",
          "ename": "TypeError",
          "evalue": "ignored",
          "traceback": [
            "\u001b[0;31m---------------------------------------------------------------------------\u001b[0m",
            "\u001b[0;31mTypeError\u001b[0m                                 Traceback (most recent call last)",
            "\u001b[0;32m<ipython-input-38-3337082cd10f>\u001b[0m in \u001b[0;36m<module>\u001b[0;34m\u001b[0m\n\u001b[1;32m      3\u001b[0m     \u001b[0mi\u001b[0m \u001b[0;34m=\u001b[0m \u001b[0mnp\u001b[0m\u001b[0;34m.\u001b[0m\u001b[0mrandom\u001b[0m\u001b[0;34m.\u001b[0m\u001b[0mrandint\u001b[0m\u001b[0;34m(\u001b[0m\u001b[0;36m0\u001b[0m\u001b[0;34m,\u001b[0m \u001b[0mlen\u001b[0m\u001b[0;34m(\u001b[0m\u001b[0mX_test\u001b[0m\u001b[0;34m)\u001b[0m\u001b[0;34m,\u001b[0m \u001b[0;36m1\u001b[0m\u001b[0;34m)\u001b[0m\u001b[0;34m\u001b[0m\u001b[0;34m\u001b[0m\u001b[0m\n\u001b[1;32m      4\u001b[0m     \u001b[0max\u001b[0m \u001b[0;34m=\u001b[0m \u001b[0mplt\u001b[0m\u001b[0;34m.\u001b[0m\u001b[0msubplot\u001b[0m\u001b[0;34m(\u001b[0m\u001b[0;36m3\u001b[0m\u001b[0;34m,\u001b[0m \u001b[0;36m3\u001b[0m\u001b[0;34m,\u001b[0m \u001b[0mn\u001b[0m\u001b[0;34m+\u001b[0m\u001b[0;36m1\u001b[0m\u001b[0;34m)\u001b[0m\u001b[0;34m\u001b[0m\u001b[0;34m\u001b[0m\u001b[0m\n\u001b[0;32m----> 5\u001b[0;31m     \u001b[0mplt\u001b[0m\u001b[0;34m.\u001b[0m\u001b[0mimshow\u001b[0m\u001b[0;34m(\u001b[0m\u001b[0mX_test\u001b[0m\u001b[0;34m[\u001b[0m\u001b[0mi\u001b[0m\u001b[0;34m[\u001b[0m\u001b[0;36m0\u001b[0m\u001b[0;34m]\u001b[0m\u001b[0;34m]\u001b[0m\u001b[0;34m)\u001b[0m\u001b[0;34m\u001b[0m\u001b[0;34m\u001b[0m\u001b[0m\n\u001b[0m\u001b[1;32m      6\u001b[0m     \u001b[0mplt\u001b[0m\u001b[0;34m.\u001b[0m\u001b[0mtitle\u001b[0m\u001b[0;34m(\u001b[0m\u001b[0;34m'Label: '\u001b[0m \u001b[0;34m+\u001b[0m \u001b[0mstr\u001b[0m\u001b[0;34m(\u001b[0m\u001b[0mlabel_names\u001b[0m\u001b[0;34m[\u001b[0m\u001b[0my_test\u001b[0m\u001b[0;34m[\u001b[0m\u001b[0mi\u001b[0m\u001b[0;34m[\u001b[0m\u001b[0;36m0\u001b[0m\u001b[0;34m]\u001b[0m\u001b[0;34m]\u001b[0m\u001b[0;34m]\u001b[0m\u001b[0;34m)\u001b[0m \u001b[0;34m+\u001b[0m \u001b[0;34m'   Predicted: '\u001b[0m \u001b[0;34m+\u001b[0m \u001b[0mstr\u001b[0m\u001b[0;34m(\u001b[0m\u001b[0mlabel_names\u001b[0m\u001b[0;34m[\u001b[0m\u001b[0mnp\u001b[0m\u001b[0;34m.\u001b[0m\u001b[0margmax\u001b[0m\u001b[0;34m(\u001b[0m\u001b[0mpreds\u001b[0m\u001b[0;34m[\u001b[0m\u001b[0mi\u001b[0m\u001b[0;34m[\u001b[0m\u001b[0;36m0\u001b[0m\u001b[0;34m]\u001b[0m\u001b[0;34m]\u001b[0m\u001b[0;34m)\u001b[0m\u001b[0;34m]\u001b[0m\u001b[0;34m)\u001b[0m\u001b[0;34m)\u001b[0m\u001b[0;34m\u001b[0m\u001b[0;34m\u001b[0m\u001b[0m\n\u001b[1;32m      7\u001b[0m     \u001b[0mplt\u001b[0m\u001b[0;34m.\u001b[0m\u001b[0maxis\u001b[0m\u001b[0;34m(\u001b[0m\u001b[0;34m'off'\u001b[0m\u001b[0;34m)\u001b[0m\u001b[0;34m\u001b[0m\u001b[0;34m\u001b[0m\u001b[0m\n",
            "\u001b[0;32m/usr/local/lib/python3.7/dist-packages/matplotlib/pyplot.py\u001b[0m in \u001b[0;36mimshow\u001b[0;34m(X, cmap, norm, aspect, interpolation, alpha, vmin, vmax, origin, extent, shape, filternorm, filterrad, imlim, resample, url, data, **kwargs)\u001b[0m\n\u001b[1;32m   2649\u001b[0m         \u001b[0mfilternorm\u001b[0m\u001b[0;34m=\u001b[0m\u001b[0mfilternorm\u001b[0m\u001b[0;34m,\u001b[0m \u001b[0mfilterrad\u001b[0m\u001b[0;34m=\u001b[0m\u001b[0mfilterrad\u001b[0m\u001b[0;34m,\u001b[0m \u001b[0mimlim\u001b[0m\u001b[0;34m=\u001b[0m\u001b[0mimlim\u001b[0m\u001b[0;34m,\u001b[0m\u001b[0;34m\u001b[0m\u001b[0;34m\u001b[0m\u001b[0m\n\u001b[1;32m   2650\u001b[0m         resample=resample, url=url, **({\"data\": data} if data is not\n\u001b[0;32m-> 2651\u001b[0;31m         None else {}), **kwargs)\n\u001b[0m\u001b[1;32m   2652\u001b[0m     \u001b[0msci\u001b[0m\u001b[0;34m(\u001b[0m\u001b[0m__ret\u001b[0m\u001b[0;34m)\u001b[0m\u001b[0;34m\u001b[0m\u001b[0;34m\u001b[0m\u001b[0m\n\u001b[1;32m   2653\u001b[0m     \u001b[0;32mreturn\u001b[0m \u001b[0m__ret\u001b[0m\u001b[0;34m\u001b[0m\u001b[0;34m\u001b[0m\u001b[0m\n",
            "\u001b[0;32m/usr/local/lib/python3.7/dist-packages/matplotlib/__init__.py\u001b[0m in \u001b[0;36minner\u001b[0;34m(ax, data, *args, **kwargs)\u001b[0m\n\u001b[1;32m   1563\u001b[0m     \u001b[0;32mdef\u001b[0m \u001b[0minner\u001b[0m\u001b[0;34m(\u001b[0m\u001b[0max\u001b[0m\u001b[0;34m,\u001b[0m \u001b[0;34m*\u001b[0m\u001b[0margs\u001b[0m\u001b[0;34m,\u001b[0m \u001b[0mdata\u001b[0m\u001b[0;34m=\u001b[0m\u001b[0;32mNone\u001b[0m\u001b[0;34m,\u001b[0m \u001b[0;34m**\u001b[0m\u001b[0mkwargs\u001b[0m\u001b[0;34m)\u001b[0m\u001b[0;34m:\u001b[0m\u001b[0;34m\u001b[0m\u001b[0;34m\u001b[0m\u001b[0m\n\u001b[1;32m   1564\u001b[0m         \u001b[0;32mif\u001b[0m \u001b[0mdata\u001b[0m \u001b[0;32mis\u001b[0m \u001b[0;32mNone\u001b[0m\u001b[0;34m:\u001b[0m\u001b[0;34m\u001b[0m\u001b[0;34m\u001b[0m\u001b[0m\n\u001b[0;32m-> 1565\u001b[0;31m             \u001b[0;32mreturn\u001b[0m \u001b[0mfunc\u001b[0m\u001b[0;34m(\u001b[0m\u001b[0max\u001b[0m\u001b[0;34m,\u001b[0m \u001b[0;34m*\u001b[0m\u001b[0mmap\u001b[0m\u001b[0;34m(\u001b[0m\u001b[0msanitize_sequence\u001b[0m\u001b[0;34m,\u001b[0m \u001b[0margs\u001b[0m\u001b[0;34m)\u001b[0m\u001b[0;34m,\u001b[0m \u001b[0;34m**\u001b[0m\u001b[0mkwargs\u001b[0m\u001b[0;34m)\u001b[0m\u001b[0;34m\u001b[0m\u001b[0;34m\u001b[0m\u001b[0m\n\u001b[0m\u001b[1;32m   1566\u001b[0m \u001b[0;34m\u001b[0m\u001b[0m\n\u001b[1;32m   1567\u001b[0m         \u001b[0mbound\u001b[0m \u001b[0;34m=\u001b[0m \u001b[0mnew_sig\u001b[0m\u001b[0;34m.\u001b[0m\u001b[0mbind\u001b[0m\u001b[0;34m(\u001b[0m\u001b[0max\u001b[0m\u001b[0;34m,\u001b[0m \u001b[0;34m*\u001b[0m\u001b[0margs\u001b[0m\u001b[0;34m,\u001b[0m \u001b[0;34m**\u001b[0m\u001b[0mkwargs\u001b[0m\u001b[0;34m)\u001b[0m\u001b[0;34m\u001b[0m\u001b[0;34m\u001b[0m\u001b[0m\n",
            "\u001b[0;32m/usr/local/lib/python3.7/dist-packages/matplotlib/cbook/deprecation.py\u001b[0m in \u001b[0;36mwrapper\u001b[0;34m(*args, **kwargs)\u001b[0m\n\u001b[1;32m    356\u001b[0m                 \u001b[0;34mf\"%(removal)s.  If any parameter follows {name!r}, they \"\u001b[0m\u001b[0;34m\u001b[0m\u001b[0;34m\u001b[0m\u001b[0m\n\u001b[1;32m    357\u001b[0m                 f\"should be pass as keyword, not positionally.\")\n\u001b[0;32m--> 358\u001b[0;31m         \u001b[0;32mreturn\u001b[0m \u001b[0mfunc\u001b[0m\u001b[0;34m(\u001b[0m\u001b[0;34m*\u001b[0m\u001b[0margs\u001b[0m\u001b[0;34m,\u001b[0m \u001b[0;34m**\u001b[0m\u001b[0mkwargs\u001b[0m\u001b[0;34m)\u001b[0m\u001b[0;34m\u001b[0m\u001b[0;34m\u001b[0m\u001b[0m\n\u001b[0m\u001b[1;32m    359\u001b[0m \u001b[0;34m\u001b[0m\u001b[0m\n\u001b[1;32m    360\u001b[0m     \u001b[0;32mreturn\u001b[0m \u001b[0mwrapper\u001b[0m\u001b[0;34m\u001b[0m\u001b[0;34m\u001b[0m\u001b[0m\n",
            "\u001b[0;32m/usr/local/lib/python3.7/dist-packages/matplotlib/cbook/deprecation.py\u001b[0m in \u001b[0;36mwrapper\u001b[0;34m(*args, **kwargs)\u001b[0m\n\u001b[1;32m    356\u001b[0m                 \u001b[0;34mf\"%(removal)s.  If any parameter follows {name!r}, they \"\u001b[0m\u001b[0;34m\u001b[0m\u001b[0;34m\u001b[0m\u001b[0m\n\u001b[1;32m    357\u001b[0m                 f\"should be pass as keyword, not positionally.\")\n\u001b[0;32m--> 358\u001b[0;31m         \u001b[0;32mreturn\u001b[0m \u001b[0mfunc\u001b[0m\u001b[0;34m(\u001b[0m\u001b[0;34m*\u001b[0m\u001b[0margs\u001b[0m\u001b[0;34m,\u001b[0m \u001b[0;34m**\u001b[0m\u001b[0mkwargs\u001b[0m\u001b[0;34m)\u001b[0m\u001b[0;34m\u001b[0m\u001b[0;34m\u001b[0m\u001b[0m\n\u001b[0m\u001b[1;32m    359\u001b[0m \u001b[0;34m\u001b[0m\u001b[0m\n\u001b[1;32m    360\u001b[0m     \u001b[0;32mreturn\u001b[0m \u001b[0mwrapper\u001b[0m\u001b[0;34m\u001b[0m\u001b[0;34m\u001b[0m\u001b[0m\n",
            "\u001b[0;32m/usr/local/lib/python3.7/dist-packages/matplotlib/axes/_axes.py\u001b[0m in \u001b[0;36mimshow\u001b[0;34m(self, X, cmap, norm, aspect, interpolation, alpha, vmin, vmax, origin, extent, shape, filternorm, filterrad, imlim, resample, url, **kwargs)\u001b[0m\n\u001b[1;32m   5624\u001b[0m                               resample=resample, **kwargs)\n\u001b[1;32m   5625\u001b[0m \u001b[0;34m\u001b[0m\u001b[0m\n\u001b[0;32m-> 5626\u001b[0;31m         \u001b[0mim\u001b[0m\u001b[0;34m.\u001b[0m\u001b[0mset_data\u001b[0m\u001b[0;34m(\u001b[0m\u001b[0mX\u001b[0m\u001b[0;34m)\u001b[0m\u001b[0;34m\u001b[0m\u001b[0;34m\u001b[0m\u001b[0m\n\u001b[0m\u001b[1;32m   5627\u001b[0m         \u001b[0mim\u001b[0m\u001b[0;34m.\u001b[0m\u001b[0mset_alpha\u001b[0m\u001b[0;34m(\u001b[0m\u001b[0malpha\u001b[0m\u001b[0;34m)\u001b[0m\u001b[0;34m\u001b[0m\u001b[0;34m\u001b[0m\u001b[0m\n\u001b[1;32m   5628\u001b[0m         \u001b[0;32mif\u001b[0m \u001b[0mim\u001b[0m\u001b[0;34m.\u001b[0m\u001b[0mget_clip_path\u001b[0m\u001b[0;34m(\u001b[0m\u001b[0;34m)\u001b[0m \u001b[0;32mis\u001b[0m \u001b[0;32mNone\u001b[0m\u001b[0;34m:\u001b[0m\u001b[0;34m\u001b[0m\u001b[0;34m\u001b[0m\u001b[0m\n",
            "\u001b[0;32m/usr/local/lib/python3.7/dist-packages/matplotlib/image.py\u001b[0m in \u001b[0;36mset_data\u001b[0;34m(self, A)\u001b[0m\n\u001b[1;32m    697\u001b[0m                 or self._A.ndim == 3 and self._A.shape[-1] in [3, 4]):\n\u001b[1;32m    698\u001b[0m             raise TypeError(\"Invalid shape {} for image data\"\n\u001b[0;32m--> 699\u001b[0;31m                             .format(self._A.shape))\n\u001b[0m\u001b[1;32m    700\u001b[0m \u001b[0;34m\u001b[0m\u001b[0m\n\u001b[1;32m    701\u001b[0m         \u001b[0;32mif\u001b[0m \u001b[0mself\u001b[0m\u001b[0;34m.\u001b[0m\u001b[0m_A\u001b[0m\u001b[0;34m.\u001b[0m\u001b[0mndim\u001b[0m \u001b[0;34m==\u001b[0m \u001b[0;36m3\u001b[0m\u001b[0;34m:\u001b[0m\u001b[0;34m\u001b[0m\u001b[0;34m\u001b[0m\u001b[0m\n",
            "\u001b[0;31mTypeError\u001b[0m: Invalid shape (28, 28, 1) for image data"
          ]
        },
        {
          "output_type": "display_data",
          "data": {
            "text/plain": [
              "<Figure size 864x648 with 1 Axes>"
            ],
            "image/png": "[encoded data removed]"
          },
          "metadata": {
            "needs_background": "light"
          }
        }
      ],
      "source": [
        "plt.figure(figsize=(12, 9))\n",
        "for n in range(9):\n",
        "    i = np.random.randint(0, len(X_test), 1)\n",
        "    ax = plt.subplot(3, 3, n+1)\n",
        "    plt.imshow(X_test[i[0]])\n",
        "    plt.title('Label: ' + str(label_names[y_test[i[0]]]) + '   Predicted: ' + str(label_names[np.argmax(preds[i[0]])]))\n",
        "    plt.axis('off')"
      ]
    },
    {
      "cell_type": "markdown",
      "metadata": {
        "id": "UqnJ_lthkoNE"
      },
      "source": [
        "## 3. Define a Larger Model and Use Validation Split\n",
        "\n",
        "Create a model called `fmnist_2` which has 3 blocks of Conv-Conv-MaxPooling layers with 64-128-256 filters per block, followed by a classifier with a Flatten layer and a sequence of Dense layers with 100, 50, and 10 neurons. "
      ]
    },
    {
      "cell_type": "code",
      "execution_count": 18,
      "metadata": {
        "id": "LDNwyM6njg6M",
        "colab": {
          "base_uri": "https://localhost:8080/"
        },
        "outputId": "41d191f7-119c-4633-89f9-cac656d79ec6"
      },
      "outputs": [
        {
          "output_type": "stream",
          "name": "stdout",
          "text": [
            "Model: \"model_1\"\n",
            "_________________________________________________________________\n",
            " Layer (type)                Output Shape              Param #   \n",
            "=================================================================\n",
            " input_2 (InputLayer)        [(None, 28, 28, 1)]       0         \n",
            "                                                                 \n",
            " conv2d_2 (Conv2D)           (None, 28, 28, 64)        640       \n",
            "                                                                 \n",
            " conv2d_3 (Conv2D)           (None, 28, 28, 64)        36928     \n",
            "                                                                 \n",
            " max_pooling2d_1 (MaxPooling  (None, 14, 14, 64)       0         \n",
            " 2D)                                                             \n",
            "                                                                 \n",
            " conv2d_4 (Conv2D)           (None, 14, 14, 128)       73856     \n",
            "                                                                 \n",
            " conv2d_5 (Conv2D)           (None, 14, 14, 128)       147584    \n",
            "                                                                 \n",
            " max_pooling2d_2 (MaxPooling  (None, 7, 7, 128)        0         \n",
            " 2D)                                                             \n",
            "                                                                 \n",
            " conv2d_6 (Conv2D)           (None, 7, 7, 256)         295168    \n",
            "                                                                 \n",
            " conv2d_7 (Conv2D)           (None, 7, 7, 256)         590080    \n",
            "                                                                 \n",
            " max_pooling2d_3 (MaxPooling  (None, 3, 3, 256)        0         \n",
            " 2D)                                                             \n",
            "                                                                 \n",
            " flatten_1 (Flatten)         (None, 2304)              0         \n",
            "                                                                 \n",
            " dense_2 (Dense)             (None, 100)               230500    \n",
            "                                                                 \n",
            " dense_3 (Dense)             (None, 50)                5050      \n",
            "                                                                 \n",
            " dense_4 (Dense)             (None, 10)                510       \n",
            "                                                                 \n",
            "=================================================================\n",
            "Total params: 1,380,316\n",
            "Trainable params: 1,380,316\n",
            "Non-trainable params: 0\n",
            "_________________________________________________________________\n"
          ]
        }
      ],
      "source": [
        "inputs = Input(shape=(28, 28, 1))\n",
        "conv1a = Conv2D(filters=64, kernel_size=3, padding='same')(inputs)\n",
        "conv1b = Conv2D(filters=64, kernel_size=3, padding='same')(conv1a)\n",
        "pool1 = MaxPooling2D()(conv1b)\n",
        "conv2a = Conv2D(filters=128, kernel_size=3, padding='same')(pool1)\n",
        "conv2b = Conv2D(filters=128, kernel_size=3, padding='same')(conv2a)\n",
        "pool2 = MaxPooling2D()(conv2b)\n",
        "conv3a = Conv2D(filters=256, kernel_size=3, padding='same')(pool2)\n",
        "conv3b = Conv2D(filters=256, kernel_size=3, padding='same')(conv3a)\n",
        "pool3 = MaxPooling2D()(conv3b)\n",
        "flat = Flatten()(pool3)\n",
        "dense1 = Dense(100, activation='relu')(flat)\n",
        "dense2 = Dense(50, activation='relu')(dense1)\n",
        "outputs = Dense(10, activation='softmax')(dense2)\n",
        "fmnist_2= Model(inputs, outputs)\n",
        "fmnist_2.summary()"
      ]
    },
    {
      "cell_type": "markdown",
      "metadata": {
        "id": "UsLbzBccI4hq"
      },
      "source": [
        "Compile and train the model for 10 epochs with a batch size of 128. Use 25% of the training data for validation. "
      ]
    },
    {
      "cell_type": "code",
      "execution_count": 20,
      "metadata": {
        "id": "YBzWscoOiMlg",
        "colab": {
          "base_uri": "https://localhost:8080/"
        },
        "outputId": "0141e608-4c7a-41c1-f3d2-ea477da106dc"
      },
      "outputs": [
        {
          "output_type": "stream",
          "name": "stdout",
          "text": [
            "Epoch 1/10\n",
            "352/352 [==============================] - 10s 25ms/step - loss: 0.3902 - accuracy: 0.8608 - val_loss: 0.3201 - val_accuracy: 0.8857\n",
            "Epoch 2/10\n",
            "352/352 [==============================] - 8s 24ms/step - loss: 0.2952 - accuracy: 0.8928 - val_loss: 0.2976 - val_accuracy: 0.8899\n",
            "Epoch 3/10\n",
            "352/352 [==============================] - 9s 24ms/step - loss: 0.2521 - accuracy: 0.9079 - val_loss: 0.3317 - val_accuracy: 0.8765\n",
            "Epoch 4/10\n",
            "352/352 [==============================] - 9s 25ms/step - loss: 0.2257 - accuracy: 0.9162 - val_loss: 0.2879 - val_accuracy: 0.8945\n",
            "Epoch 5/10\n",
            "352/352 [==============================] - 8s 24ms/step - loss: 0.2035 - accuracy: 0.9259 - val_loss: 0.2725 - val_accuracy: 0.9051\n",
            "Epoch 6/10\n",
            "352/352 [==============================] - 9s 25ms/step - loss: 0.1815 - accuracy: 0.9320 - val_loss: 0.2890 - val_accuracy: 0.9013\n",
            "Epoch 7/10\n",
            "352/352 [==============================] - 9s 26ms/step - loss: 0.1767 - accuracy: 0.9357 - val_loss: 0.2798 - val_accuracy: 0.9061\n",
            "Epoch 8/10\n",
            "352/352 [==============================] - 9s 25ms/step - loss: 0.1414 - accuracy: 0.9484 - val_loss: 0.2889 - val_accuracy: 0.9094\n",
            "Epoch 9/10\n",
            "352/352 [==============================] - 8s 24ms/step - loss: 0.1443 - accuracy: 0.9465 - val_loss: 0.3183 - val_accuracy: 0.9030\n",
            "Epoch 10/10\n",
            "352/352 [==============================] - 9s 25ms/step - loss: 0.1260 - accuracy: 0.9546 - val_loss: 0.3088 - val_accuracy: 0.9058\n"
          ]
        },
        {
          "output_type": "execute_result",
          "data": {
            "text/plain": [
              "<keras.callbacks.History at 0x7f9d243daa10>"
            ]
          },
          "metadata": {},
          "execution_count": 20
        }
      ],
      "source": [
        "fmnist_2.compile(optimizer='adam',loss='categorical_crossentropy',metrics=['accuracy'])\n",
        "fmnist_2.fit(X_train, y_train1hot, epochs=10,validation_split=0.25, batch_size=128)"
      ]
    },
    {
      "cell_type": "markdown",
      "metadata": {
        "id": "xNPT6ZdwJM9V"
      },
      "source": [
        "Calculate the accuracy on the test dataset. \n",
        "\n",
        "Discuss whether the model overfits the training data."
      ]
    },
    {
      "cell_type": "code",
      "execution_count": 21,
      "metadata": {
        "id": "9Wn0RAiKmB3a",
        "colab": {
          "base_uri": "https://localhost:8080/"
        },
        "outputId": "3848cd08-4f9c-41c7-c631-663be4ce908a"
      },
      "outputs": [
        {
          "output_type": "stream",
          "name": "stdout",
          "text": [
            "313/313 [==============================] - 2s 4ms/step - loss: 0.3361 - accuracy: 0.9034\n",
            "313/313 [==============================] - 1s 3ms/step\n",
            "Classification Accuracy:  0.9034000039100647\n"
          ]
        }
      ],
      "source": [
        "evals_test = fmnist_2.evaluate(X_test, y_test1hot)\n",
        "preds = fmnist_2.predict(X_test)\n",
        "print(\"Classification Accuracy: \", evals_test[1])"
      ]
    },
    {
      "cell_type": "markdown",
      "metadata": {
        "id": "Ff03QLiumJZD"
      },
      "source": [
        "## 4. Apply Dropout, Early Stopping\n",
        "\n",
        "Create a model `fmnist_3` which uses a similar network from the previous section but it has a block of layers with 32-64-128 convolutional filters, and add at least 4 Dropout layers in the model. Select a dropout rate of 10% of the neurons. "
      ]
    },
    {
      "cell_type": "code",
      "execution_count": 22,
      "metadata": {
        "id": "vtfCDoaSmlQ7",
        "colab": {
          "base_uri": "https://localhost:8080/"
        },
        "outputId": "6e142117-6929-40a6-e74e-358f7c57532a"
      },
      "outputs": [
        {
          "output_type": "stream",
          "name": "stdout",
          "text": [
            "Model: \"model_2\"\n",
            "_________________________________________________________________\n",
            " Layer (type)                Output Shape              Param #   \n",
            "=================================================================\n",
            " input_3 (InputLayer)        [(None, 28, 28, 1)]       0         \n",
            "                                                                 \n",
            " conv2d_8 (Conv2D)           (None, 28, 28, 32)        320       \n",
            "                                                                 \n",
            " conv2d_9 (Conv2D)           (None, 28, 28, 32)        9248      \n",
            "                                                                 \n",
            " max_pooling2d_4 (MaxPooling  (None, 14, 14, 32)       0         \n",
            " 2D)                                                             \n",
            "                                                                 \n",
            " dropout (Dropout)           (None, 14, 14, 32)        0         \n",
            "                                                                 \n",
            " conv2d_10 (Conv2D)          (None, 14, 14, 64)        18496     \n",
            "                                                                 \n",
            " conv2d_11 (Conv2D)          (None, 14, 14, 64)        36928     \n",
            "                                                                 \n",
            " max_pooling2d_5 (MaxPooling  (None, 7, 7, 64)         0         \n",
            " 2D)                                                             \n",
            "                                                                 \n",
            " dropout_1 (Dropout)         (None, 7, 7, 64)          0         \n",
            "                                                                 \n",
            " conv2d_12 (Conv2D)          (None, 7, 7, 128)         73856     \n",
            "                                                                 \n",
            " conv2d_13 (Conv2D)          (None, 7, 7, 128)         147584    \n",
            "                                                                 \n",
            " max_pooling2d_6 (MaxPooling  (None, 3, 3, 128)        0         \n",
            " 2D)                                                             \n",
            "                                                                 \n",
            " flatten_2 (Flatten)         (None, 1152)              0         \n",
            "                                                                 \n",
            " dense_5 (Dense)             (None, 128)               147584    \n",
            "                                                                 \n",
            " dropout_2 (Dropout)         (None, 128)               0         \n",
            "                                                                 \n",
            " dense_6 (Dense)             (None, 64)                8256      \n",
            "                                                                 \n",
            " dropout_3 (Dropout)         (None, 64)                0         \n",
            "                                                                 \n",
            " dense_7 (Dense)             (None, 10)                650       \n",
            "                                                                 \n",
            "=================================================================\n",
            "Total params: 442,922\n",
            "Trainable params: 442,922\n",
            "Non-trainable params: 0\n",
            "_________________________________________________________________\n"
          ]
        }
      ],
      "source": [
        "\n",
        "inputs = Input(shape=(28, 28, 1))\n",
        "conv1a = Conv2D(filters=32, kernel_size=3, padding='same')(inputs)\n",
        "conv1b = Conv2D(filters=32, kernel_size=3, padding='same')(conv1a)\n",
        "pool1 = MaxPooling2D()(conv1b)\n",
        "dropout1 = Dropout(0.1)(pool1)\n",
        "conv2a = Conv2D(filters=64, kernel_size=3, padding='same')(dropout1)\n",
        "conv2b = Conv2D(filters=64, kernel_size=3, padding='same')(conv2a)\n",
        "pool2 = MaxPooling2D()(conv2b)\n",
        "dropout2 = Dropout(0.1)(pool2)\n",
        "conv3a = Conv2D(filters=128, kernel_size=3, padding='same')(dropout2)\n",
        "conv3b = Conv2D(filters=128, kernel_size=3, padding='same')(conv3a)\n",
        "pool3 = MaxPooling2D()(conv3b)\n",
        "flat = Flatten()(pool3)\n",
        "dense1 = Dense(128, activation='relu')(flat)\n",
        "dropout3 = Dropout(0.1)(dense1)\n",
        "dense2 = Dense(64, activation='relu')(dropout3)\n",
        "dropout4 = Dropout(0.1)(dense2)\n",
        "outputs = Dense(10, activation='softmax')(dropout4)\n",
        "\n",
        "fmnist_3 = Model(inputs, outputs)\n",
        "fmnist_3.summary()"
      ]
    },
    {
      "cell_type": "markdown",
      "metadata": {
        "id": "XWkyjFbYnQgJ"
      },
      "source": [
        "Train the model, and apply an Early Stopping callback, so that the training stops automatically with a patience of 5 epochs. \n",
        "\n",
        "Measure the time for training the model."
      ]
    },
    {
      "cell_type": "code",
      "execution_count": 24,
      "metadata": {
        "id": "lBWCO960msKH",
        "colab": {
          "base_uri": "https://localhost:8080/"
        },
        "outputId": "d245db0e-daba-4dbc-9c08-d164ac3a6221"
      },
      "outputs": [
        {
          "output_type": "stream",
          "name": "stdout",
          "text": [
            "Epoch 1/10\n",
            "375/375 [==============================] - 5s 12ms/step - loss: 0.2559 - accuracy: 0.9072 - val_loss: 0.2611 - val_accuracy: 0.9039\n",
            "Epoch 2/10\n",
            "375/375 [==============================] - 5s 12ms/step - loss: 0.2346 - accuracy: 0.9131 - val_loss: 0.2543 - val_accuracy: 0.9081\n",
            "Epoch 3/10\n",
            "375/375 [==============================] - 5s 12ms/step - loss: 0.2173 - accuracy: 0.9188 - val_loss: 0.2514 - val_accuracy: 0.9106\n",
            "Epoch 4/10\n",
            "375/375 [==============================] - 5s 13ms/step - loss: 0.1986 - accuracy: 0.9251 - val_loss: 0.2518 - val_accuracy: 0.9106\n",
            "Epoch 5/10\n",
            "375/375 [==============================] - 4s 12ms/step - loss: 0.1891 - accuracy: 0.9289 - val_loss: 0.2483 - val_accuracy: 0.9149\n",
            "Epoch 6/10\n",
            "375/375 [==============================] - 4s 12ms/step - loss: 0.1863 - accuracy: 0.9301 - val_loss: 0.2693 - val_accuracy: 0.9080\n",
            "Epoch 7/10\n",
            "375/375 [==============================] - 5s 13ms/step - loss: 0.1733 - accuracy: 0.9345 - val_loss: 0.2639 - val_accuracy: 0.9141\n",
            "Epoch 8/10\n",
            "375/375 [==============================] - 5s 12ms/step - loss: 0.1699 - accuracy: 0.9376 - val_loss: 0.2799 - val_accuracy: 0.9099\n",
            "Epoch 9/10\n",
            "375/375 [==============================] - 6s 15ms/step - loss: 0.1611 - accuracy: 0.9395 - val_loss: 0.2772 - val_accuracy: 0.9050\n",
            "Epoch 10/10\n",
            "375/375 [==============================] - 4s 12ms/step - loss: 0.1508 - accuracy: 0.9422 - val_loss: 0.2609 - val_accuracy: 0.9164\n"
          ]
        }
      ],
      "source": [
        "now = datetime.datetime.now;t = now()\n",
        "fmnist_3.compile(optimizer='adam',loss='categorical_crossentropy',metrics=['accuracy']) \n",
        "t = now()\n",
        "history3 = fmnist_3.fit(X_train, y_train1hot, validation_split=0.2, batch_size=128,epochs=10, verbose=1, callbacks=[EarlyStopping(monitor='val_loss', patience = 5)])\n",
        "print('Training time: %s' % (now() - t))"
      ]
    },
    {
      "cell_type": "markdown",
      "metadata": {
        "id": "ZGnkU8KDQukg"
      },
      "source": [
        "Plot the accuracy and loss curves."
      ]
    },
    {
      "cell_type": "code",
      "execution_count": 26,
      "metadata": {
        "colab": {
          "base_uri": "https://localhost:8080/",
          "height": 295
        },
        "id": "Ot-NFsc7mt2l",
        "outputId": "9addb7b7-0571-42a9-8215-cd3b694a0d8f"
      },
      "outputs": [
        {
          "output_type": "display_data",
          "data": {
            "text/plain": [
              "<Figure size 864x288 with 2 Axes>"
            ],
            "image/png": "[encoded data removed]"
          },
          "metadata": {
            "needs_background": "light"
          }
        }
      ],
      "source": [
        "\n",
        "train_loss = history3.history['loss']\n",
        "val_loss = history3.history['val_loss']\n",
        "acc = history3.history['accuracy'] \n",
        "val_acc = history3.history['val_accuracy']\n",
        "\n",
        "epochsn = np.arange(1, len(train_loss)+1,1)\n",
        "plt.figure(figsize=(12, 4))\n",
        "\n",
        "plt.subplot(1,2,1)\n",
        "plt.plot(epochsn, acc, 'b', label='Training Accuracy')\n",
        "plt.plot(epochsn, val_acc, 'r', label='Validation Accuracy')\n",
        "plt.grid(color='gray', linestyle='--')\n",
        "plt.legend()            \n",
        "plt.title('ACCURACY')\n",
        "plt.xlabel('Epochs')\n",
        "plt.ylabel('Accuracy')\n",
        "\n",
        "plt.subplot(1,2,2)\n",
        "plt.plot(epochsn,train_loss, 'b', label='Training Loss')\n",
        "plt.plot(epochsn,val_loss, 'r', label='Validation Loss')\n",
        "plt.grid(color='gray', linestyle='--')\n",
        "plt.legend()\n",
        "plt.title('LOSS')\n",
        "plt.xlabel('Epochs')\n",
        "plt.ylabel('Loss')\n",
        "plt.show() "
      ]
    },
    {
      "cell_type": "markdown",
      "metadata": {
        "id": "OdDVJLPzTvRu"
      },
      "source": [
        "Calculate the accuracy on the test dataset."
      ]
    },
    {
      "cell_type": "code",
      "execution_count": 27,
      "metadata": {
        "id": "Svpl0CpwpWPa",
        "colab": {
          "base_uri": "https://localhost:8080/"
        },
        "outputId": "b6b1194f-11f2-43d5-afa7-4fe8119d9e1d"
      },
      "outputs": [
        {
          "output_type": "stream",
          "name": "stdout",
          "text": [
            "313/313 [==============================] - 1s 4ms/step - loss: 0.2851 - accuracy: 0.9127\n",
            "313/313 [==============================] - 1s 2ms/step\n",
            "Classification Accuracy:  0.9126999974250793\n"
          ]
        }
      ],
      "source": [
        "evals_test = fmnist_3.evaluate(X_test, y_test1hot)\n",
        "preds = fmnist_3.predict(X_test)\n",
        "print(\"Classification Accuracy: \", evals_test[1])"
      ]
    },
    {
      "cell_type": "markdown",
      "metadata": {
        "id": "6-Bqqq1pm8jg"
      },
      "source": [
        "## 5. Batch Normalization, and Data Augmentation\n",
        "\n",
        "Create a model `fmnist_4` which applies a batch normalization layer to each convolutional block of layers in the model from the previous section. "
      ]
    },
    {
      "cell_type": "code",
      "execution_count": 28,
      "metadata": {
        "id": "LpnoFKFvm-_r",
        "colab": {
          "base_uri": "https://localhost:8080/"
        },
        "outputId": "b5996216-99b6-4ff8-e1bf-b306239f3b77"
      },
      "outputs": [
        {
          "output_type": "stream",
          "name": "stdout",
          "text": [
            "Model: \"model_3\"\n",
            "_________________________________________________________________\n",
            " Layer (type)                Output Shape              Param #   \n",
            "=================================================================\n",
            " input_4 (InputLayer)        [(None, 28, 28, 1)]       0         \n",
            "                                                                 \n",
            " conv2d_14 (Conv2D)          (None, 28, 28, 32)        320       \n",
            "                                                                 \n",
            " conv2d_15 (Conv2D)          (None, 28, 28, 32)        9248      \n",
            "                                                                 \n",
            " batch_normalization (BatchN  (None, 28, 28, 32)       128       \n",
            " ormalization)                                                   \n",
            "                                                                 \n",
            " max_pooling2d_7 (MaxPooling  (None, 14, 14, 32)       0         \n",
            " 2D)                                                             \n",
            "                                                                 \n",
            " dropout_4 (Dropout)         (None, 14, 14, 32)        0         \n",
            "                                                                 \n",
            " conv2d_16 (Conv2D)          (None, 14, 14, 64)        18496     \n",
            "                                                                 \n",
            " conv2d_17 (Conv2D)          (None, 14, 14, 64)        36928     \n",
            "                                                                 \n",
            " batch_normalization_1 (Batc  (None, 14, 14, 64)       256       \n",
            " hNormalization)                                                 \n",
            "                                                                 \n",
            " max_pooling2d_8 (MaxPooling  (None, 7, 7, 64)         0         \n",
            " 2D)                                                             \n",
            "                                                                 \n",
            " dropout_5 (Dropout)         (None, 7, 7, 64)          0         \n",
            "                                                                 \n",
            " conv2d_18 (Conv2D)          (None, 7, 7, 128)         73856     \n",
            "                                                                 \n",
            " conv2d_19 (Conv2D)          (None, 7, 7, 128)         147584    \n",
            "                                                                 \n",
            " batch_normalization_2 (Batc  (None, 7, 7, 128)        512       \n",
            " hNormalization)                                                 \n",
            "                                                                 \n",
            " max_pooling2d_9 (MaxPooling  (None, 3, 3, 128)        0         \n",
            " 2D)                                                             \n",
            "                                                                 \n",
            " flatten_3 (Flatten)         (None, 1152)              0         \n",
            "                                                                 \n",
            " dense_8 (Dense)             (None, 128)               147584    \n",
            "                                                                 \n",
            " dropout_6 (Dropout)         (None, 128)               0         \n",
            "                                                                 \n",
            " dense_9 (Dense)             (None, 64)                8256      \n",
            "                                                                 \n",
            " dropout_7 (Dropout)         (None, 64)                0         \n",
            "                                                                 \n",
            " dense_10 (Dense)            (None, 10)                650       \n",
            "                                                                 \n",
            "=================================================================\n",
            "Total params: 443,818\n",
            "Trainable params: 443,370\n",
            "Non-trainable params: 448\n",
            "_________________________________________________________________\n"
          ]
        }
      ],
      "source": [
        "\n",
        "inputs = Input(shape=(28, 28, 1))\n",
        "conv1a = Conv2D(filters=32, kernel_size=3, padding='same')(inputs)\n",
        "conv1b = Conv2D(filters=32, kernel_size=3, padding='same')(conv1a)\n",
        "bn1 = BatchNormalization()(conv1b)\n",
        "pool1 = MaxPooling2D()(bn1)\n",
        "dropout1 = Dropout(0.1)(pool1)\n",
        "conv2a = Conv2D(filters=64, kernel_size=3, padding='same')(dropout1)\n",
        "conv2b = Conv2D(filters=64, kernel_size=3, padding='same')(conv2a)\n",
        "bn2 = BatchNormalization()(conv2b)\n",
        "pool2 = MaxPooling2D()(bn2)\n",
        "dropout2 = Dropout(0.1)(pool2)\n",
        "conv3a = Conv2D(filters=128, kernel_size=3, padding='same')(dropout2)\n",
        "conv3b = Conv2D(filters=128, kernel_size=3, padding='same')(conv3a)\n",
        "bn3 = BatchNormalization()(conv3b)\n",
        "pool3 = MaxPooling2D()(bn3)\n",
        "flat = Flatten()(pool3)\n",
        "dense1 = Dense(128, activation='relu')(flat)\n",
        "dropout3 = Dropout(0.1)(dense1)\n",
        "dense2 = Dense(64, activation='relu')(dropout3)\n",
        "dropout4 = Dropout(0.1)(dense2)\n",
        "outputs = Dense(10, activation='softmax')(dropout4)\n",
        "\n",
        "fmnist_4 = Model(inputs, outputs)\n",
        "fmnist_4.summary()"
      ]
    },
    {
      "cell_type": "markdown",
      "metadata": {
        "id": "-ieaMKn-RzU_"
      },
      "source": [
        "Apply data augmentation, by adding width shift, height shift, horizontal and vertical flip, zoom, shear, and rotation. Select the values for the augmentation parameters as you wish. "
      ]
    },
    {
      "cell_type": "code",
      "execution_count": 29,
      "metadata": {
        "id": "oqlvh2AqpzZe"
      },
      "outputs": [],
      "source": [
        "datagen = ImageDataGenerator(width_shift_range=0.1, height_shift_range=0.1, vertical_flip=True,\n",
        "                             horizontal_flip=True, shear_range=0.1, zoom_range=0.1,rotation_range=0.1)"
      ]
    },
    {
      "cell_type": "markdown",
      "metadata": {
        "id": "xY9RECBaSdCf"
      },
      "source": [
        "Use the `train_test_split` function to create a validation dataset that contains 20% of the training dataset. "
      ]
    },
    {
      "cell_type": "code",
      "execution_count": 30,
      "metadata": {
        "colab": {
          "base_uri": "https://localhost:8080/"
        },
        "id": "X4-HyBnLqNQ5",
        "outputId": "ae8646a8-725f-4d3a-d8ab-1e505698d606"
      },
      "outputs": [
        {
          "output_type": "stream",
          "name": "stdout",
          "text": [
            "Training images (48000, 28, 28, 1)\n",
            "Training labels (48000, 10)\n",
            "Validation_images (12000, 28, 28, 1)\n",
            "Validation labels (12000, 10)\n"
          ]
        }
      ],
      "source": [
        "xtrain, xval, ytrain, yval = train_test_split(X_train, y_train1hot, test_size=0.2, random_state=17)\n",
        "print('Training images', xtrain.shape)\n",
        "print('Training labels', ytrain.shape)\n",
        "print('Validation_images', xval.shape)\n",
        "print('Validation labels', yval.shape)"
      ]
    },
    {
      "cell_type": "markdown",
      "metadata": {
        "id": "XbxQnDd8WTZO"
      },
      "source": [
        "Train the model using Early Stopping and show the training time."
      ]
    },
    {
      "cell_type": "code",
      "execution_count": 32,
      "metadata": {
        "id": "W37V34RlnHuR",
        "colab": {
          "base_uri": "https://localhost:8080/"
        },
        "outputId": "f64ee129-78b2-49cc-c532-61786751b9cf"
      },
      "outputs": [
        {
          "output_type": "stream",
          "name": "stdout",
          "text": [
            "Epoch 1/10\n",
            "300/300 [==============================] - 5s 14ms/step - loss: 0.2110 - accuracy: 0.9215 - val_loss: 0.2563 - val_accuracy: 0.9114\n",
            "Epoch 2/10\n",
            "300/300 [==============================] - 4s 14ms/step - loss: 0.1887 - accuracy: 0.9297 - val_loss: 0.2641 - val_accuracy: 0.9091\n",
            "Epoch 3/10\n",
            "300/300 [==============================] - 4s 14ms/step - loss: 0.1814 - accuracy: 0.9338 - val_loss: 0.2612 - val_accuracy: 0.9111\n",
            "Epoch 4/10\n",
            "300/300 [==============================] - 4s 13ms/step - loss: 0.1662 - accuracy: 0.9365 - val_loss: 0.2652 - val_accuracy: 0.9092\n",
            "Epoch 5/10\n",
            "300/300 [==============================] - 4s 13ms/step - loss: 0.1598 - accuracy: 0.9404 - val_loss: 0.2745 - val_accuracy: 0.9105\n",
            "Epoch 6/10\n",
            "300/300 [==============================] - 4s 13ms/step - loss: 0.1432 - accuracy: 0.9471 - val_loss: 0.3040 - val_accuracy: 0.9055\n",
            "Training time: 0:00:24.896602\n"
          ]
        }
      ],
      "source": [
        "now = datetime.datetime.now;t = now()\n",
        "fmnist_4.compile(optimizer='adam', loss='categorical_crossentropy', metrics = ['accuracy'])\n",
        " \n",
        "t = now()\n",
        "history4 = fmnist_4.fit(xtrain, ytrain, validation_split=0.2, batch_size=128, \n",
        "                    epochs=10, verbose=1, callbacks=[EarlyStopping(monitor='val_loss', patience = 5)])\n",
        "\n",
        "\n",
        "print('Training time: %s' % (now() - t))"
      ]
    },
    {
      "cell_type": "markdown",
      "metadata": {
        "id": "DySQ23kJWd9l"
      },
      "source": [
        "Plot the accuracy and loss curves."
      ]
    },
    {
      "cell_type": "code",
      "execution_count": 33,
      "metadata": {
        "id": "vJFu4-fvnZJF",
        "colab": {
          "base_uri": "https://localhost:8080/",
          "height": 295
        },
        "outputId": "3f5db810-0002-4b26-e7a0-fce20d5a6b90"
      },
      "outputs": [
        {
          "output_type": "display_data",
          "data": {
            "text/plain": [
              "<Figure size 864x288 with 2 Axes>"
            ],
            "image/png": "[encoded data removed]"
          },
          "metadata": {
            "needs_background": "light"
          }
        }
      ],
      "source": [
        "train_loss = history4.history['loss']\n",
        "val_loss = history4.history['val_loss']\n",
        "acc = history4.history['accuracy'] \n",
        "val_acc = history4.history['val_accuracy']\n",
        "\n",
        "epochsn = np.arange(1, len(train_loss)+1,1)\n",
        "plt.figure(figsize=(12, 4))\n",
        "\n",
        "plt.subplot(1,2,1)\n",
        "plt.plot(epochsn, acc, 'b', label='Training Accuracy')\n",
        "plt.plot(epochsn, val_acc, 'r', label='Validation Accuracy')\n",
        "plt.grid(color='gray', linestyle='--')\n",
        "plt.legend()            \n",
        "plt.title('ACCURACY')\n",
        "plt.xlabel('Epochs')\n",
        "plt.ylabel('Accuracy')\n",
        "\n",
        "plt.subplot(1,2,2)\n",
        "plt.plot(epochsn,train_loss, 'b', label='Training Loss')\n",
        "plt.plot(epochsn,val_loss, 'r', label='Validation Loss')\n",
        "plt.grid(color='gray', linestyle='--')\n",
        "plt.legend()\n",
        "plt.title('LOSS')\n",
        "plt.xlabel('Epochs')\n",
        "plt.ylabel('Loss')\n",
        "plt.show() "
      ]
    },
    {
      "cell_type": "markdown",
      "metadata": {
        "id": "1sGVVnyiWicV"
      },
      "source": [
        "Calculate the accuracy on the test dataset."
      ]
    },
    {
      "cell_type": "code",
      "execution_count": 34,
      "metadata": {
        "id": "NSsyFZeWnc71",
        "colab": {
          "base_uri": "https://localhost:8080/"
        },
        "outputId": "bff8e53e-a229-4e70-a36c-3eaf6c1fba95"
      },
      "outputs": [
        {
          "output_type": "stream",
          "name": "stdout",
          "text": [
            "313/313 [==============================] - 1s 4ms/step - loss: 0.3112 - accuracy: 0.9073\n",
            "313/313 [==============================] - 1s 2ms/step\n",
            "Classification Accuracy:  0.9072999954223633\n"
          ]
        }
      ],
      "source": [
        "evals_test = fmnist_4.evaluate(X_test, y_test1hot)\n",
        "preds = fmnist_4.predict(X_test)\n",
        "print(\"Classification Accuracy: \", evals_test[1])"
      ]
    },
    {
      "cell_type": "markdown",
      "metadata": {
        "id": "kRxLTW5Rn8FR"
      },
      "source": [
        "## 6. Saving and Loading the Model\n",
        "\n",
        "Save the latest model."
      ]
    },
    {
      "cell_type": "code",
      "execution_count": 35,
      "metadata": {
        "id": "qpkjFNILsFlQ"
      },
      "outputs": [],
      "source": [
        "fmnist_4.save('MNIST_model4.h5')"
      ]
    },
    {
      "cell_type": "markdown",
      "metadata": {
        "id": "Rs4qZigAWqBt"
      },
      "source": [
        "Load the saved model and check if the accuracy on the test set matches the one calculated previously. "
      ]
    },
    {
      "cell_type": "code",
      "execution_count": 36,
      "metadata": {
        "id": "yA36HWmRsFnN",
        "colab": {
          "base_uri": "https://localhost:8080/"
        },
        "outputId": "7016e104-579c-48b2-eaee-316c4d555e98"
      },
      "outputs": [
        {
          "output_type": "stream",
          "name": "stdout",
          "text": [
            "313/313 [==============================] - 1s 4ms/step - loss: 0.3112 - accuracy: 0.9073\n",
            "Classification Accuracy:  0.9072999954223633\n"
          ]
        }
      ],
      "source": [
        "loaded_fmnist4 = load_model('MNIST_model4.h5')\n",
        "evals_test = loaded_fmnist4.evaluate(X_test, y_test1hot)\n",
        "print(\"Classification Accuracy: \", evals_test[1])"
      ]
    },
    {
      "cell_type": "markdown",
      "metadata": {
        "id": "eNrBeVP7Y19z"
      },
      "source": [
        "What is the total number of parameters of this model? (Hint: use summary)."
      ]
    },
    {
      "cell_type": "markdown",
      "metadata": {
        "id": "n5C3c2nZmt2n"
      },
      "source": [
        "Total params: 443,818\n",
        "Trainable params: 443,370\n",
        "Non-trainable params: 448"
      ]
    },
    {
      "cell_type": "code",
      "execution_count": 37,
      "metadata": {
        "id": "P3b4O5Lba7I3",
        "colab": {
          "base_uri": "https://localhost:8080/"
        },
        "outputId": "8b65e978-6e36-49f3-e098-169a11240b30"
      },
      "outputs": [
        {
          "output_type": "stream",
          "name": "stdout",
          "text": [
            "Model: \"model_3\"\n",
            "_________________________________________________________________\n",
            " Layer (type)                Output Shape              Param #   \n",
            "=================================================================\n",
            " input_4 (InputLayer)        [(None, 28, 28, 1)]       0         \n",
            "                                                                 \n",
            " conv2d_14 (Conv2D)          (None, 28, 28, 32)        320       \n",
            "                                                                 \n",
            " conv2d_15 (Conv2D)          (None, 28, 28, 32)        9248      \n",
            "                                                                 \n",
            " batch_normalization (BatchN  (None, 28, 28, 32)       128       \n",
            " ormalization)                                                   \n",
            "                                                                 \n",
            " max_pooling2d_7 (MaxPooling  (None, 14, 14, 32)       0         \n",
            " 2D)                                                             \n",
            "                                                                 \n",
            " dropout_4 (Dropout)         (None, 14, 14, 32)        0         \n",
            "                                                                 \n",
            " conv2d_16 (Conv2D)          (None, 14, 14, 64)        18496     \n",
            "                                                                 \n",
            " conv2d_17 (Conv2D)          (None, 14, 14, 64)        36928     \n",
            "                                                                 \n",
            " batch_normalization_1 (Batc  (None, 14, 14, 64)       256       \n",
            " hNormalization)                                                 \n",
            "                                                                 \n",
            " max_pooling2d_8 (MaxPooling  (None, 7, 7, 64)         0         \n",
            " 2D)                                                             \n",
            "                                                                 \n",
            " dropout_5 (Dropout)         (None, 7, 7, 64)          0         \n",
            "                                                                 \n",
            " conv2d_18 (Conv2D)          (None, 7, 7, 128)         73856     \n",
            "                                                                 \n",
            " conv2d_19 (Conv2D)          (None, 7, 7, 128)         147584    \n",
            "                                                                 \n",
            " batch_normalization_2 (Batc  (None, 7, 7, 128)        512       \n",
            " hNormalization)                                                 \n",
            "                                                                 \n",
            " max_pooling2d_9 (MaxPooling  (None, 3, 3, 128)        0         \n",
            " 2D)                                                             \n",
            "                                                                 \n",
            " flatten_3 (Flatten)         (None, 1152)              0         \n",
            "                                                                 \n",
            " dense_8 (Dense)             (None, 128)               147584    \n",
            "                                                                 \n",
            " dropout_6 (Dropout)         (None, 128)               0         \n",
            "                                                                 \n",
            " dense_9 (Dense)             (None, 64)                8256      \n",
            "                                                                 \n",
            " dropout_7 (Dropout)         (None, 64)                0         \n",
            "                                                                 \n",
            " dense_10 (Dense)            (None, 10)                650       \n",
            "                                                                 \n",
            "=================================================================\n",
            "Total params: 443,818\n",
            "Trainable params: 443,370\n",
            "Non-trainable params: 448\n",
            "_________________________________________________________________\n"
          ]
        }
      ],
      "source": [
        "loaded_fmnist4.summary()"
      ]
    }
  ],
  "metadata": {
    "accelerator": "GPU",
    "colab": {
      "collapsed_sections": [],
      "machine_shape": "hm",
      "provenance": [],
      "include_colab_link": true
    },
    "gpuClass": "standard",
    "kernelspec": {
      "display_name": "Python 3 (ipykernel)",
      "language": "python",
      "name": "python3"
    },
    "language_info": {
      "codemirror_mode": {
        "name": "ipython",
        "version": 3
      },
      "file_extension": ".py",
      "mimetype": "text/x-python",
      "name": "python",
      "nbconvert_exporter": "python",
      "pygments_lexer": "ipython3",
      "version": "3.9.12"
    }
  },
  "nbformat": 4,
  "nbformat_minor": 0
}