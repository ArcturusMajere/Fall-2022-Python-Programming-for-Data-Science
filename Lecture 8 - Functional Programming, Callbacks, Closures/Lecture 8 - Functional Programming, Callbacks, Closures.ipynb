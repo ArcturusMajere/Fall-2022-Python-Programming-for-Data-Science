{
 "cells": [
  {
   "cell_type": "markdown",
   "metadata": {},
   "source": [
    "# Lecture 8 Advanced Python Topics: Functional Programming, Callbacks, Closures"
   ]
  },
  {
   "cell_type": "markdown",
   "metadata": {},
   "source": [
    "- [8.1 Functional Programming](#section1)\n",
    "- [8.2 Callbacks](#section2)\n",
    "- [8.3 Appendix: Closures](#section3)\n",
    "- [References](#section4)"
   ]
  },
  {
   "cell_type": "markdown",
   "metadata": {},
   "source": [
    "# 8.1 Functional Programming <a id=\"section1\"/>"
   ]
  },
  {
   "cell_type": "markdown",
   "metadata": {},
   "source": [
    "Python provides several built-in functions that are used as functional programming tools. ***Functional programming*** refers to applying functions to sequences and other iterable objects. \n",
    "\n",
    "Python is an object-oriented programming (OOP) language, built upon a programming paradigm where everything is an object, and programs are developed by defining interactions between objects. When executing statements, Python performs operations on the objects (lists, tuples, numbers, functions, classes) to achieve the desired end result.\n",
    "\n",
    "Unlike OOP, functional programming relies on a declarative programming paradigm, in which ***functions*** are at the core. Although Python is not a functional programming language, it does include several powerful functions that support this type of programming."
   ]
  },
  {
   "cell_type": "markdown",
   "metadata": {},
   "source": [
    "For instance, a typical `for` loop over a list in Python to obtain square elements of the list has the form:"
   ]
  },
  {
   "cell_type": "code",
   "execution_count": 1,
   "metadata": {},
   "outputs": [
    {
     "data": {
      "text/plain": [
       "[9, 36, 4, 81, 16]"
      ]
     },
     "execution_count": 1,
     "metadata": {},
     "output_type": "execute_result"
    }
   ],
   "source": [
    "my_list = [3, 6, 2, 9, 4]\n",
    "my_list_squared = []\n",
    "\n",
    "for item in my_list:\n",
    "    item_squared = item**2\n",
    "    my_list_squared.append(item_squared)\n",
    "    \n",
    "my_list_squared"
   ]
  },
  {
   "cell_type": "markdown",
   "metadata": {},
   "source": [
    "Alternatively, we could use a list comprehension to accomplish the same task in fewer lines of code:"
   ]
  },
  {
   "cell_type": "code",
   "execution_count": 2,
   "metadata": {},
   "outputs": [
    {
     "data": {
      "text/plain": [
       "[9, 36, 4, 81, 16]"
      ]
     },
     "execution_count": 2,
     "metadata": {},
     "output_type": "execute_result"
    }
   ],
   "source": [
    "my_list_squared = [item**2 for item in my_list]\n",
    "\n",
    "my_list_squared"
   ]
  },
  {
   "cell_type": "markdown",
   "metadata": {},
   "source": [
    "In *functional form*, using the `map()` function, the above code would have the form:"
   ]
  },
  {
   "cell_type": "code",
   "execution_count": 3,
   "metadata": {},
   "outputs": [
    {
     "data": {
      "text/plain": [
       "[9, 36, 4, 81, 16]"
      ]
     },
     "execution_count": 3,
     "metadata": {},
     "output_type": "execute_result"
    }
   ],
   "source": [
    "my_list_squared = list(map(lambda item: item**2, my_list))\n",
    "\n",
    "my_list_squared"
   ]
  },
  {
   "cell_type": "markdown",
   "metadata": {},
   "source": [
    "Important characteristic of functional programming is that it emphasizes the operations we perform, rather than the objects we perform them on. For problems where we perform many distinct operations (i.e., many functions) on a relatively limited number of objects, it may be the preferred programming paradigm."
   ]
  },
  {
   "cell_type": "markdown",
   "metadata": {},
   "source": [
    "We will next briefly explain three built-in Python functions that allow functional programming: `map`, `filter`, and `reduce`."
   ]
  },
  {
   "cell_type": "markdown",
   "metadata": {},
   "source": [
    "### map(): Mapping Functions over Iterables "
   ]
  },
  {
   "cell_type": "markdown",
   "metadata": {},
   "source": [
    "The `map` function takes another function and an iterable object (e.g., a list, set, tuple) as input, applies the function to each item in the iterable object, and returns a list containing the results. \n",
    "\n",
    "The general syntax is:\n",
    "\n",
    "    map(function, iterable[item1, item2, ..., itemN])\n",
    "\n",
    "Recall again that functions which take another function as input are referred to as ***higher-order functions***. These types of functions are central to functional programming. \n",
    "\n",
    "In this example, `map` is used to apply the `add_10()` function to each element of `list1`. The output is collected in `list2`. To display all items, we need to wrap `list2` using the `list()` function."
   ]
  },
  {
   "cell_type": "code",
   "execution_count": 4,
   "metadata": {},
   "outputs": [
    {
     "data": {
      "text/plain": [
       "[11, 12, 13, 14]"
      ]
     },
     "execution_count": 4,
     "metadata": {},
     "output_type": "execute_result"
    }
   ],
   "source": [
    "list1 = [1, 2, 3, 4]\n",
    "\n",
    "# The function add_10 simply adds 10 to a number\n",
    "def add_10(x): \n",
    "    return x + 10\n",
    "\n",
    "list2 = map(add_10, list1)\n",
    "list(list2)"
   ]
  },
  {
   "cell_type": "markdown",
   "metadata": {},
   "source": [
    "If we just enter the name `list2` we can see that it returns a map object. The map object is an iterable object, and therefore we can convert it into a list to display its content."
   ]
  },
  {
   "cell_type": "code",
   "execution_count": 5,
   "metadata": {},
   "outputs": [
    {
     "data": {
      "text/plain": [
       "<map at 0x27fdce7c438>"
      ]
     },
     "execution_count": 5,
     "metadata": {},
     "output_type": "execute_result"
    }
   ],
   "source": [
    "list2"
   ]
  },
  {
   "cell_type": "markdown",
   "metadata": {},
   "source": [
    "This example is very simple, and we could have implemented it easily by writing a `for` loop as in the following cell.  "
   ]
  },
  {
   "cell_type": "code",
   "execution_count": 6,
   "metadata": {},
   "outputs": [
    {
     "data": {
      "text/plain": [
       "[11, 12, 13, 14]"
      ]
     },
     "execution_count": 6,
     "metadata": {},
     "output_type": "execute_result"
    }
   ],
   "source": [
    "list3 = []\n",
    "for x in list1:\n",
    "    list3.append(x + 10) \n",
    "list3"
   ]
  },
  {
   "cell_type": "markdown",
   "metadata": {},
   "source": [
    "However, if the applied function is more complex than the `add_10` example, and if we have an already written function, using the built-in `map()` allows to quickly apply this function to the items in an iterable object. "
   ]
  },
  {
   "cell_type": "markdown",
   "metadata": {},
   "source": [
    "As we mentioned, `map()` is somewhat similar to list comprehensions. The equivalent code for a list comprehension that adds 10 to each list element is as follows."
   ]
  },
  {
   "cell_type": "code",
   "execution_count": 7,
   "metadata": {},
   "outputs": [
    {
     "data": {
      "text/plain": [
       "[11, 12, 13, 14]"
      ]
     },
     "execution_count": 7,
     "metadata": {},
     "output_type": "execute_result"
    }
   ],
   "source": [
    "list5 = [add_10(x) for x in list1]\n",
    "list5"
   ]
  },
  {
   "cell_type": "markdown",
   "metadata": {},
   "source": [
    "Also, instead of a user-defined function with a `def` statement and function name, it is possible to use a `lambda` expression function with `map`, as in this example."
   ]
  },
  {
   "cell_type": "code",
   "execution_count": 8,
   "metadata": {},
   "outputs": [
    {
     "data": {
      "text/plain": [
       "[6, 7, 8, 9]"
      ]
     },
     "execution_count": 8,
     "metadata": {},
     "output_type": "execute_result"
    }
   ],
   "source": [
    "# Add 5 to the numbers in list1\n",
    "list4 = map((lambda x: x + 5), list1)\n",
    "list(list4)"
   ]
  },
  {
   "cell_type": "markdown",
   "metadata": {},
   "source": [
    "As a reminder, the general syntax of the `lambda` expression function consists of the keyword `lambda`, followed by one or more arguments, followed by a colon, which is followed by an expression.\n",
    "```\n",
    "lambda argument1, argument2,... argumentN : expression using arguments\n",
    "```\n",
    "\n",
    "`lambda`’s body contains a single expression and cannot contain a block of statements, it is designed for coding simple functions, and because it allows to define functions without assigning a name is also known as *anonymous function*. "
   ]
  },
  {
   "cell_type": "markdown",
   "metadata": {},
   "source": [
    "The following example converts the items in a list from strings to integers, by applying `int()` to every item in the list. "
   ]
  },
  {
   "cell_type": "code",
   "execution_count": 9,
   "metadata": {},
   "outputs": [
    {
     "data": {
      "text/plain": [
       "[4, 8, 6, 5, 3, 2, 8, 9, 2, 5]"
      ]
     },
     "execution_count": 9,
     "metadata": {},
     "output_type": "execute_result"
    }
   ],
   "source": [
    "str_nums = [\"4\", \"8\", \"6\", \"5\", \"3\", \"2\", \"8\", \"9\", \"2\", \"5\"]\n",
    "\n",
    "int_nums = map(int, str_nums)\n",
    "list(int_nums)"
   ]
  },
  {
   "cell_type": "markdown",
   "metadata": {},
   "source": [
    "Or, suppose we have a large number of strings, which we want to concatenate with “_2022”. In data science projects, it is often needed to perform such relatively simple operations on large datasets. With `map()`, we could perform it as follows."
   ]
  },
  {
   "cell_type": "code",
   "execution_count": 10,
   "metadata": {},
   "outputs": [
    {
     "data": {
      "text/plain": [
       "['jan_2022',\n",
       " 'feb_2022',\n",
       " 'mar_2022',\n",
       " 'apr_2022',\n",
       " 'may_2022',\n",
       " 'jun_2022',\n",
       " 'jul_2022',\n",
       " 'aug_2022',\n",
       " 'sep_2022',\n",
       " 'oct_2022',\n",
       " 'nov_2022',\n",
       " 'dec_2022']"
      ]
     },
     "execution_count": 10,
     "metadata": {},
     "output_type": "execute_result"
    }
   ],
   "source": [
    "set_of_strings = ('jan', 'feb', 'mar', 'apr', 'may', 'jun', 'jul', 'aug', 'sep', 'oct', 'nov', 'dec')\n",
    "\n",
    "string_map_22 = map(lambda my_string: my_string + '_2022', set_of_strings)\n",
    "\n",
    "list(string_map_22)"
   ]
  },
  {
   "cell_type": "markdown",
   "metadata": {},
   "source": [
    "Here is another example, which splits text into words and removes punctuation marks. "
   ]
  },
  {
   "cell_type": "code",
   "execution_count": 11,
   "metadata": {},
   "outputs": [
    {
     "name": "stdout",
     "output_type": "stream",
     "text": [
      "Split words:\n",
      " ['Some', 'people,', 'when', 'confronted', 'with', 'a', 'problem,', 'think', '\"I', 'know,', \"I'll\", 'use', 'regular', 'expressions.\"', 'Now', 'they', 'have', 'two', 'problems.', 'Jamie', 'Zawinski']\n",
      "Removed punctuation:\n",
      " ['Some', 'people', 'when', 'confronted', 'with', 'a', 'problem', 'think', 'I', 'know', \"I'll\", 'use', 'regular', 'expressions', 'Now', 'they', 'have', 'two', 'problems', 'Jamie', 'Zawinski']\n"
     ]
    }
   ],
   "source": [
    "text = \"\"\"Some people, when confronted with a problem, think\n",
    "    \"I know, I'll use regular expressions.\"\n",
    "     Now they have two problems. Jamie Zawinski\"\"\"\n",
    "\n",
    "words = text.split()\n",
    "print('Split words:\\n',words)\n",
    "\n",
    "# re stands for 'regular exspression' operations\n",
    "# the libarary matches strings to a given pattern\n",
    "import re\n",
    "def remove_punctuation(word):\n",
    "    return re.sub(r'[!?.:;,\"()-]', \"\", word)\n",
    "\n",
    "words_removed_punc = map(remove_punctuation, words)\n",
    "print('Removed punctuation:\\n',list(words_removed_punc))"
   ]
  },
  {
   "cell_type": "markdown",
   "metadata": {},
   "source": [
    "Note also that is possible to pass multiple iterable objects to `map()`. In the following example, the items in the three lists are added. "
   ]
  },
  {
   "cell_type": "code",
   "execution_count": 12,
   "metadata": {},
   "outputs": [
    {
     "name": "stdout",
     "output_type": "stream",
     "text": [
      "[15, 18, 21]\n"
     ]
    }
   ],
   "source": [
    "num1 = [4, 5, 6]\n",
    "num2 = [5, 6, 7]\n",
    "num3 = [6, 7, 8]\n",
    "\n",
    "result = map(lambda n1, n2, n3: n1+n2+n3, num1, num2, num3)\n",
    "print(list(result))"
   ]
  },
  {
   "cell_type": "markdown",
   "metadata": {},
   "source": [
    "Because `map()` applies a function call to each item in the list, it is a somewhat less general tool than a list comprehension, and it often requires to define extra helper functions or `lambda` functions."
   ]
  },
  {
   "cell_type": "markdown",
   "metadata": {},
   "source": [
    "### filter(): Selecting Items in Iterables"
   ]
  },
  {
   "cell_type": "markdown",
   "metadata": {},
   "source": [
    "Similar to `map()`, `filter()` selects items in an iterable object, but based on a test function. The test function should output a Boolean object True or False, and it defines the filter conditions. `filter()` returns a subset of the input data that meets the conditions.\n",
    "\n",
    "For example, the following `filter()` function picks out items in a sequence that are greater than zero."
   ]
  },
  {
   "cell_type": "code",
   "execution_count": 13,
   "metadata": {},
   "outputs": [
    {
     "name": "stdout",
     "output_type": "stream",
     "text": [
      "[-10, -9, -8, -7, -6, -5, -4, -3, -2, -1, 0, 1, 2, 3, 4, 5, 6, 7, 8, 9]\n"
     ]
    },
    {
     "data": {
      "text/plain": [
       "[1, 2, 3, 4, 5, 6, 7, 8, 9]"
      ]
     },
     "execution_count": 13,
     "metadata": {},
     "output_type": "execute_result"
    }
   ],
   "source": [
    "list1 = range(-10, 10)\n",
    "print(list(list1))\n",
    "\n",
    "list2 = filter((lambda x: x > 0), list1)\n",
    "list(list2)"
   ]
  },
  {
   "cell_type": "markdown",
   "metadata": {},
   "source": [
    "Like `map()`, the `filter()` function can be easily implemented in a `for()` loop, but it is built-in, concise, and often faster than a `for()` loop."
   ]
  },
  {
   "cell_type": "markdown",
   "metadata": {},
   "source": [
    "A list comprehension can also be used in place of the `filter()` function. "
   ]
  },
  {
   "cell_type": "code",
   "execution_count": 14,
   "metadata": {},
   "outputs": [
    {
     "data": {
      "text/plain": [
       "[1, 2, 3, 4, 5, 6, 7, 8, 9]"
      ]
     },
     "execution_count": 14,
     "metadata": {},
     "output_type": "execute_result"
    }
   ],
   "source": [
    "list3 = [x for x in range(-10, 10) if x > 0]\n",
    "list3"
   ]
  },
  {
   "cell_type": "markdown",
   "metadata": {},
   "source": [
    "In the next example, the method `str.identifier()` is used to validate iterables containing numeric and special characters. This example is used to validate if the items are valid Python names (e.g., of variables)."
   ]
  },
  {
   "cell_type": "code",
   "execution_count": 18,
   "metadata": {},
   "outputs": [
    {
     "data": {
      "text/plain": [
       "['variable', 'header', '_non_public']"
      ]
     },
     "execution_count": 18,
     "metadata": {},
     "output_type": "execute_result"
    }
   ],
   "source": [
    "words = [\"variable\", \"file#\", \"header\", \"_non_public\", \"123Class\"]\n",
    "\n",
    "list(filter(str.isidentifier, words))"
   ]
  },
  {
   "cell_type": "markdown",
   "metadata": {},
   "source": [
    "### reduce(): Combining Items in Iterables"
   ]
  },
  {
   "cell_type": "markdown",
   "metadata": {},
   "source": [
    "The `reduce()` function needs to be imported from the `functools` module. It applies a function to pairs of items in an iterable object, and differently from `map()` and `filter()`, it returns a single result, and not a list or another iterable object. \n",
    "\n",
    "Let's see an example for summing the items in the list `list1`. The function `lambda` adds 1+2=3, then adds 3+3=6, and then adds 6+4=10. That is, it progressively sums pairs of items in the list `[1, 2, 3, 4]`."
   ]
  },
  {
   "cell_type": "code",
   "execution_count": 19,
   "metadata": {},
   "outputs": [
    {
     "data": {
      "text/plain": [
       "10"
      ]
     },
     "execution_count": 19,
     "metadata": {},
     "output_type": "execute_result"
    }
   ],
   "source": [
    "from functools import reduce\n",
    "list1 = [1, 2, 3, 4]\n",
    "res1 = reduce((lambda x, y: x + y), list1)\n",
    "res1"
   ]
  },
  {
   "cell_type": "markdown",
   "metadata": {},
   "source": [
    "The above code with the `reduce()` function is similar to the following function `my_reduce()`. It stores the sum of two items, and in each iteration, it adds the next item to the sum. "
   ]
  },
  {
   "cell_type": "code",
   "execution_count": 20,
   "metadata": {},
   "outputs": [
    {
     "data": {
      "text/plain": [
       "6"
      ]
     },
     "execution_count": 20,
     "metadata": {},
     "output_type": "execute_result"
    }
   ],
   "source": [
    "def my_reduce(sequence):\n",
    "    result = sequence[0]\n",
    "    for x in sequence[1:]:\n",
    "        result = result+x\n",
    "    return result\n",
    "\n",
    "my_reduce([1, 2, 3])"
   ]
  },
  {
   "cell_type": "markdown",
   "metadata": {},
   "source": [
    "By default, the starting value in `reduce()` is initialized to the first item in the list. It is possible to initialize to an arbitrary value, as in the next example."
   ]
  },
  {
   "cell_type": "code",
   "execution_count": 21,
   "metadata": {},
   "outputs": [
    {
     "data": {
      "text/plain": [
       "110"
      ]
     },
     "execution_count": 21,
     "metadata": {},
     "output_type": "execute_result"
    }
   ],
   "source": [
    "# this is equivalent to 100+1+2+3+4\n",
    "res1 = reduce((lambda x, y: x + y), list1, 100)\n",
    "res1"
   ]
  },
  {
   "cell_type": "markdown",
   "metadata": {},
   "source": [
    "The function that is applied to the iterable in `reduce()` does not have to be a summation, and it can be an arbitrary function. In this example, the items in the list are multiplied, 1\\*2\\*3\\*4 = 24."
   ]
  },
  {
   "cell_type": "code",
   "execution_count": 22,
   "metadata": {},
   "outputs": [
    {
     "data": {
      "text/plain": [
       "24"
      ]
     },
     "execution_count": 22,
     "metadata": {},
     "output_type": "execute_result"
    }
   ],
   "source": [
    "reduce((lambda x, y: x * y), [1, 2, 3, 4])"
   ]
  },
  {
   "cell_type": "markdown",
   "metadata": {},
   "source": [
    "In the next example, `reduce()` is used to find the minimum and maximum values in a list. "
   ]
  },
  {
   "cell_type": "code",
   "execution_count": 23,
   "metadata": {},
   "outputs": [],
   "source": [
    "# Minimum\n",
    "def my_min_func(a, b):\n",
    "    return a if a < b else b\n",
    "\n",
    "# Maximum\n",
    "def my_max_func(a, b):\n",
    "    return a if a > b else b"
   ]
  },
  {
   "cell_type": "code",
   "execution_count": 24,
   "metadata": {},
   "outputs": [
    {
     "data": {
      "text/plain": [
       "1"
      ]
     },
     "execution_count": 24,
     "metadata": {},
     "output_type": "execute_result"
    }
   ],
   "source": [
    "list2 = [3, 5, 2, 4, 7, 1]\n",
    "\n",
    "reduce(my_min_func, list2)"
   ]
  },
  {
   "cell_type": "code",
   "execution_count": 25,
   "metadata": {},
   "outputs": [
    {
     "data": {
      "text/plain": [
       "7"
      ]
     },
     "execution_count": 25,
     "metadata": {},
     "output_type": "execute_result"
    }
   ],
   "source": [
    "reduce(my_max_func, list2)"
   ]
  },
  {
   "cell_type": "markdown",
   "metadata": {},
   "source": [
    "Finding the minimum is eqiuvalent to:"
   ]
  },
  {
   "cell_type": "code",
   "execution_count": 26,
   "metadata": {},
   "outputs": [
    {
     "data": {
      "text/plain": [
       "1"
      ]
     },
     "execution_count": 26,
     "metadata": {},
     "output_type": "execute_result"
    }
   ],
   "source": [
    "reduce(lambda a, b: a if a < b else b, list2)"
   ]
  },
  {
   "cell_type": "markdown",
   "metadata": {},
   "source": [
    "In summary, although Python is primarily an object-oriented language, the three higher-order functions `map()`, `filter()`, and `reduce()`  allow utilizing functional programming concepts in Python. \n",
    "\n",
    "Functional programming has several potential benefits over OOP. Namely, each function represents a standalone piece of code. It takes input, transforms it, and outputs it. This concise and modular structure often eases debugging and maintenance. \n",
    "\n",
    "Functional programming may be preferable when working with many data operations and few objects (e.g., a relatively small number of variables). In contrast, OOP often works better when there are many objects but relatively few operations. Keep in mind that both often get the job done, and that many programming languages incorporate elements of both.\n",
    "\n",
    "Although gaining popularity, functional languages such as LISP or Haskell have limited adoption compared to widespread OOP languages such as Python or C++. However, OOP languages increasingly incorporate elements of functional programming, so that comparable structures can be applied.\n",
    "\n",
    "Regarding the question \"when to use functional programming in Python?\", as we mentioned, there are cases when functional programming is more appropriate to use. On the other hand, list comprehensions are often faster than the functional tools, as well as NumPy functions are typically superior for array operations. "
   ]
  },
  {
   "cell_type": "markdown",
   "metadata": {},
   "source": [
    "# 8.2 Callbacks <a id=\"section2\"/>"
   ]
  },
  {
   "cell_type": "markdown",
   "metadata": {},
   "source": [
    "In the lecture on decorators, we learned that decorators allow customized operations to be performed before and after the execution of another function. What if we would like to perform some operations during the execution of another function, based on some conditions? Instead of writing a collection of if-statements and making the functions bulky, we can use callbacks for this task. \n",
    "\n",
    "> ***Callbacks*** are functions that allow for conditional/situational processing within another function.\n",
    "\n",
    "Callbacks are implemented as classes that have methods with key names that will execute at various periods during the execution of the main function. These names need to invoke the same callback functions within the main function.\n",
    "\n",
    "In the following example, the class `X_tracker` has two methods named `at_start()` and `at_end()`. In this case, these two methods simply append the value of `x` to the `history` attribute. These methods are called in the main function `operations()` using `callback.at_start()` and `callback.at_end()`. Therefore, they append the value of `x` at the start and end of the `operations` function, and in the mid of `operations` the value of `x` is increased by 1. "
   ]
  },
  {
   "cell_type": "code",
   "execution_count": 27,
   "metadata": {},
   "outputs": [],
   "source": [
    "# Callback\n",
    "class X_tracker():\n",
    "    def __init__(self, x):\n",
    "        self.history = []\n",
    "    def at_start(self, x):\n",
    "        self.history.append(x)\n",
    "    def at_end(self, x):\n",
    "        self.history.append(x)\n",
    "\n",
    "# Main function\n",
    "def operations(x, callbacks=[]):\n",
    "    for callback in callbacks:\n",
    "        callback.at_start(x)\n",
    "    x += 1\n",
    "    for callback in callbacks:\n",
    "        callback.at_end(x)\n",
    "    return x"
   ]
  },
  {
   "cell_type": "code",
   "execution_count": 28,
   "metadata": {},
   "outputs": [
    {
     "data": {
      "text/plain": [
       "[]"
      ]
     },
     "execution_count": 28,
     "metadata": {},
     "output_type": "execute_result"
    }
   ],
   "source": [
    "# Create a new class instance named 'tracker_1'\n",
    "x = 1\n",
    "tracker1 = X_tracker(x)\n",
    "tracker1.history  # the attribute tracker_1.history is initially set to an empty list []"
   ]
  },
  {
   "cell_type": "code",
   "execution_count": 29,
   "metadata": {},
   "outputs": [
    {
     "data": {
      "text/plain": [
       "2"
      ]
     },
     "execution_count": 29,
     "metadata": {},
     "output_type": "execute_result"
    }
   ],
   "source": [
    "# call the main function 'operations', by using tracker_1 as a callback\n",
    "# operations returns the value of x\n",
    "operations(x, callbacks=[tracker1])"
   ]
  },
  {
   "cell_type": "code",
   "execution_count": 30,
   "metadata": {},
   "outputs": [
    {
     "data": {
      "text/plain": [
       "[1, 2]"
      ]
     },
     "execution_count": 30,
     "metadata": {},
     "output_type": "execute_result"
    }
   ],
   "source": [
    "# after `tracker_1.at_start` the history will be [1], then x = 2, and after 'tracker_1.at_end' the history will be [1, 2]\n",
    "tracker1.history"
   ]
  },
  {
   "cell_type": "markdown",
   "metadata": {},
   "source": [
    "We can pass in as many callbacks as we want, and they can be invoked at different times during the execution of the main function."
   ]
  },
  {
   "cell_type": "markdown",
   "metadata": {},
   "source": [
    "Callbacks are extensively used in machine learning libraries, usually to perform actions at various stages of training (e.g., at the start or end of an epoch, before or after processing a single batch, etc.). For instance, the Early Stopping callback can be set to evaluate the loss at the end of each epoch and if the loss doesn't decrease for a certain number of epochs, it can be used to terminate the training. \n",
    "\n",
    "Other actions that callbacks commonly perform in machine learning libraries include writing logs after every batch of training data to monitor a set of performance metrics, saving the model to the disk after a certain number of epochs, obtaining a view of the internal states of the model and relevant statistics during training, etc. Most ML libraries provide a callback class which allows users to create custom callbacks. "
   ]
  },
  {
   "cell_type": "markdown",
   "metadata": {},
   "source": [
    "The next cell shows a callback for saving the weights of a model in Keras. The callback monitors the loss value at the end of each epoch and stores the model weights only if the loss has decreased. The loss value is read from the logs dictionary (`logs.get(\"loss\")`), which stores the metrics at the end of each batch and epoch. The last line accesses the model by using `self.model.get_weights()`."
   ]
  },
  {
   "cell_type": "code",
   "execution_count": 32,
   "metadata": {},
   "outputs": [],
   "source": [
    "import tensorflow\n",
    "\n",
    "class CheckpointCallback(tensorflow.keras.callbacks.Callback):\n",
    "\n",
    "    def __init__(self):\n",
    "        super().__init__()\n",
    "        self.best_weights = None                # initial model weights set to None \n",
    "\n",
    "    def on_train_begin(self, logs=None):\n",
    "        self.best_loss = np.Inf                 # initial value of the best loss is set to infinity\n",
    "\n",
    "    def on_epoch_end(self, epoch, logs=None):   # if the loss lower than best loss, save the model\n",
    "        current_loss = logs.get(\"loss\")\n",
    "        if np.less(current_loss, self.best_loss):      \n",
    "            self.best_loss = current_loss\n",
    "            self.best_weights = self.model.get_weights()"
   ]
  },
  {
   "cell_type": "markdown",
   "metadata": {},
   "source": [
    "The callback is used during the training. In Keras. the function `model.fit()` trains the model using the data x_train and y_train.\n",
    "    \n",
    "    model.fit(x_train,\n",
    "              y_train,\n",
    "              batch_size=32,\n",
    "              epochs=50,\n",
    "              callbacks=[CheckpointCallback()])       # callback is called"
   ]
  },
  {
   "cell_type": "markdown",
   "metadata": {},
   "source": [
    "# 8.3 Appendix (not required for quizzes and assignments) <a id=\"section3\"/>\n",
    "\n",
    "# Closures"
   ]
  },
  {
   "cell_type": "markdown",
   "metadata": {},
   "source": [
    "When we learned about decorators in Python, we mentioned that Python allows to define functions inside another function, as in the following example. Here, the function `display()` is called an ***inner function*** or ***nested function*** or ***enclosed function***. The function `say()` is called an ***outer function*** or ***enclosing function***."
   ]
  },
  {
   "cell_type": "code",
   "execution_count": 33,
   "metadata": {},
   "outputs": [],
   "source": [
    "def say():\n",
    "    greeting = 'Hello'\n",
    "\n",
    "    def display():\n",
    "        print(greeting)\n",
    "\n",
    "    display()"
   ]
  },
  {
   "cell_type": "code",
   "execution_count": 34,
   "metadata": {},
   "outputs": [
    {
     "name": "stdout",
     "output_type": "stream",
     "text": [
      "Hello\n"
     ]
    }
   ],
   "source": [
    "say()"
   ]
  },
  {
   "cell_type": "markdown",
   "metadata": {},
   "source": [
    "In the above case, the `display()` function accesses the variable `greeting` having the value `Hello` from its ***nonlocal scope***, meaning that `greeting` is not defined inside the function `display()` but it is defined in the outer function that encloses `display()`. As we mentioned in the lecture on functions, in Python inner functions can access the variables of the outer enclosing functions. The names defined in an outer function are also referred to as *nonlocal names*."
   ]
  },
  {
   "cell_type": "markdown",
   "metadata": {},
   "source": [
    "We also mentioned that a function in Python can return a value which is another function. In the next cell, the `say()` function returns the `display` function instead of calling it with parentheses `display()` and executing it. "
   ]
  },
  {
   "cell_type": "code",
   "execution_count": 35,
   "metadata": {},
   "outputs": [],
   "source": [
    "def say():\n",
    "    greeting = 'Hello'\n",
    "\n",
    "    def display():\n",
    "        print(greeting)\n",
    "\n",
    "    return display   "
   ]
  },
  {
   "cell_type": "markdown",
   "metadata": {},
   "source": [
    "The combination of the inner function `display()` function and the `greeting` variable shown in the above code is called ***closure***. \n",
    "\n",
    "<img style=\"float: left; height:140px; width:auto\" src=\"images/pic1.png\">"
   ]
  },
  {
   "cell_type": "markdown",
   "metadata": {},
   "source": [
    "The three criteria for a closure are:\n",
    "\n",
    "- There is a nested function, enclosed within an outer function.\n",
    "- The nested function refers to a variable defined in the outer function.\n",
    "- The outer function returns the nested function."
   ]
  },
  {
   "cell_type": "markdown",
   "metadata": {},
   "source": [
    "If we call the outer function `say()`, we can see that this time Python displays that it is a function."
   ]
  },
  {
   "cell_type": "code",
   "execution_count": 36,
   "metadata": {},
   "outputs": [
    {
     "data": {
      "text/plain": [
       "<function __main__.say.<locals>.display()>"
      ]
     },
     "execution_count": 36,
     "metadata": {},
     "output_type": "execute_result"
    }
   ],
   "source": [
    "say()"
   ]
  },
  {
   "cell_type": "markdown",
   "metadata": {},
   "source": [
    "In the displayed name, `__main__` is the name of the top-level environment, which is this Jupyter Notebook in which the function exists. Instead, if the function `say()` was imported from another module, `__main__` will be replaced with the name of that module. After `__main__` follows the function name as an attribute, which is followed by `<locals>` which lists the name of the nested function `display()`."
   ]
  },
  {
   "cell_type": "markdown",
   "metadata": {},
   "source": [
    "In the next cell, the call to the outer function `say()` is assigned to the name `fn`. When `fn` is called, it displays the message `Hello`."
   ]
  },
  {
   "cell_type": "code",
   "execution_count": 37,
   "metadata": {},
   "outputs": [
    {
     "name": "stdout",
     "output_type": "stream",
     "text": [
      "Hello\n"
     ]
    }
   ],
   "source": [
    "fn = say()\n",
    "fn()"
   ]
  },
  {
   "cell_type": "code",
   "execution_count": 38,
   "metadata": {},
   "outputs": [
    {
     "name": "stdout",
     "output_type": "stream",
     "text": [
      "Hello\n"
     ]
    }
   ],
   "source": [
    "fn()"
   ]
  },
  {
   "cell_type": "markdown",
   "metadata": {},
   "source": [
    "It is important to note that after `say()` is called and executed, and all its variables go out of scope, when we call `fn()`, the value `Hello` passed to `fn` is still remembered. Since the `greeting` variable belongs to the scope of the `say()` function, it should have been destroyed after the function was executed, but it wasn't. Therefore, `fn` allows to access variables and objects after the enclosing function has been executed. \n",
    "\n",
    "> A *closure* is a nested function that references one or more variables from its enclosing scope, and the nested function is returned by the enclosing function. \n",
    "\n",
    "To enable closures to have access to the variables and names defined in the enclosing scope, Python creates an intermediary object called a `cell`. In the figure below, the cell provides a reference to the value `Hello` each time when `fn` is called.\n",
    "\n",
    "<img style=\"float: left; height:200px; width:auto\" src=\"images/pic2.png\">"
   ]
  },
  {
   "cell_type": "markdown",
   "metadata": {},
   "source": [
    "To find the memory address of the cell object, we can use the `__closure__` property as follows."
   ]
  },
  {
   "cell_type": "code",
   "execution_count": 39,
   "metadata": {},
   "outputs": [
    {
     "name": "stdout",
     "output_type": "stream",
     "text": [
      "(<cell at 0x0000027FF42617C8: str object at 0x0000027FDCE7C650>,)\n"
     ]
    }
   ],
   "source": [
    "print(fn.__closure__)"
   ]
  },
  {
   "cell_type": "markdown",
   "metadata": {},
   "source": [
    "Note that the `__closure__` property returns a tuple of cells. In this example, the memory address of the cell is 0x0000027FF42617C8. It references the string object `Hello` at 0x0000027FDCE7C650. This allows to access the string object when the `say()` function was out of scope.\n",
    "\n",
    "We can think of closure as a function and an extended scope that contains free variables. To find the free variables that a closure contains, we can use the `__code__.co_freevars` property."
   ]
  },
  {
   "cell_type": "code",
   "execution_count": 40,
   "metadata": {},
   "outputs": [
    {
     "name": "stdout",
     "output_type": "stream",
     "text": [
      "('greeting',)\n"
     ]
    }
   ],
   "source": [
    "print(fn.__code__.co_freevars)"
   ]
  },
  {
   "cell_type": "markdown",
   "metadata": {},
   "source": [
    "The general syntax of closure is as follows."
   ]
  },
  {
   "cell_type": "code",
   "execution_count": 41,
   "metadata": {},
   "outputs": [
    {
     "name": "stdout",
     "output_type": "stream",
     "text": [
      "Hello\n"
     ]
    }
   ],
   "source": [
    "# the enclosing function\n",
    "def outerFunc():\n",
    "    \n",
    "    # variable defined in the enclosing function\n",
    "    msg = 'Hello'\n",
    "    \n",
    "    # the nested function\n",
    "    def innerFunc():\n",
    "        # accessing outer function’s variable from inner function\n",
    "        print(msg)\n",
    "    \n",
    "    return innerFunc\n",
    "\n",
    "# calling the enclosing function\n",
    "demoFunc = outerFunc()\n",
    "demoFunc()"
   ]
  },
  {
   "cell_type": "markdown",
   "metadata": {},
   "source": [
    "Consider one more example, which defines a function called `multiplier`."
   ]
  },
  {
   "cell_type": "code",
   "execution_count": 42,
   "metadata": {},
   "outputs": [],
   "source": [
    "def multiplier(x):\n",
    "    \n",
    "    def multiply(y):\n",
    "        return x * y\n",
    "    \n",
    "    return multiply"
   ]
  },
  {
   "cell_type": "markdown",
   "metadata": {},
   "source": [
    "Let's call the multiplier function three times. These function calls create three closures m1, m2, and m3."
   ]
  },
  {
   "cell_type": "code",
   "execution_count": 43,
   "metadata": {},
   "outputs": [],
   "source": [
    "m1 = multiplier(1)\n",
    "m2 = multiplier(2)\n",
    "m3 = multiplier(3)"
   ]
  },
  {
   "cell_type": "code",
   "execution_count": 44,
   "metadata": {},
   "outputs": [
    {
     "name": "stdout",
     "output_type": "stream",
     "text": [
      "(<cell at 0x0000027FF42619D8: int object at 0x000000005816B0E0>,)\n"
     ]
    }
   ],
   "source": [
    "print(m1.__closure__)"
   ]
  },
  {
   "cell_type": "code",
   "execution_count": 45,
   "metadata": {},
   "outputs": [
    {
     "name": "stdout",
     "output_type": "stream",
     "text": [
      "('x',)\n"
     ]
    }
   ],
   "source": [
    "print(m1.__code__.co_freevars)"
   ]
  },
  {
   "cell_type": "markdown",
   "metadata": {},
   "source": [
    "If we execute the closures, we can see that each returns a different value. "
   ]
  },
  {
   "cell_type": "code",
   "execution_count": 46,
   "metadata": {},
   "outputs": [
    {
     "name": "stdout",
     "output_type": "stream",
     "text": [
      "10\n",
      "20\n",
      "30\n"
     ]
    }
   ],
   "source": [
    "print(m1(10))\n",
    "print(m2(10))\n",
    "print(m3(10))"
   ]
  },
  {
   "cell_type": "markdown",
   "metadata": {},
   "source": [
    "When and why to use closures in Python?\n",
    "\n",
    "- To replace the unnecessary use of classes. For instance, we have a class that contains just one method besides the `__init__()` constructor method. In such cases, it is often preferred to use a closure instead of a class.\n",
    "- To avoid the use of the global scope. If we have global variables used by only one function in the program, closure is preferred. That is, define the variables in the outer function, and use them in the inner function.\n",
    "- To implement data hiding and name clashing, since the only way to access the inner function is by calling it, and there is no other way to access the inner function directly.\n",
    "- To remember a function environment even after it completes its execution. We can then access the variables of this environment later in the program."
   ]
  },
  {
   "cell_type": "markdown",
   "metadata": {},
   "source": [
    "# References <a id=\"section4\"/>\n",
    "\n",
    "1. Mark Lutz, \"Learning Python,\" 5-th edition, O-Reilly, 2013. ISBN: 978-1-449-35573-9.\n",
    "2. Wouter van Heeswijk, \"Python’s Map(), Filter(), and Reduce() Functions Explained,\" available at: [https://towardsdatascience.com/pythons-map-filter-and-reduce-functions-explained-2b3817a94639](https://towardsdatascience.com/pythons-map-filter-and-reduce-functions-explained-2b3817a94639).\n",
    "3. Python - Made with ML, Goku Mohandas, codes available at: [https://madewithml.com/](https://madewithml.com/).\n",
    "4. Python Classes and Their Use in Keras, Jason Brownlee, available at: [https://machinelearningmastery.com/python-classes-and-their-use-in-keras/](https://machinelearningmastery.com/python-classes-and-their-use-in-keras/).\n",
    "5. Python Tutorial, Python Closures, available at: [https://www.pythontutorial.net/advanced-python/python-closures/](https://www.pythontutorial.net/advanced-python/python-closures/)\n"
   ]
  }
 ],
 "metadata": {
  "kernelspec": {
   "display_name": "Python 3",
   "language": "python",
   "name": "python3"
  },
  "language_info": {
   "codemirror_mode": {
    "name": "ipython",
    "version": 3
   },
   "file_extension": ".py",
   "mimetype": "text/x-python",
   "name": "python",
   "nbconvert_exporter": "python",
   "pygments_lexer": "ipython3",
   "version": "3.6.8"
  }
 },
 "nbformat": 4,
 "nbformat_minor": 4
}
