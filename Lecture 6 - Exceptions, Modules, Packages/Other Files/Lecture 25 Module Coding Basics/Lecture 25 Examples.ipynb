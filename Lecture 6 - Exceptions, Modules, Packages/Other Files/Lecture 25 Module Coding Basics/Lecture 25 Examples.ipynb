{
 "cells": [
  {
   "cell_type": "markdown",
   "metadata": {},
   "source": [
    "# Lecture 25 Examples"
   ]
  },
  {
   "cell_type": "markdown",
   "metadata": {},
   "source": [
    "There are no exercises for this lecture. Provided below are several examples of codes that demonstrate the use of standard library modules."
   ]
  },
  {
   "cell_type": "markdown",
   "metadata": {},
   "source": [
    "## Example 1\n",
    "\n",
    "The `random` module is used for creating random numbers, or in this example, it is used to randomly shuffle the items in a list."
   ]
  },
  {
   "cell_type": "code",
   "execution_count": 1,
   "metadata": {},
   "outputs": [
    {
     "name": "stdout",
     "output_type": "stream",
     "text": [
      "Enter things to mix, and press Enter without typing anything when you're done.\n"
     ]
    },
    {
     "name": "stdin",
     "output_type": "stream",
     "text": [
      "Next thing:  4\n",
      "Next thing:  1\n",
      "Next thing:  5\n",
      "Next thing:  3\n",
      "Next thing:  6\n",
      "Next thing:  \n"
     ]
    },
    {
     "name": "stdout",
     "output_type": "stream",
     "text": [
      "After mixing:\n",
      "4\n",
      "3\n",
      "1\n",
      "6\n",
      "5\n"
     ]
    }
   ],
   "source": [
    "import random\n",
    "\n",
    "print(\"Enter things to mix, and press Enter without typing\",\n",
    "      \"anything when you're done.\")\n",
    "\n",
    "things = []\n",
    "while True:\n",
    "    thing = input(\"Next thing: \")\n",
    "    if thing == \"\":\n",
    "        break\n",
    "    things.append(thing)\n",
    "\n",
    "random.shuffle(things)\n",
    "\n",
    "print(\"After mixing:\")\n",
    "for thing in things:\n",
    "    print(thing)"
   ]
  },
  {
   "cell_type": "markdown",
   "metadata": {},
   "source": [
    "## Example 2\n",
    "\n",
    "The standard module `time` allows measuring the time between events. In this cell, it measures the time "
   ]
  },
  {
   "cell_type": "code",
   "execution_count": 2,
   "metadata": {},
   "outputs": [
    {
     "name": "stdin",
     "output_type": "stream",
     "text": [
      "What is 1 + 2?  3\n"
     ]
    },
    {
     "name": "stdout",
     "output_type": "stream",
     "text": [
      "Correct! That took 2.79 seconds.\n"
     ]
    }
   ],
   "source": [
    "import time\n",
    "\n",
    "start = time.time()\n",
    "answer = input(\"What is 1 + 2? \")\n",
    "end = time.time()\n",
    "difference = end - start\n",
    "\n",
    "if answer == '3':\n",
    "    print(\"Correct! That took %.2f seconds.\" % difference)\n",
    "else:\n",
    "    print(\"That's not correct...\")"
   ]
  },
  {
   "cell_type": "markdown",
   "metadata": {},
   "source": [
    "## Example 3\n",
    "\n",
    "In this example, the `time` module is used to measure the time entered by the user. The standard module `sys` is also used to raise an exception is the entered time is negative."
   ]
  },
  {
   "cell_type": "code",
   "execution_count": 4,
   "metadata": {},
   "outputs": [
    {
     "name": "stdin",
     "output_type": "stream",
     "text": [
      "How long do you want to wait in seconds?  3\n"
     ]
    },
    {
     "name": "stdout",
     "output_type": "stream",
     "text": [
      "Waiting...\n",
      "Done!\n"
     ]
    }
   ],
   "source": [
    "import sys\n",
    "import time\n",
    "\n",
    "answer = input(\"How long do you want to wait in seconds? \")\n",
    "waitingtime = float(answer)\n",
    "if waitingtime < 0:\n",
    "    print(\"Error: cannot wait a negative time.\", file=sys.stderr)\n",
    "    sys.exit(1)\n",
    "\n",
    "print(\"Waiting...\")\n",
    "time.sleep(waitingtime)\n",
    "print(\"Done!\")"
   ]
  },
  {
   "cell_type": "markdown",
   "metadata": {},
   "source": [
    "## Example 4\n",
    " \n",
    "This example uses the `os` module to get the current working directory with `os.getcwd()` and afterward check if entered name is a file, folder, or name that does not exist."
   ]
  },
  {
   "cell_type": "code",
   "execution_count": 5,
   "metadata": {},
   "outputs": [
    {
     "name": "stdout",
     "output_type": "stream",
     "text": [
      "You are currently in C:\\Users\\Alex\\Documents\\Codes\\My Folder 2020\\Libraries\\Module 7.\n"
     ]
    },
    {
     "name": "stdin",
     "output_type": "stream",
     "text": [
      "A path, or nothing at all to quit:  images\n"
     ]
    },
    {
     "name": "stdout",
     "output_type": "stream",
     "text": [
      "It's a folder!\n"
     ]
    },
    {
     "name": "stdin",
     "output_type": "stream",
     "text": [
      "A path, or nothing at all to quit:  modules\n"
     ]
    },
    {
     "name": "stderr",
     "output_type": "stream",
     "text": [
      "I can't find it :(\n"
     ]
    },
    {
     "name": "stdin",
     "output_type": "stream",
     "text": [
      "A path, or nothing at all to quit:  \n"
     ]
    },
    {
     "ename": "SystemExit",
     "evalue": "",
     "output_type": "error",
     "traceback": [
      "An exception has occurred, use %tb to see the full traceback.\n",
      "\u001b[1;31mSystemExit\u001b[0m\n"
     ]
    }
   ],
   "source": [
    "import os\n",
    "import sys\n",
    "\n",
    "print(\"You are currently in %s.\" % os.getcwd())\n",
    "\n",
    "while True:\n",
    "    path = input(\"A path, or nothing at all to quit: \")\n",
    "    if path == '':\n",
    "        # We could just break out of the loop, but \n",
    "        # this can be done with sys.exit. The difference is that\n",
    "        # break only breaks the innermost loop it is in, and\n",
    "        # sys.exit ends the whole program.\n",
    "        sys.exit()\n",
    "    if os.path.isfile(path):\n",
    "        print(\"It's a file!\")\n",
    "    elif os.path.isdir(path):\n",
    "        print(\"It's a folder!\")\n",
    "    elif os.path.exists(path):\n",
    "        # i have no idea when this code would actually run\n",
    "        print(\"Interesting, it exists but it's not a file or a folder.\")\n",
    "    else:\n",
    "        print(\"I can't find it :(\", file=sys.stderr)"
   ]
  }
 ],
 "metadata": {
  "kernelspec": {
   "display_name": "Python 3",
   "language": "python",
   "name": "python3"
  },
  "language_info": {
   "codemirror_mode": {
    "name": "ipython",
    "version": 3
   },
   "file_extension": ".py",
   "mimetype": "text/x-python",
   "name": "python",
   "nbconvert_exporter": "python",
   "pygments_lexer": "ipython3",
   "version": "3.6.8"
  }
 },
 "nbformat": 4,
 "nbformat_minor": 2
}
