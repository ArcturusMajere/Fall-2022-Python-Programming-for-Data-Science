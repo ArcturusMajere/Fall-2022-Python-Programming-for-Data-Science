{
 "cells": [
  {
   "cell_type": "markdown",
   "metadata": {},
   "source": [
    "# Lecture 25 Module Coding Basics"
   ]
  },
  {
   "cell_type": "markdown",
   "metadata": {},
   "source": [
    "In this lecture, we will continue studying modules in Python, we will explain in more detail how the `import` and `from` statements work, and we will cover other related topics.\n",
    "\n",
    "The subsections in the lecture include:\n",
    "- [Module Creation](#section1)\n",
    "- [The `import` Statement](#section2)\n",
    "- [The `from` Statement](#section3)\n",
    "- [Module Namespaces](#section4)\n",
    "- [Reloading Modules](#section5)\n",
    "- [Modules Usage Modes: `__name__` and `__main__`](#section6)"
   ]
  },
  {
   "cell_type": "markdown",
   "metadata": {},
   "source": [
    "## Module Creation <a id=\"section1\"/>"
   ]
  },
  {
   "cell_type": "markdown",
   "metadata": {},
   "source": [
    "As we explained in the previous lecture, every Python file with code is referred to as a ***module***.\n",
    "\n",
    "To create modules, we don’t need to write special syntax to tell Python that we are making a module. We can simply use any text editor to type Python code into a text file, and save it with a `.py` extension; any such file is automatically considered a Python module. \n",
    "\n",
    "For example, I have created a simple file called `my_module.py` that is saved in the same directory as this jupyter notebook. The module does not do anything useful, it just defines a few names and print a few statements, but it will help us to understand concepts about modules. The code inside `my_module.py` is shown below."
   ]
  },
  {
   "cell_type": "markdown",
   "metadata": {},
   "source": [
    "<img style=\"float: left; height:280px;\" src=\"images/pic1.jpg\">"
   ]
  },
  {
   "cell_type": "markdown",
   "metadata": {},
   "source": [
    "Similar to the rules for naming other variables in Python, module names should follow the same rules and can contain only letters, digits, and underscores. The module names cannot use Python reserved keywords (e.g., you cannot create a module file named `if.py`.)"
   ]
  },
  {
   "cell_type": "markdown",
   "metadata": {},
   "source": [
    "## The `import` Statement <a id=\"section2\"/>\n",
    "\n",
    "Python programs can use the modules file we have created by running an `import` or `from` statement. These statements find, compile, and run a module file’s code. The main difference is that `import` fetches the module as a whole, while `from` fetches specific names out of the module."
   ]
  },
  {
   "cell_type": "markdown",
   "metadata": {},
   "source": [
    "Let's import `my_module`. Python executes the statements in the module file one after another, from the top of the file to the bottom. For this module, the two print statements at the top level of the file are executed. The print statements inside the two functions (`main_report` and `sub_report`) are not executed; they will be executed only when the functions are called."
   ]
  },
  {
   "cell_type": "code",
   "execution_count": 1,
   "metadata": {},
   "outputs": [
    {
     "name": "stdout",
     "output_type": "stream",
     "text": [
      "I am inside my_module\n",
      "The value of the variable X is: 3\n"
     ]
    }
   ],
   "source": [
    "import my_module"
   ]
  },
  {
   "cell_type": "markdown",
   "metadata": {},
   "source": [
    "Note that we don't use the `.py` extension for the files with the `import` statement (i.e., `import my_module.py` will raise an exception).\n",
    "\n",
    "When the module is imported, a new module object is created. The module object is shown below, where Python mapped the module name to an external filename by adding a directory path from the module search path to the file, and a `.py` extension at the end. "
   ]
  },
  {
   "cell_type": "code",
   "execution_count": 2,
   "metadata": {},
   "outputs": [
    {
     "data": {
      "text/plain": [
       "<module 'my_module' from 'C:\\\\Users\\\\Alex\\\\Documents\\\\Codes\\\\My Folder 2020\\\\Libraries\\\\Module 7\\\\my_module.py'>"
      ]
     },
     "execution_count": 2,
     "metadata": {},
     "output_type": "execute_result"
    }
   ],
   "source": [
    "# The name my_module references to the loaded module object\n",
    "my_module"
   ]
  },
  {
   "cell_type": "markdown",
   "metadata": {},
   "source": [
    "Overall, the name `my_module` serves two different purposes: \n",
    "1. It identifies the external file `my_module.py` that needs to be loaded.\n",
    "2. After the module is loaded, it becomes a reference to the module object."
   ]
  },
  {
   "cell_type": "markdown",
   "metadata": {},
   "source": [
    "During importing, all the names assigned at the top level of the module become attributes of the module object. In this example, the variables `X` and `Y` and the functions `sub-report` and `main_report` become attributes of the module, and we can call them by using the `object.attribute` syntax (a.k.a. *qualification*). "
   ]
  },
  {
   "cell_type": "code",
   "execution_count": 3,
   "metadata": {},
   "outputs": [
    {
     "data": {
      "text/plain": [
       "3"
      ]
     },
     "execution_count": 3,
     "metadata": {},
     "output_type": "execute_result"
    }
   ],
   "source": [
    "my_module.X"
   ]
  },
  {
   "cell_type": "code",
   "execution_count": 4,
   "metadata": {},
   "outputs": [
    {
     "data": {
      "text/plain": [
       "5"
      ]
     },
     "execution_count": 4,
     "metadata": {},
     "output_type": "execute_result"
    }
   ],
   "source": [
    "my_module.Y"
   ]
  },
  {
   "cell_type": "code",
   "execution_count": 5,
   "metadata": {},
   "outputs": [
    {
     "name": "stdout",
     "output_type": "stream",
     "text": [
      "The value of the variable Z is: 8\n",
      "I am a function named sub_report\n"
     ]
    }
   ],
   "source": [
    "my_module.sub_report()"
   ]
  },
  {
   "cell_type": "markdown",
   "metadata": {},
   "source": [
    "## The `from` Statement <a id=\"section3\"/>\n",
    "\n",
    "The `from` statement fetches specific names from the module, and allows to use the names directly (without the need for `module_object.attribute`). This way, we can call the names in the module with less typing."
   ]
  },
  {
   "cell_type": "code",
   "execution_count": 6,
   "metadata": {},
   "outputs": [
    {
     "data": {
      "text/plain": [
       "3"
      ]
     },
     "execution_count": 6,
     "metadata": {},
     "output_type": "execute_result"
    }
   ],
   "source": [
    "from my_module import X\n",
    "X"
   ]
  },
  {
   "cell_type": "markdown",
   "metadata": {},
   "source": [
    "The `from` statement in effect copies the names out of the module into another scope; in this case, in the scope of this jupyter notebook, where the `from` statement appears.\n",
    "\n",
    "When we run a `from` statement, internally Python first imports the entire module file as usual, then copies the specific names out of the module file, and finally, it deletes the module file. This is similar to the following code:\n",
    "\n",
    "```python\n",
    "import my_module \n",
    "X = module.X \n",
    "del my_module\n",
    "```"
   ]
  },
  {
   "cell_type": "markdown",
   "metadata": {},
   "source": [
    "With `from`, we can also import several names at the same time, separated by commas."
   ]
  },
  {
   "cell_type": "code",
   "execution_count": 7,
   "metadata": {},
   "outputs": [],
   "source": [
    "from my_module import X, Y, sub_report"
   ]
  },
  {
   "cell_type": "code",
   "execution_count": 8,
   "metadata": {},
   "outputs": [
    {
     "name": "stdout",
     "output_type": "stream",
     "text": [
      "The value of the variable Z is: 8\n",
      "I am a function named sub_report\n"
     ]
    }
   ],
   "source": [
    "sub_report()"
   ]
  },
  {
   "cell_type": "markdown",
   "metadata": {},
   "source": [
    "Another alternative is to use a `*` instead of specific names, which fetches all names assigned at the top level of the referenced module. The following code fetches all four names in our module: `X`, `Y`, `sub_report`, and `main_report`. Note again that the names `Z` and `U` are not defined at the top level in the module, but are enclosed in the functions, and therefore, they can not be fetched with the `import` statement."
   ]
  },
  {
   "cell_type": "code",
   "execution_count": 10,
   "metadata": {},
   "outputs": [
    {
     "name": "stdout",
     "output_type": "stream",
     "text": [
      "The value of the variable U is: 10\n",
      "I am a function named main_report\n"
     ]
    }
   ],
   "source": [
    "from my_module import *\n",
    "main_report()"
   ]
  },
  {
   "cell_type": "markdown",
   "metadata": {},
   "source": [
    "One problem with using `from module import *` is that it can silently overwrite variables that happen to have the same name as existing variables in our scope.\n",
    "\n",
    "In the following example, we have a variable `X = 15`, which was overwritten by the variable `X` with the same name in `my_module` which has the value 3. The way this variable was overwritten may not be obvious (e.g., in large modules with many variables we cannot remember and keep track of all variable names)."
   ]
  },
  {
   "cell_type": "code",
   "execution_count": 12,
   "metadata": {},
   "outputs": [
    {
     "name": "stdout",
     "output_type": "stream",
     "text": [
      "3\n"
     ]
    }
   ],
   "source": [
    "X = 15\n",
    "from my_module import *\n",
    "print(X)"
   ]
  },
  {
   "cell_type": "markdown",
   "metadata": {},
   "source": [
    "On the other hand, if we use `import`, all names will be defined only within the scope of the module, and the names will not collide with other names in our programs."
   ]
  },
  {
   "cell_type": "code",
   "execution_count": 13,
   "metadata": {},
   "outputs": [],
   "source": [
    "X = 15\n",
    "import my_module\n",
    "# The print statements this time were not displayed (we will explain later why)"
   ]
  },
  {
   "cell_type": "code",
   "execution_count": 15,
   "metadata": {},
   "outputs": [
    {
     "name": "stdout",
     "output_type": "stream",
     "text": [
      "15\n",
      "3\n"
     ]
    }
   ],
   "source": [
    "print(X)\n",
    "print(my_module.X)"
   ]
  },
  {
   "cell_type": "markdown",
   "metadata": {},
   "source": [
    "Therefore, programmers need to be careful when using the `from` statement (especially with `*`), and the `import` only statement should be preferred. However, `from` also provides convenience of less typing, and it is still very commonly used."
   ]
  },
  {
   "cell_type": "markdown",
   "metadata": {},
   "source": [
    "### When Using `import` is Required\n",
    "\n",
    "When the same name of a variable or function is defined in two different modules, and we need to use both of the names at the same time, then we must use the `import` statement. \n",
    "\n",
    "For instance, let's assume that another module file named `module_no_2.py` also contains a variable `X` and a function `main_report`."
   ]
  },
  {
   "cell_type": "markdown",
   "metadata": {},
   "source": [
    "<img style=\"float: left; height:220px;\" src=\"images/pic2.png\">"
   ]
  },
  {
   "cell_type": "markdown",
   "metadata": {},
   "source": [
    "Using `import` we can load the two different variables X, because including the name of the enclosing module\n",
    "makes the two names unique."
   ]
  },
  {
   "cell_type": "code",
   "execution_count": 1,
   "metadata": {},
   "outputs": [
    {
     "name": "stdout",
     "output_type": "stream",
     "text": [
      "I am inside my_module\n",
      "The value of the variable X is: 3\n",
      "I am inside module_no_2\n",
      "The value of the variable X is: 22\n"
     ]
    }
   ],
   "source": [
    "import my_module # when a module is imported the first time, it is executed\n",
    "import module_no_2 # when a module is imported afterward, it is not executed"
   ]
  },
  {
   "cell_type": "code",
   "execution_count": 2,
   "metadata": {},
   "outputs": [
    {
     "name": "stdout",
     "output_type": "stream",
     "text": [
      "3\n",
      "22\n"
     ]
    }
   ],
   "source": [
    "print(my_module.X)\n",
    "print(module_no_2.X)"
   ]
  },
  {
   "cell_type": "markdown",
   "metadata": {},
   "source": [
    "The same holds for the function `main_report` which appears in both modules."
   ]
  },
  {
   "cell_type": "code",
   "execution_count": 17,
   "metadata": {},
   "outputs": [
    {
     "name": "stdout",
     "output_type": "stream",
     "text": [
      "The value of the variable U is: 10\n",
      "I am a function named main_report\n",
      "The value of the variable Y is: 15\n",
      "I am a function named main_report\n"
     ]
    }
   ],
   "source": [
    "my_module.main_report()\n",
    "module_no_2.main_report()"
   ]
  },
  {
   "cell_type": "markdown",
   "metadata": {},
   "source": [
    "In this case, the `from` statement will fail because we can have only one assignment to the name `X` in the scope."
   ]
  },
  {
   "cell_type": "code",
   "execution_count": 18,
   "metadata": {},
   "outputs": [
    {
     "name": "stdout",
     "output_type": "stream",
     "text": [
      "22\n"
     ]
    }
   ],
   "source": [
    "# Only one variable name X can exist at one time\n",
    "from my_module import X\n",
    "from module_no_2 import X\n",
    "print(X)"
   ]
  },
  {
   "cell_type": "markdown",
   "metadata": {},
   "source": [
    "Another way to resolve the name clashing problem is to use the `as` extension to `from/import` that allows to import a name under another name that will be used as a synonym."
   ]
  },
  {
   "cell_type": "code",
   "execution_count": 19,
   "metadata": {},
   "outputs": [
    {
     "name": "stdout",
     "output_type": "stream",
     "text": [
      "3\n",
      "22\n"
     ]
    }
   ],
   "source": [
    "from my_module import X as X1\n",
    "from module_no_2 import X as X2\n",
    "print(X1)\n",
    "print(X2)"
   ]
  },
  {
   "cell_type": "markdown",
   "metadata": {},
   "source": [
    "## Module Namespaces <a id=\"section4\"/>\n",
    "\n",
    "Modules can be understood as just places where collections of names are defined that we want to make visible to the rest of our code. These collections of names live in the module's namespace and represent the attributes of the module object.\n",
    "\n",
    "To access the namespace of `my_module` object, we can use the built-in `dir` method. We can notice the names we assigned to the module file: `X`, `Y`, `main_report`, and `sub_report`. However, Python also adds some names in the module’s namespace for us; for instance, `__file__` gives the path to the file the module was loaded from, and `__name__` gives the module name."
   ]
  },
  {
   "cell_type": "code",
   "execution_count": 20,
   "metadata": {},
   "outputs": [
    {
     "data": {
      "text/plain": [
       "['X',\n",
       " 'Y',\n",
       " '__builtins__',\n",
       " '__cached__',\n",
       " '__doc__',\n",
       " '__file__',\n",
       " '__loader__',\n",
       " '__name__',\n",
       " '__package__',\n",
       " '__spec__',\n",
       " 'main_report',\n",
       " 'sub_report']"
      ]
     },
     "execution_count": 20,
     "metadata": {},
     "output_type": "execute_result"
    }
   ],
   "source": [
    "dir(my_module)"
   ]
  },
  {
   "cell_type": "markdown",
   "metadata": {},
   "source": [
    "Internally, the module namespaces created by imports are stored  as dictionary objects. Module namespaces can also be accessed through the built-in `__dict__` attribute associated with module objects, where the names are dictionary keys."
   ]
  },
  {
   "cell_type": "code",
   "execution_count": 22,
   "metadata": {},
   "outputs": [
    {
     "data": {
      "text/plain": [
       "dict_keys(['__name__', '__doc__', '__package__', '__loader__', '__spec__', '__file__', '__cached__', '__builtins__', 'X', 'Y', 'sub_report', 'main_report'])"
      ]
     },
     "execution_count": 22,
     "metadata": {},
     "output_type": "execute_result"
    }
   ],
   "source": [
    "my_module.__dict__.keys()"
   ]
  },
  {
   "cell_type": "code",
   "execution_count": 24,
   "metadata": {},
   "outputs": [
    {
     "data": {
      "text/plain": [
       "'C:\\\\Users\\\\Alex\\\\Documents\\\\Codes\\\\My Folder 2020\\\\Libraries\\\\Module 7\\\\my_module.py'"
      ]
     },
     "execution_count": 24,
     "metadata": {},
     "output_type": "execute_result"
    }
   ],
   "source": [
    "my_module.__dict__['__file__']"
   ]
  },
  {
   "cell_type": "code",
   "execution_count": 26,
   "metadata": {},
   "outputs": [
    {
     "data": {
      "text/plain": [
       "'my_module'"
      ]
     },
     "execution_count": 26,
     "metadata": {},
     "output_type": "execute_result"
    }
   ],
   "source": [
    "my_module.__dict__['__name__']"
   ]
  },
  {
   "cell_type": "markdown",
   "metadata": {},
   "source": [
    "## Reloading Modules <a id=\"section5\"/>"
   ]
  },
  {
   "cell_type": "markdown",
   "metadata": {},
   "source": [
    "As we have seen, when we `import` a module, the code is executed only once when the module is imported the first time. Subsequent imports use the already loaded module object without reloading or rerunning the file’s code.\n",
    "\n",
    "To force a module’s code to be reloaded and rerun, you need to ask Python to do so explicitly by calling the `reload` built-in function. The `reload` reruns a module file’s code and overwrites its existing namespace, rather than deleting the module object and re-creating it. Also, the `reload` function returns the module object at the output of the cell."
   ]
  },
  {
   "cell_type": "code",
   "execution_count": 21,
   "metadata": {},
   "outputs": [],
   "source": [
    "import my_module"
   ]
  },
  {
   "cell_type": "code",
   "execution_count": 22,
   "metadata": {},
   "outputs": [
    {
     "name": "stdout",
     "output_type": "stream",
     "text": [
      "I am inside my_module\n",
      "The value of the variable X is: 3\n"
     ]
    },
    {
     "data": {
      "text/plain": [
       "<module 'my_module' from 'C:\\\\Users\\\\Alex\\\\Documents\\\\Codes\\\\My Folder 2020\\\\Libraries\\\\Module 7\\\\my_module.py'>"
      ]
     },
     "execution_count": 22,
     "metadata": {},
     "output_type": "execute_result"
    }
   ],
   "source": [
    "from imp import reload\n",
    "reload(my_module)"
   ]
  },
  {
   "cell_type": "markdown",
   "metadata": {},
   "source": [
    "Reloading can help to examine a file, for instance, when we make changes to the file. In this case where we use jupyter notebooks, to `import` a file again after we have done some changes to the file, we can just restart the kernel, which will allow us to import the file, without using `reload`."
   ]
  },
  {
   "cell_type": "markdown",
   "metadata": {},
   "source": [
    "## Modules Usage Modes: `__name__` and `__main__` <a id=\"section6\"/>"
   ]
  },
  {
   "cell_type": "markdown",
   "metadata": {},
   "source": [
    "We mentioned before that each module has a built-in attribute called `__name__`, which\n",
    "Python assigns automatically to all module objects. The attribute is assigned as follows:\n",
    "- If the file is being imported by using the `import` statement, `__name__` is set to the module’s name.\n",
    "- If the file is being run as a top-level program file, `__name__` is set to the string `__main__`.\n",
    "\n",
    "Let's check it with an example. The module file `module_no_3` is shown below, and note that in the first line we will print the assigned attribute `__name__` to confirm that the above is correct. "
   ]
  },
  {
   "cell_type": "markdown",
   "metadata": {},
   "source": [
    "<img style=\"float: left; height:180px;\" src=\"images/pic3.jpg\">"
   ]
  },
  {
   "cell_type": "markdown",
   "metadata": {},
   "source": [
    "As expected, `__name__` is assigned to `module_no_3` when imported, and to `__main__` when run directly."
   ]
  },
  {
   "cell_type": "code",
   "execution_count": 27,
   "metadata": {},
   "outputs": [
    {
     "name": "stdout",
     "output_type": "stream",
     "text": [
      "Print the built-in attribute name of the module: module_no_3\n",
      "The value of the variable X is: 1\n"
     ]
    }
   ],
   "source": [
    "# The module is imported\n",
    "import module_no_3"
   ]
  },
  {
   "cell_type": "code",
   "execution_count": 30,
   "metadata": {},
   "outputs": [
    {
     "name": "stdout",
     "output_type": "stream",
     "text": [
      "Print the built-in attribute name of the module: __main__\n",
      "The value of the variable X is: 1\n"
     ]
    }
   ],
   "source": [
    "# The module is run by passing it as a command to the Python interpreter\n",
    "!python module_no_3.py"
   ]
  },
  {
   "cell_type": "markdown",
   "metadata": {},
   "source": [
    "The advantage is that a module can use the `__name__` attribute in the following `if` test  `if __name__ == '__main__'` to determine whether it is being run or imported. The most common way to use this is for self-test code that is written at the bottom of a file under the `__name__` test.\n",
    "\n",
    "For instance, the file `module_no_3a` is similar to the file `module_no_3`, only that it includes several lines of code at the bottom, which test whether the function `CelsiusToFahrenheit` outputs expected values. When run as a command in the cell, the `if __name__ == '__main__'` is True, and the lines that test the outputs of the `CelsiusToFahrenheit` are run. Conversely, when the module file is imported, the various variables and functions are imported, but the `if __name__ == '__main__'` is False, and the lines that test the outputs of the `CelsiusToFahrenheit` are not run. "
   ]
  },
  {
   "cell_type": "markdown",
   "metadata": {},
   "source": [
    "<img style=\"float: left; height:280px;\" src=\"images/pic4.jpg\">"
   ]
  },
  {
   "cell_type": "code",
   "execution_count": 38,
   "metadata": {},
   "outputs": [
    {
     "name": "stdout",
     "output_type": "stream",
     "text": [
      "Print the built-in attribute name of the module: __main__\n",
      "The value of the variable X is: 1\n",
      "--------------------\n",
      "Self-testing\n",
      "100 degrees Fahrenheit is 37.77777777777778 degrees Celsius\n",
      "32 degrees Fahrenheit is 0.0 degrees Celsius\n",
      "0 degrees Fahrenheit is -17.77777777777778 degrees Celsius\n"
     ]
    }
   ],
   "source": [
    "!python module_no_3a.py"
   ]
  },
  {
   "cell_type": "code",
   "execution_count": 39,
   "metadata": {},
   "outputs": [
    {
     "name": "stdout",
     "output_type": "stream",
     "text": [
      "Print the built-in attribute name of the module: module_no_3a\n",
      "The value of the variable X is: 1\n"
     ]
    }
   ],
   "source": [
    "import module_no_3a"
   ]
  },
  {
   "cell_type": "markdown",
   "metadata": {},
   "source": [
    "The above code allows to test the logic in our code without having to retype everything at the notebook cell of at the interactive command line each time we edit the file. Besides, the output of the self-test call will not\n",
    "appear every time this file is imported from another file. \n",
    "\n",
    "Functions defined in files with the `__name__` test can be run as standalone functions, and they can also be reused in other programs."
   ]
  }
 ],
 "metadata": {
  "kernelspec": {
   "display_name": "Python 3",
   "language": "python",
   "name": "python3"
  },
  "language_info": {
   "codemirror_mode": {
    "name": "ipython",
    "version": 3
   },
   "file_extension": ".py",
   "mimetype": "text/x-python",
   "name": "python",
   "nbconvert_exporter": "python",
   "pygments_lexer": "ipython3",
   "version": "3.6.8"
  }
 },
 "nbformat": 4,
 "nbformat_minor": 2
}
