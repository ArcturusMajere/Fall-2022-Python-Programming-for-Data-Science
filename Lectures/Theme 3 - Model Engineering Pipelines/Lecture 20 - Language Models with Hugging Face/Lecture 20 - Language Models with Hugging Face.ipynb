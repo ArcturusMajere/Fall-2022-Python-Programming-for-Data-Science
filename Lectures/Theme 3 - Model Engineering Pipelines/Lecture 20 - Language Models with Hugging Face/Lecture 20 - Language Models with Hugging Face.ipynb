{
  "cells": [
    {
      "cell_type": "markdown",
      "metadata": {
        "id": "kPG5INqg-_qn"
      },
      "source": [
        "<a target=\"_blank\" href=\"https://colab.research.google.com/github/avakanski/Fall-2022-Python-Programming-for-Data-Science/blob/main/Lectures/Theme%203%20-%20Model%20Engineering%20Pipelines/Lecture%2019%20-%20Transformer%20Networks/Lecture%2019%20-%20Transformer%20Networks.ipynb\">\n",
        "  <img src=\"https://colab.research.google.com/assets/colab-badge.svg\" alt=\"Open In Colab\"/>\n",
        "</a>"
      ]
    },
    {
      "cell_type": "markdown",
      "metadata": {
        "id": "3JhHIQqNe4Qs"
      },
      "source": [
        "<a name='section0'></a>\n",
        "# Lecture 20 Language Models with Hugging Face"
      ]
    },
    {
      "cell_type": "markdown",
      "metadata": {
        "id": "iEkmemKte4Qv"
      },
      "source": [
        "- [20.1 Introduction to Hugging Face](#section1)\n",
        "- [References](#section10)\n",
        "\n",
        "\n",
        "\n"
      ]
    },
    {
      "cell_type": "markdown",
      "metadata": {
        "id": "gTFgm_bJe4Qw"
      },
      "source": [
        "<a name='section1'></a>\n",
        "\n",
        "# 20.1 Introduction to Hugging Face"
      ]
    },
    {
      "cell_type": "markdown",
      "metadata": {
        "id": "UFMFGCdwiw5k"
      },
      "source": [
        "***Hugging Face*** [link](https://huggingface.co/) is a platform for Machine Learning and AI created in 2016. Its aim is to \"build, train and deploy state of the art models powered by the reference open source in machine learning\".\n",
        "\n",
        "\n",
        "\n",
        "\n",
        "democratize NLP by providing Data Scientists, AI practitioners, and Engineers immediate access to over 20,000 pre-trained models based on the state-of-the-art transformer architecture. \n",
        "\n",
        "work in progress ....\n"
      ]
    },
    {
      "cell_type": "code",
      "source": [],
      "metadata": {
        "id": "JfICL2KUxcl3"
      },
      "execution_count": null,
      "outputs": []
    },
    {
      "cell_type": "code",
      "source": [],
      "metadata": {
        "id": "XIGmfyqCxcry"
      },
      "execution_count": null,
      "outputs": []
    },
    {
      "cell_type": "markdown",
      "metadata": {
        "id": "vweobvFVe4RB"
      },
      "source": [
        "<a name='section10'></a>\n",
        "\n",
        "# References\n",
        "\n",
        "1. Hugging Face Course, available at [https://huggingface.co/course/chapter1/1](https://huggingface.co/course/chapter1/1)."
      ]
    },
    {
      "cell_type": "markdown",
      "metadata": {
        "id": "bDbzcXmWe4RB"
      },
      "source": [
        "[BACK TO TOP](#section0)"
      ]
    }
  ],
  "metadata": {
    "accelerator": "GPU",
    "colab": {
      "collapsed_sections": [],
      "machine_shape": "hm",
      "provenance": []
    },
    "gpuClass": "standard",
    "kernelspec": {
      "display_name": "Python 3",
      "language": "python",
      "name": "python3"
    },
    "language_info": {
      "codemirror_mode": {
        "name": "ipython",
        "version": 3
      },
      "file_extension": ".py",
      "mimetype": "text/x-python",
      "name": "python",
      "nbconvert_exporter": "python",
      "pygments_lexer": "ipython3",
      "version": "3.6.13"
    }
  },
  "nbformat": 4,
  "nbformat_minor": 0
}