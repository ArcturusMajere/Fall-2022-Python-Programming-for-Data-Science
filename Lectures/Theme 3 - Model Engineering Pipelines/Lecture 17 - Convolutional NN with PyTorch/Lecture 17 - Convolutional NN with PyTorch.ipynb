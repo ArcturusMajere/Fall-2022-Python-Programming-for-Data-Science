{
  "cells": [
    {
      "cell_type": "markdown",
      "metadata": {
        "id": "kPG5INqg-_qn"
      },
      "source": [
        "<a target=\"_blank\" href=\"https://colab.research.google.com/github/avakanski/Fall-2022-Python-Programming-for-Data-Science/blob/main/Lectures/Theme%203%20-%20Model%20Engineering%20Pipelines/Lecture%2017%20-%20Convolutional%20NN%20with%20PyTorch/Lecture%2017%20-%20Convolutional%20NN%20with%20PyTorch.ipynb\">\n",
        "  <img src=\"https://colab.research.google.com/assets/colab-badge.svg\" alt=\"Open In Colab\"/>\n",
        "</a>"
      ]
    },
    {
      "cell_type": "markdown",
      "metadata": {
        "id": "3JhHIQqNe4Qs"
      },
      "source": [
        "<a name='section0'></a>\n",
        "# Lecture 17 Convolutional Neural Networks with PyTorch"
      ]
    },
    {
      "cell_type": "markdown",
      "metadata": {
        "id": "iEkmemKte4Qv"
      },
      "source": [
        "- [17.1 Introduction to PyTorch](#section1)\n",
        "- [17.2 Training Neural Networks](#section2)\n",
        "- [17.3 Loading the Dataset](#section3)\n",
        "- [17.4 Creating, Training, and Evaluating the Model](#section4)\n",
        "- [17.5 Using a Custom Dataset and a Pretrained Model](#section5)\n",
        "- [17.6 Model Saving and Loading in PyTorch](#section6)\n",
        "- [References](#section7)"
      ]
    },
    {
      "cell_type": "markdown",
      "metadata": {
        "id": "gTFgm_bJe4Qw"
      },
      "source": [
        "<a name='section1'></a>\n",
        "\n",
        "# 17.1 Introduction to PyTorch"
      ]
    },
    {
      "cell_type": "markdown",
      "metadata": {
        "id": "XzoHchwZ7mUZ"
      },
      "source": [
        "***PyTorch*** is currently one of the most popular deep learning frameworks. It is an open-source library built upon the Torch library, and it was developed by Meta AI (previously Facebook AI). It is now part of the Linux Foundation. \n",
        "\n",
        "As we learned in the tutorial, PyTorch provides tensor operations that can conveniently be performed using CPU or GPU devices. It also provides automatic differentiation operations (auotgrad) with artificial neural networks.\n",
        "\n",
        "In this lecture we will explain how to train Convolutional Neural Networks for image classification with PyTorch. PyTorch has similar functionality to Keras and TensorFlow, as it allows to import neural network layers, offers loss functions and optimizers, etc. It has a slightly lower-level of abstraction in comparison to Keras. On the other hand, there are high-level libraries for PyTorch, such as [PyTorch Lightning](https://www.pytorchlightning.ai/) and [fast.ai](https://www.fast.ai/). \n",
        "\n",
        "First, let's provide an explanation of the training process of ConvNets, as it will be helpful to understand the PyTorch code. "
      ]
    },
    {
      "cell_type": "markdown",
      "metadata": {
        "id": "GF5bogcC7mUa"
      },
      "source": [
        "<a name='section2'></a>\n",
        "\n",
        "# 17.2 Training Neural Networks"
      ]
    },
    {
      "cell_type": "markdown",
      "metadata": {
        "id": "DtN0q_bh7mUa"
      },
      "source": [
        "Training neural networks is performed by iterative updates of the model parameters with the goal to minimize the difference between the model predictions and target labels.\n",
        "\n",
        "Each iteration in the training phase includes the following 4 steps:\n",
        "1. Forward pass (forward propagation)\n",
        "2. Loss calculation \n",
        "3. Error backpropagation (backward pass)\n",
        "4. Model parameters update\n",
        "\n",
        "***Forward propagation*** is also known as ***forward pass***, because the input data is passed through all hidden layers of the neural network toward the output layer to obtain the network predictions. If the input data is an image, the image is transformed through the layers of the network, and for classification problems, the output is a vector of predicted class probabilities. \n",
        "\n",
        "***Loss calculation*** is the second step, in which the loss of the network is calculated as a difference between the network output (predictions for each class) and the target label (ground-truth) for the image. As we mentioned, standard loss function for classification tasks is crossentropy loss, calculated as $-\\sum{y\\cdot log(\\hat{y})}$, where $y$ is the ground-truth label and $\\hat{y}$ is the model prediction. For regression tasks commonly used loss functions include mean-squared deviation, mean absolution deviation, and root-mean-squared deviation between the network predictions and target values. The goal of the model training becomes to minimize the obtained loss score.\n",
        "\n",
        "***Error backpropagation*** is also called ***backward pass*** or ***backward propagation*** (the term backpropagation is short for backward propagation). In this step, the predicted outputs are traversed back through the network, from the last layer backward toward the first layer. During the backward step, the gradients of the loss with respect to the model parameters $\\nabla\\mathcal{L}(𝜃)$ are calculated. If you recall from calculus, ***gradient*** is the vector of partial derivatives of a function, or for a loss function $\\mathcal{L}$ and network parameters $𝜃$, the gradient is the vector $\\nabla\\mathcal{L} = [\\partial\\mathcal{L}/\\partial𝜃_i]$. The gradients quantify the impact of changing the parameters in the network to the predicted outputs. Automatic calculation of the gradients (automatic differentiation) is available in all current deep learning libraries, which significantly simplifies the implementation of deep learning algorithms. \n",
        "\n",
        "***Model parameters update*** is the last step in which new values for the model parameters are calculated and updated, typically using the ***Gradient Descent*** algorithm."
      ]
    },
    {
      "cell_type": "markdown",
      "metadata": {
        "id": "PJCris5Cb1_g"
      },
      "source": [
        "<img src='https://raw.githubusercontent.com/avakanski/Fall-2022-Python-Programming-for-Data-Science/main/Lectures/Theme%203%20-%20Model%20Engineering%20Pipelines/Lecture%2017%20-%20Convolutional%20NN%20with%20PyTorch/images/forward_backward.png' width=800px/>"
      ]
    },
    {
      "cell_type": "markdown",
      "metadata": {
        "id": "Zkylzalo7mUe"
      },
      "source": [
        "A simple depiction of the ***Gradient Descent*** algorithm is shown in the next figure. The blue curve is a loss function, and the gradient of the loss function gives the slope of the function. By updating the parameters in the opposite direction of the gradient of the loss $\\nabla\\mathcal{L}$, the algorithm finds parameters $𝜃$ for which the loss $\\mathcal{L}$ has a minimal value. \n",
        "\n",
        "<img src='https://raw.githubusercontent.com/avakanski/Fall-2022-Python-Programming-for-Data-Science/main/Lectures/Theme%203%20-%20Model%20Engineering%20Pipelines/Lecture%2017%20-%20Convolutional%20NN%20with%20PyTorch/images/gradient_descent.png' width=600px/>"
      ]
    },
    {
      "cell_type": "markdown",
      "metadata": {
        "id": "_F3QAjRj7mUe"
      },
      "source": [
        "Almost all modern neural networks are trained by applying a modified version of the Gradient Descent algorithm. Examples of such advanced Gradient Descent algorithms include Adam, SGD (Stochastic Gradient Descent), RMSprop, Adagrad, Nadam, and others. The deep learning libraries typically refer to the used algorithms for minimizing the loss of the model as ***optimizers***.\n",
        "\n",
        "And, to train a neural network, the above steps of forward pass, loss calculation, backward pass, and parameter update are performed iteratively for each batch of input data. This is shown in the following simple pseudocode. \n",
        "\n",
        "```\n",
        "for epoch in number_of_epochs:\n",
        "    for batch in number_of_batches:\n",
        "        forward pass\n",
        "        calculate loss\n",
        "        backward pass (calculate the gradients)\n",
        "        update parameters\n",
        " ```\n",
        " \n",
        "Unlike the model training, predicting on test data (also known as *inference*) requires only a forward pass through the model, where for a given input instance the model outputs the predicted vector of class probabilities. "
      ]
    },
    {
      "cell_type": "markdown",
      "metadata": {
        "id": "oGtOFbeV7mUg"
      },
      "source": [
        "<a name='section3'></a>\n",
        "\n",
        "# 17.3 Loading the Dataset"
      ]
    },
    {
      "cell_type": "markdown",
      "metadata": {
        "id": "PFuaHfCm7mUg"
      },
      "source": [
        "We will use one of the most common deep learning datasets - MNIST (Modified National Institute of Standards and Technology database). MNIST is a dataset of handwritten digits from 0 to 9, containing 60,000 training images and 10,000 testing images. Each image has 28x28 pixels size.\n",
        "\n",
        "PyTorch provides access to several datasets, and MNIST can be loaded conveniently by using the `datasets.MNIST` function. In the used arguments, `root` is the directory where the dataset exists, and `transform` can be used to apply data scaling, image resizing, or other transformation operations. Such operations are not required for this dataset."
      ]
    },
    {
      "cell_type": "code",
      "execution_count": null,
      "metadata": {
        "id": "NCYqwaer7mUh"
      },
      "outputs": [],
      "source": [
        "# import libraries\n",
        "import numpy as np\n",
        "import matplotlib.pyplot as plt\n",
        "\n",
        "import torch\n",
        "import torch.nn as nn\n",
        "from torch.utils.data import Dataset, DataLoader\n",
        "# trochvision is part of PyTorch consisting of models and datasets for computer vision\n",
        "import torchvision\n",
        "from torchvision import datasets\n",
        "from torchvision.transforms import ToTensor\n",
        "import torch.optim as optim"
      ]
    },
    {
      "cell_type": "code",
      "execution_count": null,
      "metadata": {
        "id": "yKcbq7YD7mUi",
        "colab": {
          "base_uri": "https://localhost:8080/",
          "height": 437,
          "referenced_widgets": [
            "50f3cf95378049038bdbe9e20ac78efa",
            "5dc57f6a206748d0b99c352b84c2a966",
            "5daa856b3baf49babf0af32c4bf0bb93",
            "283f200ad1514fecb37e8f27f158cc82",
            "ba76af87bbad4241b16790c2adfba1d5",
            "5e88c7b4a174484a8a68a5145f0e2dbf",
            "07f8301db34947a6b199f7ca528c9432",
            "2530a0c7e02e4468bf0ec1575a419e6f",
            "38bc3c50ecb74b82b592c94a23e65a7a",
            "862131ad08a3445284dae50c42f0416e",
            "4ded1d627a43427ea7bc593f56fb1c0c",
            "4c74ce890461426fa970c14c76af54b7",
            "e1993c11296847a2af7011ad4c2eb27b",
            "8afe1e3e002145f0a8094b4be457cc2c",
            "4ca4c01739ef48a8ad56f4cbd98222bf",
            "0d54fcbde6174663af242d2397af2c0f",
            "a93960b344384bbbb138777228852d91",
            "7cf603afe2944f06bc113a5975d1c7ab",
            "44e62f6ff28349f3b3038c5743f859d3",
            "aba4e595b1c746dd972cb94b29b215d3",
            "94264c0d014f4d0e87b702c35333e4db",
            "5341712fcf534aa1ad7b06be2388d644",
            "208bce52dd7649a7b671cbe47d3c40a6",
            "fa453b1d2c654b0eb3a25e4d70f4531f",
            "d2b0fd5ebf2047ebb7412cbe73570d78",
            "08b18ee773ae434ca085bb03fc0ed3e0",
            "1313f76a649542c689c0f46ec035a88a",
            "9930191cdb4b4bd2a0dc7ec55dfdb667",
            "3d38afa135724cdbbbdf44bba4e46149",
            "f4ec8b8da2f3458d82695cbd4f42b8a4",
            "dd42231a51d548f29f5c9a01acf474fb",
            "b5eeceb1753f475ebdbf78ded31d7512",
            "4565e957f4c5487c8531b38212dea09f",
            "12e7603ccbb3464e80298b437e95aa6a",
            "fca98ed84bf641f58ce73c12bd31649d",
            "9e899713c39b4c459b7df5eb5b833b60",
            "1b72068c469b43e9941d78cad99155f7",
            "0aa9dca0bbe84f688011304bd90ba3b3",
            "ca59264fc6834e3aa8c1b31fee5c260f",
            "58242bada9034bfeafd6e09a8b9f797d",
            "5b614c91bd974f039e3919653d0fde8c",
            "b4e505b8bdd9418b9f9ad09d8cb942c0",
            "ba4a2828da7e43809f9c99ea37d3d887",
            "b8b0cdd7af4b484eb17758d07c699020"
          ]
        },
        "outputId": "9aa66df8-ce7d-4a8d-ac4b-ba1cf87ef8c7"
      },
      "outputs": [
        {
          "output_type": "stream",
          "name": "stdout",
          "text": [
            "Downloading http://yann.lecun.com/exdb/mnist/train-images-idx3-ubyte.gz\n",
            "Downloading http://yann.lecun.com/exdb/mnist/train-images-idx3-ubyte.gz to data/MNIST/raw/train-images-idx3-ubyte.gz\n"
          ]
        },
        {
          "output_type": "display_data",
          "data": {
            "text/plain": [
              "  0%|          | 0/9912422 [00:00<?, ?it/s]"
            ],
            "application/vnd.jupyter.widget-view+json": {
              "version_major": 2,
              "version_minor": 0,
              "model_id": "50f3cf95378049038bdbe9e20ac78efa"
            }
          },
          "metadata": {}
        },
        {
          "output_type": "stream",
          "name": "stdout",
          "text": [
            "Extracting data/MNIST/raw/train-images-idx3-ubyte.gz to data/MNIST/raw\n",
            "\n",
            "Downloading http://yann.lecun.com/exdb/mnist/train-labels-idx1-ubyte.gz\n",
            "Downloading http://yann.lecun.com/exdb/mnist/train-labels-idx1-ubyte.gz to data/MNIST/raw/train-labels-idx1-ubyte.gz\n"
          ]
        },
        {
          "output_type": "display_data",
          "data": {
            "text/plain": [
              "  0%|          | 0/28881 [00:00<?, ?it/s]"
            ],
            "application/vnd.jupyter.widget-view+json": {
              "version_major": 2,
              "version_minor": 0,
              "model_id": "4c74ce890461426fa970c14c76af54b7"
            }
          },
          "metadata": {}
        },
        {
          "output_type": "stream",
          "name": "stdout",
          "text": [
            "Extracting data/MNIST/raw/train-labels-idx1-ubyte.gz to data/MNIST/raw\n",
            "\n",
            "Downloading http://yann.lecun.com/exdb/mnist/t10k-images-idx3-ubyte.gz\n",
            "Downloading http://yann.lecun.com/exdb/mnist/t10k-images-idx3-ubyte.gz to data/MNIST/raw/t10k-images-idx3-ubyte.gz\n"
          ]
        },
        {
          "output_type": "display_data",
          "data": {
            "text/plain": [
              "  0%|          | 0/1648877 [00:00<?, ?it/s]"
            ],
            "application/vnd.jupyter.widget-view+json": {
              "version_major": 2,
              "version_minor": 0,
              "model_id": "208bce52dd7649a7b671cbe47d3c40a6"
            }
          },
          "metadata": {}
        },
        {
          "output_type": "stream",
          "name": "stdout",
          "text": [
            "Extracting data/MNIST/raw/t10k-images-idx3-ubyte.gz to data/MNIST/raw\n",
            "\n",
            "Downloading http://yann.lecun.com/exdb/mnist/t10k-labels-idx1-ubyte.gz\n",
            "Downloading http://yann.lecun.com/exdb/mnist/t10k-labels-idx1-ubyte.gz to data/MNIST/raw/t10k-labels-idx1-ubyte.gz\n"
          ]
        },
        {
          "output_type": "display_data",
          "data": {
            "text/plain": [
              "  0%|          | 0/4542 [00:00<?, ?it/s]"
            ],
            "application/vnd.jupyter.widget-view+json": {
              "version_major": 2,
              "version_minor": 0,
              "model_id": "12e7603ccbb3464e80298b437e95aa6a"
            }
          },
          "metadata": {}
        },
        {
          "output_type": "stream",
          "name": "stdout",
          "text": [
            "Extracting data/MNIST/raw/t10k-labels-idx1-ubyte.gz to data/MNIST/raw\n",
            "\n"
          ]
        }
      ],
      "source": [
        "training_data = datasets.MNIST(\n",
        "    root=\"data\",\n",
        "    train=True,\n",
        "    download=True,\n",
        "    transform=ToTensor()\n",
        ")\n",
        "\n",
        "test_data = datasets.MNIST(\n",
        "    root=\"data\",\n",
        "    train=False,\n",
        "    download=True,\n",
        "    transform=ToTensor()\n",
        ")"
      ]
    },
    {
      "cell_type": "code",
      "execution_count": null,
      "metadata": {
        "colab": {
          "base_uri": "https://localhost:8080/"
        },
        "id": "T8OBLXdQ7mUj",
        "outputId": "5ae4a877-b5b9-46db-957b-962c869cca00"
      },
      "outputs": [
        {
          "output_type": "stream",
          "name": "stdout",
          "text": [
            "Dataset MNIST\n",
            "    Number of datapoints: 60000\n",
            "    Root location: data\n",
            "    Split: Train\n",
            "    StandardTransform\n",
            "Transform: ToTensor()\n"
          ]
        }
      ],
      "source": [
        "print(training_data)"
      ]
    },
    {
      "cell_type": "code",
      "source": [
        "print(test_data)"
      ],
      "metadata": {
        "colab": {
          "base_uri": "https://localhost:8080/"
        },
        "id": "P4ya4knH8FdX",
        "outputId": "ecdfc07d-3e18-45e3-d194-bda6be26c8ac"
      },
      "execution_count": null,
      "outputs": [
        {
          "output_type": "stream",
          "name": "stdout",
          "text": [
            "Dataset MNIST\n",
            "    Number of datapoints: 10000\n",
            "    Root location: data\n",
            "    Split: Test\n",
            "    StandardTransform\n",
            "Transform: ToTensor()\n"
          ]
        }
      ]
    },
    {
      "cell_type": "markdown",
      "source": [
        "The images in MNIST are gray images, and therefore, they have only one channel, differently from RGB images which have 3 channels. Recall that `size()` in PyTorch corresponds to `shape` in NumPy."
      ],
      "metadata": {
        "id": "BuHq7-af9Y2M"
      }
    },
    {
      "cell_type": "code",
      "source": [
        "print(training_data.data.size())\n",
        "print(test_data.data.size())"
      ],
      "metadata": {
        "colab": {
          "base_uri": "https://localhost:8080/"
        },
        "id": "zYdcQfvM8FfT",
        "outputId": "3ef5d5be-0f0c-44e8-d177-4f821d784436"
      },
      "execution_count": null,
      "outputs": [
        {
          "output_type": "stream",
          "name": "stdout",
          "text": [
            "torch.Size([60000, 28, 28])\n",
            "torch.Size([10000, 28, 28])\n"
          ]
        }
      ]
    },
    {
      "cell_type": "markdown",
      "source": [
        "Let's visualize several randomly selected images from the training dataset, and show their class labels."
      ],
      "metadata": {
        "id": "Z5X2UcIA6r99"
      }
    },
    {
      "cell_type": "code",
      "source": [
        "figure = plt.figure(figsize=(10, 8))\n",
        "cols, rows = 5, 5\n",
        "for i in range(1, cols * rows + 1):\n",
        "    sample_idx = torch.randint(len(training_data), size=(1,)).item()\n",
        "    img, label = training_data[sample_idx]\n",
        "    figure.add_subplot(rows, cols, i)\n",
        "    plt.title(label)\n",
        "    plt.axis(\"off\")\n",
        "    plt.imshow(img.squeeze(), cmap=\"gray\")\n",
        "plt.show()"
      ],
      "metadata": {
        "colab": {
          "base_uri": "https://localhost:8080/",
          "height": 482
        },
        "id": "83eRFgyJ8g3r",
        "outputId": "aaa723ca-fb04-428e-88ee-08013eed3ee1"
      },
      "execution_count": null,
      "outputs": [
        {
          "output_type": "display_data",
          "data": {
            "text/plain": [
              "<Figure size 720x576 with 25 Axes>"
            ],
            "image/png": "[encoded data removed]"
          },
          "metadata": {
            "needs_background": "light"
          }
        }
      ]
    },
    {
      "cell_type": "markdown",
      "source": [
        "### DataLoader\n",
        "\n",
        "In PyTorch, `DataLoader` is an iterable object used for passing a batch of input data at each iteration during the model training. It takes as arguments the dataset that we are going to use, `shuffle` indicates if the data should be shuffled, and `batch_size` is self-explanatory. While we always need to shuffle the data in the training dataset to avoid correlated data (e.g., the training dataset can have first all 0 images, then 1 images, etc.), we don't need to shuffle the test or validation datasets because they are not used for training."
      ],
      "metadata": {
        "id": "fKHmN6PE64h1"
      }
    },
    {
      "cell_type": "code",
      "source": [
        "train_dataloader = DataLoader(training_data, shuffle=True, batch_size=128)\n",
        "test_dataloader = DataLoader(test_data, shuffle=False, batch_size=128)"
      ],
      "metadata": {
        "id": "OtnT4W348g9j"
      },
      "execution_count": null,
      "outputs": []
    },
    {
      "cell_type": "markdown",
      "source": [
        "The output of DataLoader is a batch of input images and the corresponding target labels. To inspect a batch of data we need to use the `iter` method to obtain an iterator, and afterward we can use the `__next__()` method (or simply `next()`) to iterate over the batches. Note that the DatLoader converted the images into a format (1,28,28) where 1 is the number of channels of the images."
      ],
      "metadata": {
        "id": "EUTQ3pabAONO"
      }
    },
    {
      "cell_type": "code",
      "source": [
        "iter(train_dataloader) is train_dataloader"
      ],
      "metadata": {
        "colab": {
          "base_uri": "https://localhost:8080/"
        },
        "id": "77G7Pu2hAJAs",
        "outputId": "c7880b0e-a41b-4e1b-d1be-ccc6bc7ffca7"
      },
      "execution_count": null,
      "outputs": [
        {
          "output_type": "execute_result",
          "data": {
            "text/plain": [
              "False"
            ]
          },
          "metadata": {},
          "execution_count": 8
        }
      ]
    },
    {
      "cell_type": "code",
      "source": [
        "# Inspect a batch of images and labels\n",
        "batch_images, batch_labels = iter(train_dataloader).next()\n",
        "print(\"Batch images shape:\", batch_images.size())\n",
        "print(\"Batch labels shape:\", batch_labels.size())"
      ],
      "metadata": {
        "colab": {
          "base_uri": "https://localhost:8080/"
        },
        "id": "71VnJxkl_Nj1",
        "outputId": "2af07ece-7369-4aba-9aab-9f7dccbba111"
      },
      "execution_count": null,
      "outputs": [
        {
          "output_type": "stream",
          "name": "stdout",
          "text": [
            "Batch images shape: torch.Size([128, 1, 28, 28])\n",
            "Batch labels shape: torch.Size([128])\n"
          ]
        }
      ]
    },
    {
      "cell_type": "markdown",
      "source": [
        "<a name='section4'></a>\n",
        "\n",
        "# 17.4 Creating, Training, and Evaluating the Model"
      ],
      "metadata": {
        "id": "ji3SKQBu6-Xd"
      }
    },
    {
      "cell_type": "markdown",
      "source": [
        "### Model Definition"
      ],
      "metadata": {
        "id": "QJRfvZSP5l94"
      }
    },
    {
      "cell_type": "markdown",
      "source": [
        "We will define a Convolution Neural Network using the `nn.Module` in PyTorch, which is as a superclass for creating neural network models in PyTorch. I.e., the CNN model will represent a subclass of the superclass `nn.Module`.\n",
        "\n",
        "In the `__init__()` constructor method of the CNN class, we will list the layers of the model as attributes of the class. For this task, let's use 2 convolutional layers that we will name `conv1` and `conv2`, a max-pooling layer, ReLU layer, and a dense layer. `nn.Module` also has several attributes which we will inherit via `super(CNN, self).__init__()`.\n",
        "\n",
        "***Conv2d layers*** in PyTorch have similar arguments as the Keras library, as follows:\n",
        "- *in_channels* (int), number of input channels to the layer, which is the number of channels in input images for the first layer, and the number of output channels from the preceding layer for all other layers (this argument is not provided in the Keras layers, it is determined automatically).\n",
        "- *out_channels* (int), number of channels that are produced by the layer (i.e., the number of used convolutional filters).\n",
        "- *kernel_size* (int or tuple), size of the convolving kernel (it is typically 3, and sometimes can also be 5, 7, etc.).\n",
        "- *padding* (int or tuple, optional), padding can be added to both sides of the input images; default value is 0, i.e., no padding.\n",
        "\n",
        "Note that applying a convolutional filter to an image results in a convolved image with a reduced size. To obtain a resulting feature map of the same size as the original image, padding is applied. For instance, in the figure below, a filter with a kernel size 3x3 is applied to a padded image of size 7x7, and the output is a feature with size 5x5. In this case, the original image of size 5x5 is padded with zeros on all four sides, and the size was changed to 7x7. This is a padding=1, because on all sides one row or column is added.\n",
        "\n",
        "<img src='https://raw.githubusercontent.com/avakanski/Fall-2022-Python-Programming-for-Data-Science/main/Lectures/Theme%203%20-%20Model%20Engineering%20Pipelines/Lecture%2017%20-%20Convolutional%20NN%20with%20PyTorch/images/padding.png' width=700px/>\n",
        "\n",
        "***Max pooling layers*** are defined the same as in Keras, and have as argument the kernel size for the pooling operation.\n",
        "\n",
        "The outputs of convolutional layers are passed through a ***ReLU activation layer***. ReLU stands for **Re**ctified **L**inear **U**nit activation function. Activation functions introduce non-linearity to the layers in the model, which allows to learn complex relations between the inputs and outputs. There are several different activation functions used with neural networks, and they include sigmoid, tanh, ReLU, Leaky ReLU, and others. Most modern neural networks apply ReLU activation function, or some variants of it.\n",
        "\n",
        "The ReLU function is shown in the next figure, and it simply outputs 0 if the input is negative, or outputs the input if it is positive. \n",
        "\n",
        "<img src='https://raw.githubusercontent.com/avakanski/Fall-2022-Python-Programming-for-Data-Science/main/Lectures/Theme%203%20-%20Model%20Engineering%20Pipelines/Lecture%2017%20-%20Convolutional%20NN%20with%20PyTorch/images/relu.png' width=400px/>\n",
        "\n",
        "***Dense (fully-connected) layers*** in PyTorch are defined with the `nn.Linear` module, and they have as arguments:\n",
        "- *in_features* (int), number of input features to the layer (this argument is not provided in the Keras Dense layer, it is determined automatically).\n",
        "- *out_features* (int), number of output features of the layer."
      ],
      "metadata": {
        "id": "4mzgRQPm95ZU"
      }
    },
    {
      "cell_type": "markdown",
      "source": [
        "After we define the layers in the model, we will add the method `forward` to define the forward pass for the model. For this model, we will use 2 blocks of convolutional, ReLU, and max-pooling layers, and a final dense layer to make the predictions. Also recall that in the previous lecture we used the Flatten layer to convert the image tensors into one-dimensional vectors. Here, we use `torch.flatten()` to flatten the tensors."
      ],
      "metadata": {
        "id": "bRRa7tRwS-gK"
      }
    },
    {
      "cell_type": "code",
      "source": [
        "class CNN(nn.Module):\n",
        "    def __init__(self):\n",
        "        super(CNN, self).__init__()\n",
        "        \n",
        "        # convolutional layers\n",
        "        self.conv1 = nn.Conv2d(in_channels=1, out_channels=16, kernel_size=3, padding=1)\n",
        "        self.conv2 = nn.Conv2d(in_channels=16, out_channels=32, kernel_size=3, padding=1)\n",
        "        \n",
        "        # maxpooling layer\n",
        "        self.maxpool = nn.MaxPool2d(kernel_size=2)  \n",
        "\n",
        "        # ReLU activation layer\n",
        "        self.relu = nn.ReLU()\n",
        "\n",
        "        # fully connected layer, output 10 classes\n",
        "        self.dense = nn.Linear(in_features=32 * 7 * 7, out_features=10)\n",
        "    \n",
        "    def forward(self, x):\n",
        "        # sequence of layers\n",
        "        # first block\n",
        "        x = self.conv1(x)\n",
        "        x = self.relu(x)\n",
        "        x = self.maxpool(x)\n",
        "\n",
        "        # second block\n",
        "        x = self.conv2(x)\n",
        "        x = self.relu(x)\n",
        "        x = self.maxpool(x)\n",
        "        \n",
        "        # flatten the output of the second block to 1D vector\n",
        "        x = torch.flatten(x, 1)\n",
        "\n",
        "        # output layer      \n",
        "        output = self.dense(x)\n",
        "        \n",
        "        return output    "
      ],
      "metadata": {
        "id": "6l3o9Czp8g_t"
      },
      "execution_count": null,
      "outputs": []
    },
    {
      "cell_type": "markdown",
      "source": [
        "Next, we will create an instance of the model, here named `cnn_model`."
      ],
      "metadata": {
        "id": "KwY1IieHDqK0"
      }
    },
    {
      "cell_type": "code",
      "source": [
        "cnn_model = CNN()"
      ],
      "metadata": {
        "id": "i4ca4_ke8hCF"
      },
      "execution_count": null,
      "outputs": []
    },
    {
      "cell_type": "markdown",
      "source": [
        "We can use `torch.device` to check if GPU is available. I am using Google Colab, the device type is 'cuda', therefore, it is available. CUDA (Compute Unified Device Architecture) is a library that allows using GPU computing for machine learning tasks, which parallelizes the computations, and speeds up the model training. \n",
        "\n",
        "PyTorch will by defult use GPU if it is available, and otherwise it will use CPU."
      ],
      "metadata": {
        "id": "FYqKsMac1JfI"
      }
    },
    {
      "cell_type": "code",
      "source": [
        "device = torch.device('cuda' if torch.cuda.is_available() else 'cpu')\n",
        "device"
      ],
      "metadata": {
        "colab": {
          "base_uri": "https://localhost:8080/"
        },
        "id": "BdgQ0eyB35A6",
        "outputId": "2c6ddd60-ef7f-40af-9b23-cabfc445ea2f"
      },
      "execution_count": null,
      "outputs": [
        {
          "output_type": "execute_result",
          "data": {
            "text/plain": [
              "device(type='cuda')"
            ]
          },
          "metadata": {},
          "execution_count": 12
        }
      ]
    },
    {
      "cell_type": "markdown",
      "source": [
        "Using `to(device)` will transfer the ConvNet model to the device, which in our case is GPU. "
      ],
      "metadata": {
        "id": "b2YjhdUmKDyk"
      }
    },
    {
      "cell_type": "code",
      "source": [
        "cnn_model.to(device)"
      ],
      "metadata": {
        "colab": {
          "base_uri": "https://localhost:8080/"
        },
        "id": "N7sOfQft-6Fx",
        "outputId": "f97e4dae-85af-4646-d456-917868a481fa"
      },
      "execution_count": null,
      "outputs": [
        {
          "output_type": "execute_result",
          "data": {
            "text/plain": [
              "CNN(\n",
              "  (conv1): Conv2d(1, 16, kernel_size=(3, 3), stride=(1, 1), padding=(1, 1))\n",
              "  (conv2): Conv2d(16, 32, kernel_size=(3, 3), stride=(1, 1), padding=(1, 1))\n",
              "  (maxpool): MaxPool2d(kernel_size=2, stride=2, padding=0, dilation=1, ceil_mode=False)\n",
              "  (relu): ReLU()\n",
              "  (dense): Linear(in_features=1568, out_features=10, bias=True)\n",
              ")"
            ]
          },
          "metadata": {},
          "execution_count": 13
        }
      ]
    },
    {
      "cell_type": "markdown",
      "source": [
        "### Model Training"
      ],
      "metadata": {
        "id": "Okr0yZUx2fIn"
      }
    },
    {
      "cell_type": "markdown",
      "source": [
        "Before training the model, we need to define a loss function and an optimizer. As we mentioned in the previous lecture, crossentropy loss is commonly used with classification problems, and Adam is standardly used optimization algorithm. "
      ],
      "metadata": {
        "id": "E68s0LSCGslR"
      }
    },
    {
      "cell_type": "code",
      "source": [
        "# define loss function (cross-entropy)\n",
        "criterion = nn.CrossEntropyLoss()   \n",
        "# define an optimizer (Adam)\n",
        "optimizer = optim.Adam(cnn_model.parameters(), lr = 0.01)  "
      ],
      "metadata": {
        "id": "n8SGV-rfGr0j"
      },
      "execution_count": null,
      "outputs": []
    },
    {
      "cell_type": "markdown",
      "source": [
        "The following cell trains the model, and it is similar to the `fit` function in scikit-learn or Keras. It contains a for-loop over the epochs, and afterwards the variables `running_loss`, `total`, and `sum_correct` are initialized and will be used to record and display the training loss and accuracy. Next, a batch of images is loaded, and the above four steps are performed: forward pass, loss calculation, backward pass, and parameters update. The remaining lines calculate the loss and accuracy and display their values after each epoch. The `item()` method is used to convert the tensors to NumPy floats and bring them to the CPU. PyTorch uses GPU for performing calculations, and CPU for displaying and plotting the variables."
      ],
      "metadata": {
        "id": "3DVkdZkhLc5v"
      }
    },
    {
      "cell_type": "code",
      "source": [
        "# total number of training epochs\n",
        "epoch_num = 10\n",
        "\n",
        "# loop over the number of epochs\n",
        "for epoch in range(epoch_num):  \n",
        "\n",
        "    # the loss values for each epoch \n",
        "    running_loss = 0.0\n",
        "    # total images in each epoch\n",
        "    total = 0\n",
        "    # correctly predicted images in each epoch\n",
        "    sum_correct = 0\n",
        "   \n",
        "    ### training \n",
        "    # loop over the batches in the training dataset\n",
        "    for i, data in enumerate(train_dataloader):\n",
        "        # get a batch of images and labels\n",
        "        images, labels = data\n",
        "        # send the images and labels to the GPU\n",
        "        images, labels = images.to(device), labels.to(device)\n",
        "\n",
        "        # set the gradient to zero, to clear the values from the last iteration\n",
        "        optimizer.zero_grad()\n",
        "\n",
        "        # forward pass: propagate the inputs through the network to obtain output predictions\n",
        "        outputs = cnn_model(images)\n",
        "        # calculate the loss (crossentropy)\n",
        "        loss = criterion(outputs, labels)\n",
        "        # backward pass: propagate backward and calculate the gradients\n",
        "        loss.backward()\n",
        "        # update the model parameters (using the optimizer Adam)\n",
        "        optimizer.step()\n",
        "\n",
        "        # calculate the loss and accuracy for the current batch \n",
        "        # running loss is the average loss of the current batch\n",
        "        # '.item()' returns the value of the PyTorch tensor as Python float32\n",
        "        # and moves its value to the CPU\n",
        "        running_loss += loss.item()\n",
        "        # 'predicted' is the vector of class labels for images in the batch\n",
        "        # this is similar to np.argmax\n",
        "        _, predicted = torch.max(outputs.data, dim=1)\n",
        "        # 'total' is the number of images (or labels) in the batch\n",
        "        total += labels.size(0)\n",
        "        # correct is the number of correctly predicted images in the batch\n",
        "        sum_correct += (predicted==labels).sum().item()\n",
        "    \n",
        "    # calculate the accuracy for each epoch\n",
        "    accuracy = sum_correct/total\n",
        "\n",
        "    # print the epoch number, training loss, and training accuracy\n",
        "    print(f'Epoch: {epoch + 1}/{epoch_num}\\t Training loss: {running_loss:.3f}\\t',\n",
        "              f'\\t Training accuracy: {100*accuracy:2.3f}')"
      ],
      "metadata": {
        "colab": {
          "base_uri": "https://localhost:8080/"
        },
        "id": "g_LYnCds-O2T",
        "outputId": "a1db406e-b3d8-4e4f-af44-9d0ce28fec5d"
      },
      "execution_count": null,
      "outputs": [
        {
          "output_type": "stream",
          "name": "stdout",
          "text": [
            "Epoch: 1/10\t Training loss: 68.262\t \t Training accuracy: 95.583\n",
            "Epoch: 2/10\t Training loss: 24.808\t \t Training accuracy: 98.375\n",
            "Epoch: 3/10\t Training loss: 20.139\t \t Training accuracy: 98.668\n",
            "Epoch: 4/10\t Training loss: 16.479\t \t Training accuracy: 98.907\n",
            "Epoch: 5/10\t Training loss: 14.567\t \t Training accuracy: 98.963\n",
            "Epoch: 6/10\t Training loss: 12.266\t \t Training accuracy: 99.172\n",
            "Epoch: 7/10\t Training loss: 12.859\t \t Training accuracy: 99.100\n",
            "Epoch: 8/10\t Training loss: 11.923\t \t Training accuracy: 99.188\n",
            "Epoch: 9/10\t Training loss: 10.604\t \t Training accuracy: 99.272\n",
            "Epoch: 10/10\t Training loss: 10.796\t \t Training accuracy: 99.292\n"
          ]
        }
      ]
    },
    {
      "cell_type": "markdown",
      "source": [
        "### Model Evaluation"
      ],
      "metadata": {
        "id": "n9w936Xu5hfh"
      }
    },
    {
      "cell_type": "markdown",
      "source": [
        "The following cell evaluates the accuracy on the test dataset. For this step, we will use `with torch.no_grad()` context manager, to indicate that there is no need to calculate the gradients, since the model parameters are not updated. Also, only the forward pass is required for evaluation on test images. "
      ],
      "metadata": {
        "id": "gSVxGFfSJQMN"
      }
    },
    {
      "cell_type": "code",
      "source": [
        "### testing\n",
        "\n",
        "# these variables are similar to the variables for the training phase     \n",
        "test_running_loss = 0.0\n",
        "test_total = 0\n",
        "test_correct = 0\n",
        "\n",
        "# torch.no_grad() specify not to update the model during testing\n",
        "with torch.no_grad():\n",
        "  # loop over the batches in the test dataset\n",
        "  for i, data in enumerate(test_dataloader):\n",
        "      # get a batch of images and labels\n",
        "      images, labels = data\n",
        "      # send the images and labels to the GPU\n",
        "      images, labels = images.to(device), labels.to(device)\n",
        "      \n",
        "      # forward pass\n",
        "      outputs = cnn_model(images)\n",
        "      # calculate the loss\n",
        "      loss = criterion(outputs, labels)\n",
        "      # there is no backward pass in the testing step\n",
        "\n",
        "      # these variables are the same as in the training setp\n",
        "      test_running_loss += loss.item()\n",
        "      _, predicted = torch.max(outputs.data, 1)\n",
        "      test_total += labels.size(0)\n",
        "      test_correct += (predicted == labels).sum().item()     \n",
        "\n",
        "print(f'Accuracy of the model on the test images: {100*test_correct/test_total:2.3f}')"
      ],
      "metadata": {
        "id": "t7iDGv-GERoA",
        "colab": {
          "base_uri": "https://localhost:8080/"
        },
        "outputId": "dc4e535d-1842-48ca-c1eb-09e30e6ff56d"
      },
      "execution_count": null,
      "outputs": [
        {
          "output_type": "stream",
          "name": "stdout",
          "text": [
            "Accuracy of the model on the test images: 98.730\n"
          ]
        }
      ]
    },
    {
      "cell_type": "markdown",
      "source": [
        "<a name='section5'></a>\n",
        "\n",
        "# 17.5 Using a Custom Dataset and a Pretrained Model"
      ],
      "metadata": {
        "id": "NRY3rxES5tno"
      }
    },
    {
      "cell_type": "markdown",
      "source": [
        "### Loading the Dataset\n",
        "\n",
        "In this section, we will look at one more classification task with CNN in PyTorch. We will use the GTSRB (German Traffic Sign Recognition Benchmark) dataset, which consists of 51,000 images of traffic signs. There are 43 classes of traffic signs, and the size of the images is 32×32 pixels.\n",
        "\n",
        "Custom datasets in PyTorch are created as a subclass of the `Dataset` class, which is imported from `torch.utils.data`. The custom datasets should inherit from `Dataset` and override the following two methods:\n",
        "- `__len__()`, to return the number of instances in the dataset.\n",
        "- `__getitem__()` to support indexing and return the instances with the specified indices `idx` in the dataset.\n",
        "\n",
        "In the cell below, we used `MyDataset` as the name of the subclass. For this case, the training, validation, and test datasets were saved with `pickle` as dictionaries containing pairs of images (called 'features') and targets (called 'labels'). In the `__init__()` method we will load the pickled data, and the other two methods will provide the length and return sets of images and labels with given indices. The images were already resized to the same size and they were scaled to the range [0,1], therefore applying transformation operations is not needed."
      ],
      "metadata": {
        "id": "kWgBSwxKnmoG"
      }
    },
    {
      "cell_type": "code",
      "metadata": {
        "id": "W3u6ESUDqYUh"
      },
      "source": [
        "class MyDataset(Dataset):\n",
        "    def __init__(self, filepath):\n",
        "        with open(filepath, mode='rb') as f:\n",
        "             dataset = pickle.load(f)\n",
        "        \n",
        "        self.transform = ToTensor()\n",
        "        self.features = dataset['features']\n",
        "        self.labels = dataset['labels'] \n",
        "    \n",
        "    def __len__(self):\n",
        "        return self.features.shape[0]\n",
        "    \n",
        "    def __getitem__(self, idx):\n",
        "        feature = self.features[idx]\n",
        "        feature = self.transform(feature)\n",
        "        label = self.labels[idx]\n",
        "\n",
        "        return feature, label"
      ],
      "execution_count": null,
      "outputs": []
    },
    {
      "cell_type": "markdown",
      "source": [
        "We need to mount the Google Drive, since the images are saved on the drive."
      ],
      "metadata": {
        "id": "Zje3oApVswLU"
      }
    },
    {
      "cell_type": "code",
      "source": [
        "from google.colab import drive\n",
        "drive.mount('/content/drive')"
      ],
      "metadata": {
        "colab": {
          "base_uri": "https://localhost:8080/"
        },
        "id": "5KNpyHnjag8A",
        "outputId": "902d8b0d-be50-4304-8887-bc18bbba9e01"
      },
      "execution_count": null,
      "outputs": [
        {
          "output_type": "stream",
          "name": "stdout",
          "text": [
            "Drive already mounted at /content/drive; to attempt to forcibly remount, call drive.mount(\"/content/drive\", force_remount=True).\n"
          ]
        }
      ]
    },
    {
      "cell_type": "markdown",
      "source": [
        "As in the above example, we will use DataLoader to iterate over batches of images and labels. "
      ],
      "metadata": {
        "id": "53t9za1OzTig"
      }
    },
    {
      "cell_type": "code",
      "metadata": {
        "id": "LlHaHn1at00r"
      },
      "source": [
        "import pickle\n",
        "\n",
        "train_dataset = MyDataset('drive/MyDrive/Data_Science_Course/Lecture_17-CNN_with_PyTorch/data/GTSRB_dataset/train.p')\n",
        "test_dataset = MyDataset('drive/MyDrive/Data_Science_Course/Lecture_17-CNN_with_PyTorch/data/GTSRB_dataset/test.p')\n",
        "validation_dataset = MyDataset('drive/MyDrive/Data_Science_Course/Lecture_17-CNN_with_PyTorch/data/GTSRB_dataset/valid.p')\n",
        "\n",
        "train_dataloader = DataLoader(train_dataset, shuffle=True, batch_size=64)\n",
        "test_dataloader = DataLoader(test_dataset, shuffle=False, batch_size=64)\n",
        "validation_dataloader = DataLoader(validation_dataset, shuffle=False, batch_size=64)"
      ],
      "execution_count": null,
      "outputs": []
    },
    {
      "cell_type": "code",
      "source": [
        "print(len(train_dataset))\n",
        "print(len(test_dataset))\n",
        "print(len(validation_dataset))"
      ],
      "metadata": {
        "colab": {
          "base_uri": "https://localhost:8080/"
        },
        "id": "CXJ0B7BgF9ig",
        "outputId": "8d54e1fe-aae0-45c6-ed16-6bc5932b49d7"
      },
      "execution_count": null,
      "outputs": [
        {
          "output_type": "stream",
          "name": "stdout",
          "text": [
            "34799\n",
            "12630\n",
            "4410\n"
          ]
        }
      ]
    },
    {
      "cell_type": "markdown",
      "source": [
        "PyTorch has a function `make_grid()` which allows to plot a grid of images."
      ],
      "metadata": {
        "id": "3uwJj0pMs69Z"
      }
    },
    {
      "cell_type": "code",
      "metadata": {
        "colab": {
          "base_uri": "https://localhost:8080/",
          "height": 486
        },
        "id": "JQ16L4dfScry",
        "outputId": "e70d63af-f2fc-4496-9637-dba2552c8dc2"
      },
      "source": [
        "# show several images\n",
        "def imshow(img):\n",
        "    npimg = img.numpy()\n",
        "    plt.imshow(np.transpose(npimg, (1, 2, 0)))\n",
        "    plt.show()\n",
        "\n",
        "# get a batch of random training images and labels\n",
        "images, labels = iter(train_dataloader).next()\n",
        "\n",
        "# show images\n",
        "plt.figure(figsize=(8,8))\n",
        "imshow(torchvision.utils.make_grid(images))"
      ],
      "execution_count": null,
      "outputs": [
        {
          "output_type": "display_data",
          "data": {
            "text/plain": [
              "<Figure size 576x576 with 1 Axes>"
            ],
            "image/png": "[encoded data removed]"
          },
          "metadata": {
            "needs_background": "light"
          }
        }
      ]
    },
    {
      "cell_type": "markdown",
      "metadata": {
        "id": "90vCzVPCHGrH"
      },
      "source": [
        "### Model Loading\n",
        "\n",
        "PyTorch has pretrained models that are easy to be loaded and used. Let's import a VGG model pretrained on the ImageNet."
      ]
    },
    {
      "cell_type": "code",
      "metadata": {
        "id": "R1zVkJnt0nTh",
        "colab": {
          "base_uri": "https://localhost:8080/"
        },
        "outputId": "d228c7ec-acf4-4296-c3c9-1c6f8a17e25e"
      },
      "source": [
        "from torchvision.models import vgg16\n",
        "\n",
        "#VGG16\n",
        "vgg_model = vgg16(pretrained=True)"
      ],
      "execution_count": null,
      "outputs": [
        {
          "output_type": "stream",
          "name": "stderr",
          "text": [
            "/usr/local/lib/python3.7/dist-packages/torchvision/models/_utils.py:209: UserWarning: The parameter 'pretrained' is deprecated since 0.13 and will be removed in 0.15, please use 'weights' instead.\n",
            "  f\"The parameter '{pretrained_param}' is deprecated since 0.13 and will be removed in 0.15, \"\n",
            "/usr/local/lib/python3.7/dist-packages/torchvision/models/_utils.py:223: UserWarning: Arguments other than a weight enum or `None` for 'weights' are deprecated since 0.13 and will be removed in 0.15. The current behavior is equivalent to passing `weights=VGG16_Weights.IMAGENET1K_V1`. You can also use `weights=VGG16_Weights.DEFAULT` to get the most up-to-date weights.\n",
            "  warnings.warn(msg)\n"
          ]
        }
      ]
    },
    {
      "cell_type": "markdown",
      "source": [
        "To use the VGG model with our dataset, we will change the last layer in the model (this is layer '6' in the classifier of the model) with a dense layer that will output 43 features, since there are 43 classes of signs in the dataset."
      ],
      "metadata": {
        "id": "DfDEVy6KtasW"
      }
    },
    {
      "cell_type": "code",
      "metadata": {
        "id": "7e0UB2ea0w-I"
      },
      "source": [
        "# replace the last layer in VGG with a dense layer to predict 43 classes\n",
        "vgg_model.classifier._modules['6'] = nn.Linear(4096, 43)"
      ],
      "execution_count": null,
      "outputs": []
    },
    {
      "cell_type": "code",
      "metadata": {
        "colab": {
          "base_uri": "https://localhost:8080/"
        },
        "id": "jzWre3SH4M0A",
        "outputId": "13192132-890a-407f-dba0-ad5a0cb474fb"
      },
      "source": [
        "vgg_model.to(device)"
      ],
      "execution_count": null,
      "outputs": [
        {
          "output_type": "execute_result",
          "data": {
            "text/plain": [
              "VGG(\n",
              "  (features): Sequential(\n",
              "    (0): Conv2d(3, 64, kernel_size=(3, 3), stride=(1, 1), padding=(1, 1))\n",
              "    (1): ReLU(inplace=True)\n",
              "    (2): Conv2d(64, 64, kernel_size=(3, 3), stride=(1, 1), padding=(1, 1))\n",
              "    (3): ReLU(inplace=True)\n",
              "    (4): MaxPool2d(kernel_size=2, stride=2, padding=0, dilation=1, ceil_mode=False)\n",
              "    (5): Conv2d(64, 128, kernel_size=(3, 3), stride=(1, 1), padding=(1, 1))\n",
              "    (6): ReLU(inplace=True)\n",
              "    (7): Conv2d(128, 128, kernel_size=(3, 3), stride=(1, 1), padding=(1, 1))\n",
              "    (8): ReLU(inplace=True)\n",
              "    (9): MaxPool2d(kernel_size=2, stride=2, padding=0, dilation=1, ceil_mode=False)\n",
              "    (10): Conv2d(128, 256, kernel_size=(3, 3), stride=(1, 1), padding=(1, 1))\n",
              "    (11): ReLU(inplace=True)\n",
              "    (12): Conv2d(256, 256, kernel_size=(3, 3), stride=(1, 1), padding=(1, 1))\n",
              "    (13): ReLU(inplace=True)\n",
              "    (14): Conv2d(256, 256, kernel_size=(3, 3), stride=(1, 1), padding=(1, 1))\n",
              "    (15): ReLU(inplace=True)\n",
              "    (16): MaxPool2d(kernel_size=2, stride=2, padding=0, dilation=1, ceil_mode=False)\n",
              "    (17): Conv2d(256, 512, kernel_size=(3, 3), stride=(1, 1), padding=(1, 1))\n",
              "    (18): ReLU(inplace=True)\n",
              "    (19): Conv2d(512, 512, kernel_size=(3, 3), stride=(1, 1), padding=(1, 1))\n",
              "    (20): ReLU(inplace=True)\n",
              "    (21): Conv2d(512, 512, kernel_size=(3, 3), stride=(1, 1), padding=(1, 1))\n",
              "    (22): ReLU(inplace=True)\n",
              "    (23): MaxPool2d(kernel_size=2, stride=2, padding=0, dilation=1, ceil_mode=False)\n",
              "    (24): Conv2d(512, 512, kernel_size=(3, 3), stride=(1, 1), padding=(1, 1))\n",
              "    (25): ReLU(inplace=True)\n",
              "    (26): Conv2d(512, 512, kernel_size=(3, 3), stride=(1, 1), padding=(1, 1))\n",
              "    (27): ReLU(inplace=True)\n",
              "    (28): Conv2d(512, 512, kernel_size=(3, 3), stride=(1, 1), padding=(1, 1))\n",
              "    (29): ReLU(inplace=True)\n",
              "    (30): MaxPool2d(kernel_size=2, stride=2, padding=0, dilation=1, ceil_mode=False)\n",
              "  )\n",
              "  (avgpool): AdaptiveAvgPool2d(output_size=(7, 7))\n",
              "  (classifier): Sequential(\n",
              "    (0): Linear(in_features=25088, out_features=4096, bias=True)\n",
              "    (1): ReLU(inplace=True)\n",
              "    (2): Dropout(p=0.5, inplace=False)\n",
              "    (3): Linear(in_features=4096, out_features=4096, bias=True)\n",
              "    (4): ReLU(inplace=True)\n",
              "    (5): Dropout(p=0.5, inplace=False)\n",
              "    (6): Linear(in_features=4096, out_features=43, bias=True)\n",
              "  )\n",
              ")"
            ]
          },
          "metadata": {},
          "execution_count": 32
        }
      ]
    },
    {
      "cell_type": "markdown",
      "source": [
        "### Modular Code: Training and Validation for One Epoch\n",
        "\n",
        "For this example, let's write functions for training and validating the model. These functions will group all required code for training and validation, and we can re-use such modular code in other scripts. \n",
        "\n",
        "The functions are almost identical to the code that we used above. They return the accuracy and loss for the epoch. Note that we used the lines `model.train()` and `model.eval()` in these functions, which act as a switch for some specific layers that behave differently during training and evaluation. For example, Dropout and Batch Normalization layers are turned on during training and turned off during evaluation, which is controlled by these two lines. "
      ],
      "metadata": {
        "id": "NkQyJ32Xr-kO"
      }
    },
    {
      "cell_type": "code",
      "source": [
        "# train the model for one epoch on the given set\n",
        "def train(model, train_loader, criterion, optimizer, epoch):\n",
        "    running_loss, total, sum_correct = 0.0, 0, 0\n",
        "\n",
        "    # indicate this is a training step\n",
        "    model.train() \n",
        "\n",
        "    for i, data in enumerate(train_loader):\n",
        "        images, labels = data\n",
        "        labels = labels.type(torch.LongTensor)\n",
        "        images, labels = images.to(device), labels.to(device)\n",
        "\n",
        "        # forward + loss + backward + update\n",
        "        optimizer.zero_grad()\n",
        "        outputs = model(images)\n",
        "        loss = criterion(outputs, labels)\n",
        "        loss.backward()\n",
        "        optimizer.step()\n",
        "\n",
        "        # calculate loss and accuracy\n",
        "        running_loss += loss.item()\n",
        "        _, predicted = torch.max(outputs.data, 1)\n",
        "        total += labels.size(0)\n",
        "        sum_correct += (predicted == labels).sum().item()\n",
        "    \n",
        "    # return the accuracy and loss\n",
        "    return sum_correct/total, running_loss\n",
        "\n",
        "\n",
        "# evaluate the model on the given set\n",
        "def validate(model, val_loader, criterion):\n",
        "    running_loss, total, sum_correct = 0.0, 0, 0\n",
        "\n",
        "    # indicate this is an evaluation step\n",
        "    model.eval()\n",
        "\n",
        "    with torch.no_grad():\n",
        "        for i, data in enumerate(val_loader):\n",
        "            images, labels = data\n",
        "            labels = labels.type(torch.LongTensor)\n",
        "            images, labels = images.to(device), labels.to(device)\n",
        "\n",
        "            # Compute the output: forward pass only\n",
        "            outputs = model(images)\n",
        "            loss = criterion(outputs, labels)\n",
        "\n",
        "            # calculate loss and accuracy\n",
        "            running_loss += loss.item()\n",
        "            _, predicted = torch.max(outputs.data, 1)\n",
        "            total += labels.size(0)\n",
        "            sum_correct += (predicted == labels).sum().item()\n",
        "\n",
        "    # return the accuracy and loss\n",
        "    return sum_correct/total, running_loss"
      ],
      "metadata": {
        "id": "CmZop-8xcTRw"
      },
      "execution_count": null,
      "outputs": []
    },
    {
      "cell_type": "markdown",
      "source": [
        "### Define Loss and Optimizer"
      ],
      "metadata": {
        "id": "WKGve71WsG5B"
      }
    },
    {
      "cell_type": "code",
      "source": [
        "criterion = nn.CrossEntropyLoss()\n",
        "optimizer = optim.SGD(vgg_model.parameters(), lr=0.001, momentum=0.9)"
      ],
      "metadata": {
        "id": "-7Jcl3ecfXKs"
      },
      "execution_count": null,
      "outputs": []
    },
    {
      "cell_type": "markdown",
      "source": [
        "### Model Training\n",
        "\n",
        "The next cell contains code for training the model. Now we can call the `train` and `validate` functions to perform the training and validation steps for each epoch. The outputs are the average accuracy and loss, calculated at the end of each epoch. We will append those values to lists, which we will use later to plot the learning curves. "
      ],
      "metadata": {
        "id": "aNhYSkSmsLj0"
      }
    },
    {
      "cell_type": "code",
      "source": [
        "# total number of training epochs\n",
        "epoch_num = 6\n",
        "\n",
        "# initialize variables to save the training and validation loss and accuracy\n",
        "training_loss_plot = []\n",
        "training_accuracy_plot = []\n",
        "val_loss_plot = []\n",
        "val_accuracy_plot = []\n",
        "\n",
        "# loop over the number of epochs\n",
        "for epoch in range(epoch_num):  \n",
        "\n",
        "    # train for one epoch: return accuracy and loss\n",
        "    tr_accuracy, tr_loss = train(vgg_model, train_dataloader, criterion, optimizer, epoch)\n",
        "\n",
        "    # evaluate after each epoch: return accuracy and loss\n",
        "    val_accuracy, val_loss = validate(vgg_model, validation_dataloader, criterion)\n",
        "\n",
        "    # append the accuracies and losses after each epoch\n",
        "    training_accuracy_plot.append(tr_accuracy)\n",
        "    training_loss_plot.append(tr_loss)\n",
        "    val_accuracy_plot.append(val_accuracy)\n",
        "    val_loss_plot.append(val_loss)\n",
        "    \n",
        "    # Display after each epoch\n",
        "    print(f'Epoch: {epoch + 1}/{epoch_num}\\t Training loss: {tr_loss:.3f}\\t',\n",
        "              f'Training accuracy: {100*tr_accuracy:2.3f}\\t Validation accuracy: {100*val_accuracy:2.3f}')"
      ],
      "metadata": {
        "colab": {
          "base_uri": "https://localhost:8080/"
        },
        "id": "uXAGaSDRfXV_",
        "outputId": "66e20414-3a2c-4029-c8f6-3950d04fa315"
      },
      "execution_count": null,
      "outputs": [
        {
          "output_type": "stream",
          "name": "stdout",
          "text": [
            "Epoch: 1/6\t Training loss: 489.022\t Training accuracy: 72.660\t Validation accuracy: 87.574\n",
            "Epoch: 2/6\t Training loss: 57.492\t Training accuracy: 96.572\t Validation accuracy: 91.837\n",
            "Epoch: 3/6\t Training loss: 21.848\t Training accuracy: 98.756\t Validation accuracy: 93.288\n",
            "Epoch: 4/6\t Training loss: 10.666\t Training accuracy: 99.345\t Validation accuracy: 92.857\n",
            "Epoch: 5/6\t Training loss: 9.813\t Training accuracy: 99.425\t Validation accuracy: 95.215\n",
            "Epoch: 6/6\t Training loss: 6.200\t Training accuracy: 99.684\t Validation accuracy: 95.193\n"
          ]
        }
      ]
    },
    {
      "cell_type": "markdown",
      "source": [
        "The training and validation accuracies and loss are shown in the next figure. Note that Mathplotlib doesn't support plotting tensors that are on the GPU, and therefore, we needed to bring the values of the accuracies and losses to the CPU for plotting (e.g., by using `item()` as in the above code)."
      ],
      "metadata": {
        "id": "tmA7WyOURnG4"
      }
    },
    {
      "cell_type": "code",
      "metadata": {
        "colab": {
          "base_uri": "https://localhost:8080/",
          "height": 281
        },
        "id": "jIvNbcqowvdY",
        "outputId": "fd2dc391-cedd-4cc6-c154-87825f30236c"
      },
      "source": [
        "# plot the accuracy and loss for the training and validation datasets\n",
        "plt.figure(figsize=(10,4))\n",
        "plt.subplot(1,2,1)\n",
        "plt.plot(training_accuracy_plot)\n",
        "plt.plot(val_accuracy_plot)\n",
        "plt.legend(['Training accuracy', 'Validation accuracy'])\n",
        "plt.title('Training and Validation Accuracy')\n",
        "plt.subplot(1,2,2)\n",
        "plt.plot(training_loss_plot)\n",
        "plt.plot(val_loss_plot)\n",
        "plt.legend(['Training loss', 'Validation loss'])\n",
        "plt.title('Training and Validation Loss')\n",
        "plt.show()"
      ],
      "execution_count": null,
      "outputs": [
        {
          "output_type": "display_data",
          "data": {
            "text/plain": [
              "<Figure size 720x288 with 2 Axes>"
            ],
            "image/png": "[encoded data removed]"
          },
          "metadata": {
            "needs_background": "light"
          }
        }
      ]
    },
    {
      "cell_type": "markdown",
      "source": [
        "### Model Evaluation\n",
        "\n",
        "We can use the same function `validate` to evaluate the model performance on the test dataset."
      ],
      "metadata": {
        "id": "h_d2SU4JsUPf"
      }
    },
    {
      "cell_type": "code",
      "source": [
        "# calculate the accuracy and loss on the test dataset\n",
        "test_accuracy, test_loss = validate(vgg_model, test_dataloader, criterion)\n",
        "print(f'Test dataset accuracy: {100*test_accuracy:2.3f}')"
      ],
      "metadata": {
        "colab": {
          "base_uri": "https://localhost:8080/"
        },
        "id": "gYujcK8vVTw3",
        "outputId": "281670da-7bdd-4fa5-be3e-faaa85b040cf"
      },
      "execution_count": null,
      "outputs": [
        {
          "output_type": "stream",
          "name": "stdout",
          "text": [
            "Test dataset accuracy: 94.941\n"
          ]
        }
      ]
    },
    {
      "cell_type": "markdown",
      "source": [
        "<a name='section6'></a>\n",
        "\n",
        "# 17.6 Model Saving and Loading in PyTorch"
      ],
      "metadata": {
        "id": "W0DE08OmqsfL"
      }
    },
    {
      "cell_type": "markdown",
      "source": [
        "### Save and Load State Dictionary"
      ],
      "metadata": {
        "id": "Xr09_RGp10AZ"
      }
    },
    {
      "cell_type": "markdown",
      "source": [
        "To save PyTorch models we use `torch.save()` as shown below. The parameters of the model are stored in a state dictionary with `state_dict()`, and as expected, the path to the directory to save the model needs to be provided. A `state_dict()` is a dictionary that has as keys the layers in the network, and the values in the dictionary are the corresponding parameters in each layer. \n",
        "\n",
        "A PyTorch convention is to use the extension `.pth` or `.pt` with the file path. "
      ],
      "metadata": {
        "id": "mMqNHyi13-jT"
      }
    },
    {
      "cell_type": "code",
      "source": [
        "torch.save(vgg_model.state_dict(), 'vgg_model_weights.pth')"
      ],
      "metadata": {
        "id": "H1-FE9g339jP"
      },
      "execution_count": null,
      "outputs": []
    },
    {
      "cell_type": "markdown",
      "source": [
        "Let's print the keys in the `state_dict` for the vgg model. The model has 30 layers in the `features` part, and 6 layers in the `classifier` part (as shown in one of the above cells). E.g., `features.0.weight` is the key for the weights in layer 0 and `features.0.bias` is the key for the biases in layer 0 of the model, where biases is a vector of trainable constant values that are added to the weights in each layer."
      ],
      "metadata": {
        "id": "w1gY933Uxgoc"
      }
    },
    {
      "cell_type": "code",
      "source": [
        "print(\"Keys in the state_dict keys: \\n\", vgg_model.state_dict().keys())"
      ],
      "metadata": {
        "colab": {
          "base_uri": "https://localhost:8080/"
        },
        "id": "EMhi5JCiwQeU",
        "outputId": "0a5352b6-30a0-4b11-f464-f97de38a4fd2"
      },
      "execution_count": null,
      "outputs": [
        {
          "output_type": "stream",
          "name": "stdout",
          "text": [
            "Keys in the state_dict keys: \n",
            " odict_keys(['features.0.weight', 'features.0.bias', 'features.2.weight', 'features.2.bias', 'features.5.weight', 'features.5.bias', 'features.7.weight', 'features.7.bias', 'features.10.weight', 'features.10.bias', 'features.12.weight', 'features.12.bias', 'features.14.weight', 'features.14.bias', 'features.17.weight', 'features.17.bias', 'features.19.weight', 'features.19.bias', 'features.21.weight', 'features.21.bias', 'features.24.weight', 'features.24.bias', 'features.26.weight', 'features.26.bias', 'features.28.weight', 'features.28.bias', 'classifier.0.weight', 'classifier.0.bias', 'classifier.3.weight', 'classifier.3.bias', 'classifier.6.weight', 'classifier.6.bias'])\n"
          ]
        }
      ]
    },
    {
      "cell_type": "markdown",
      "source": [
        "To load a saved model, we need to have an instance of the model, and therefore let's create an instance `model_1`. Then, we use the `load_state_dict()` method with `torch_load()`. Internally PyTroch uses pickle to serialize and deserialize the  `state_dict()` when saving and loading."
      ],
      "metadata": {
        "id": "mpkVYkkC4wif"
      }
    },
    {
      "cell_type": "code",
      "source": [
        "model_1 = vgg_model\n",
        "\n",
        "model_1.load_state_dict(torch.load('vgg_model_weights.pth'))"
      ],
      "metadata": {
        "colab": {
          "base_uri": "https://localhost:8080/"
        },
        "id": "4kk4cEMC4yUD",
        "outputId": "75423b85-a299-492c-a1f4-1bc66c873bab"
      },
      "execution_count": null,
      "outputs": [
        {
          "output_type": "execute_result",
          "data": {
            "text/plain": [
              "<All keys matched successfully>"
            ]
          },
          "metadata": {},
          "execution_count": 40
        }
      ]
    },
    {
      "cell_type": "code",
      "source": [
        "# calculate the accuracy and loss on the test dataset\n",
        "test_accuracy, test_loss = validate(model_1, test_dataloader, criterion)\n",
        "print(f'Test dataset accuracy: {100*test_accuracy:2.3f}')"
      ],
      "metadata": {
        "colab": {
          "base_uri": "https://localhost:8080/"
        },
        "id": "Yp3bIhr04yX-",
        "outputId": "6d139712-f1db-41b1-ae25-53bcfc6664e7"
      },
      "execution_count": null,
      "outputs": [
        {
          "output_type": "stream",
          "name": "stdout",
          "text": [
            "Test dataset accuracy: 94.941\n"
          ]
        }
      ]
    },
    {
      "cell_type": "markdown",
      "source": [
        "### Save and Load the Entire Model"
      ],
      "metadata": {
        "id": "9LBkRO4w17LG"
      }
    },
    {
      "cell_type": "markdown",
      "source": [
        "Instead of saving only the model parameters with the `state_dict()`, it is also possible to save the entire model in PyTorch, including the class definition, the architecture with the layers, and other related information. However, this is not a recommended way to save the model, because loading the model in other projects may fail in various ways. "
      ],
      "metadata": {
        "id": "0DD3J92YtNdS"
      }
    },
    {
      "cell_type": "code",
      "source": [
        "torch.save(vgg_model, 'vgg_model_2.pth')"
      ],
      "metadata": {
        "id": "v-GlqpBvtErw"
      },
      "execution_count": null,
      "outputs": []
    },
    {
      "cell_type": "markdown",
      "source": [
        "### Save and Load a Checkpoint"
      ],
      "metadata": {
        "id": "qnFkk50q2BpS"
      }
    },
    {
      "cell_type": "markdown",
      "source": [
        "If we would like to save the model checkpoint after an epoch, and later resume the training, we will need to also save information about the loss and gradients at that epoch, along with the state dictionary. In the next cell, the checkpoints saves the last epoch (epoch 6 in this case), the state dictionary `model.state_dict()`, and the optimizer information `optimizer.state_dict()`."
      ],
      "metadata": {
        "id": "xG9PIBxVuV32"
      }
    },
    {
      "cell_type": "code",
      "source": [
        "checkpoint = {'epoch': epoch,\n",
        "              'state_dict': vgg_model.state_dict(),\n",
        "              'optimizer_state' : optimizer.state_dict()}\n",
        "\n",
        "torch.save(checkpoint, 'vgg_checkpoint.pth')"
      ],
      "metadata": {
        "id": "2_Bib3onw5RW"
      },
      "execution_count": null,
      "outputs": []
    },
    {
      "cell_type": "markdown",
      "source": [
        "When loading the checkpoint, we will load the `'state_dict'`, `'optimizer_state'`, and `'epoch'`. "
      ],
      "metadata": {
        "id": "jHWJRdTy5nPx"
      }
    },
    {
      "cell_type": "code",
      "source": [
        "model_2 = vgg_model\n",
        "\n",
        "checkpoint = torch.load('vgg_checkpoint.pth')\n",
        "model_2.load_state_dict(checkpoint['state_dict'])\n",
        "optimizer.load_state_dict(checkpoint['optimizer_state'])\n",
        "epoch = checkpoint['epoch']"
      ],
      "metadata": {
        "id": "lruBjonXxFzP"
      },
      "execution_count": null,
      "outputs": []
    },
    {
      "cell_type": "code",
      "source": [
        "# calculate the accuracy and loss on the test dataset\n",
        "test_accuracy, test_loss = validate(model_2, test_dataloader, criterion)\n",
        "print(f'Test dataset accuracy: {100*test_accuracy:2.3f}')"
      ],
      "metadata": {
        "colab": {
          "base_uri": "https://localhost:8080/"
        },
        "id": "CELG8hL62Z6q",
        "outputId": "6526212f-a161-48a9-80be-7380cc20e633"
      },
      "execution_count": null,
      "outputs": [
        {
          "output_type": "stream",
          "name": "stdout",
          "text": [
            "Test dataset accuracy: 94.941\n"
          ]
        }
      ]
    },
    {
      "cell_type": "markdown",
      "metadata": {
        "id": "vweobvFVe4RB"
      },
      "source": [
        "<a name='section7'></a>\n",
        "\n",
        "# References\n",
        "\n",
        "1. Training a Classifier in PyTorch, available at: [https://pytorch.org/tutorials/beginner/blitz/cifar10_tutorial.html](https://pytorch.org/tutorials/beginner/blitz/cifar10_tutorial.html)."
      ]
    },
    {
      "cell_type": "markdown",
      "metadata": {
        "id": "bDbzcXmWe4RB"
      },
      "source": [
        "[BACK TO TOP](#section0)"
      ]
    }
  ],
  "metadata": {
    "accelerator": "GPU",
    "colab": {
      "collapsed_sections": [],
      "machine_shape": "hm",
      "provenance": []
    },
    "gpuClass": "standard",
    "kernelspec": {
      "display_name": "Python 3",
      "language": "python",
      "name": "python3"
    },
    "language_info": {
      "codemirror_mode": {
        "name": "ipython",
        "version": 3
      },
      "file_extension": ".py",
      "mimetype": "text/x-python",
      "name": "python",
      "nbconvert_exporter": "python",
      "pygments_lexer": "ipython3",
      "version": "3.6.8"
    },
    "widgets": {
      "application/vnd.jupyter.widget-state+json": {
        "50f3cf95378049038bdbe9e20ac78efa": {
          "model_module": "@jupyter-widgets/controls",
          "model_name": "HBoxModel",
          "model_module_version": "1.5.0",
          "state": {
            "_dom_classes": [],
            "_model_module": "@jupyter-widgets/controls",
            "_model_module_version": "1.5.0",
            "_model_name": "HBoxModel",
            "_view_count": null,
            "_view_module": "@jupyter-widgets/controls",
            "_view_module_version": "1.5.0",
            "_view_name": "HBoxView",
            "box_style": "",
            "children": [
              "IPY_MODEL_5dc57f6a206748d0b99c352b84c2a966",
              "IPY_MODEL_5daa856b3baf49babf0af32c4bf0bb93",
              "IPY_MODEL_283f200ad1514fecb37e8f27f158cc82"
            ],
            "layout": "IPY_MODEL_ba76af87bbad4241b16790c2adfba1d5"
          }
        },
        "5dc57f6a206748d0b99c352b84c2a966": {
          "model_module": "@jupyter-widgets/controls",
          "model_name": "HTMLModel",
          "model_module_version": "1.5.0",
          "state": {
            "_dom_classes": [],
            "_model_module": "@jupyter-widgets/controls",
            "_model_module_version": "1.5.0",
            "_model_name": "HTMLModel",
            "_view_count": null,
            "_view_module": "@jupyter-widgets/controls",
            "_view_module_version": "1.5.0",
            "_view_name": "HTMLView",
            "description": "",
            "description_tooltip": null,
            "layout": "IPY_MODEL_5e88c7b4a174484a8a68a5145f0e2dbf",
            "placeholder": "​",
            "style": "IPY_MODEL_07f8301db34947a6b199f7ca528c9432",
            "value": "100%"
          }
        },
        "5daa856b3baf49babf0af32c4bf0bb93": {
          "model_module": "@jupyter-widgets/controls",
          "model_name": "FloatProgressModel",
          "model_module_version": "1.5.0",
          "state": {
            "_dom_classes": [],
            "_model_module": "@jupyter-widgets/controls",
            "_model_module_version": "1.5.0",
            "_model_name": "FloatProgressModel",
            "_view_count": null,
            "_view_module": "@jupyter-widgets/controls",
            "_view_module_version": "1.5.0",
            "_view_name": "ProgressView",
            "bar_style": "success",
            "description": "",
            "description_tooltip": null,
            "layout": "IPY_MODEL_2530a0c7e02e4468bf0ec1575a419e6f",
            "max": 9912422,
            "min": 0,
            "orientation": "horizontal",
            "style": "IPY_MODEL_38bc3c50ecb74b82b592c94a23e65a7a",
            "value": 9912422
          }
        },
        "283f200ad1514fecb37e8f27f158cc82": {
          "model_module": "@jupyter-widgets/controls",
          "model_name": "HTMLModel",
          "model_module_version": "1.5.0",
          "state": {
            "_dom_classes": [],
            "_model_module": "@jupyter-widgets/controls",
            "_model_module_version": "1.5.0",
            "_model_name": "HTMLModel",
            "_view_count": null,
            "_view_module": "@jupyter-widgets/controls",
            "_view_module_version": "1.5.0",
            "_view_name": "HTMLView",
            "description": "",
            "description_tooltip": null,
            "layout": "IPY_MODEL_862131ad08a3445284dae50c42f0416e",
            "placeholder": "​",
            "style": "IPY_MODEL_4ded1d627a43427ea7bc593f56fb1c0c",
            "value": " 9912422/9912422 [00:00&lt;00:00, 104931934.21it/s]"
          }
        },
        "ba76af87bbad4241b16790c2adfba1d5": {
          "model_module": "@jupyter-widgets/base",
          "model_name": "LayoutModel",
          "model_module_version": "1.2.0",
          "state": {
            "_model_module": "@jupyter-widgets/base",
            "_model_module_version": "1.2.0",
            "_model_name": "LayoutModel",
            "_view_count": null,
            "_view_module": "@jupyter-widgets/base",
            "_view_module_version": "1.2.0",
            "_view_name": "LayoutView",
            "align_content": null,
            "align_items": null,
            "align_self": null,
            "border": null,
            "bottom": null,
            "display": null,
            "flex": null,
            "flex_flow": null,
            "grid_area": null,
            "grid_auto_columns": null,
            "grid_auto_flow": null,
            "grid_auto_rows": null,
            "grid_column": null,
            "grid_gap": null,
            "grid_row": null,
            "grid_template_areas": null,
            "grid_template_columns": null,
            "grid_template_rows": null,
            "height": null,
            "justify_content": null,
            "justify_items": null,
            "left": null,
            "margin": null,
            "max_height": null,
            "max_width": null,
            "min_height": null,
            "min_width": null,
            "object_fit": null,
            "object_position": null,
            "order": null,
            "overflow": null,
            "overflow_x": null,
            "overflow_y": null,
            "padding": null,
            "right": null,
            "top": null,
            "visibility": null,
            "width": null
          }
        },
        "5e88c7b4a174484a8a68a5145f0e2dbf": {
          "model_module": "@jupyter-widgets/base",
          "model_name": "LayoutModel",
          "model_module_version": "1.2.0",
          "state": {
            "_model_module": "@jupyter-widgets/base",
            "_model_module_version": "1.2.0",
            "_model_name": "LayoutModel",
            "_view_count": null,
            "_view_module": "@jupyter-widgets/base",
            "_view_module_version": "1.2.0",
            "_view_name": "LayoutView",
            "align_content": null,
            "align_items": null,
            "align_self": null,
            "border": null,
            "bottom": null,
            "display": null,
            "flex": null,
            "flex_flow": null,
            "grid_area": null,
            "grid_auto_columns": null,
            "grid_auto_flow": null,
            "grid_auto_rows": null,
            "grid_column": null,
            "grid_gap": null,
            "grid_row": null,
            "grid_template_areas": null,
            "grid_template_columns": null,
            "grid_template_rows": null,
            "height": null,
            "justify_content": null,
            "justify_items": null,
            "left": null,
            "margin": null,
            "max_height": null,
            "max_width": null,
            "min_height": null,
            "min_width": null,
            "object_fit": null,
            "object_position": null,
            "order": null,
            "overflow": null,
            "overflow_x": null,
            "overflow_y": null,
            "padding": null,
            "right": null,
            "top": null,
            "visibility": null,
            "width": null
          }
        },
        "07f8301db34947a6b199f7ca528c9432": {
          "model_module": "@jupyter-widgets/controls",
          "model_name": "DescriptionStyleModel",
          "model_module_version": "1.5.0",
          "state": {
            "_model_module": "@jupyter-widgets/controls",
            "_model_module_version": "1.5.0",
            "_model_name": "DescriptionStyleModel",
            "_view_count": null,
            "_view_module": "@jupyter-widgets/base",
            "_view_module_version": "1.2.0",
            "_view_name": "StyleView",
            "description_width": ""
          }
        },
        "2530a0c7e02e4468bf0ec1575a419e6f": {
          "model_module": "@jupyter-widgets/base",
          "model_name": "LayoutModel",
          "model_module_version": "1.2.0",
          "state": {
            "_model_module": "@jupyter-widgets/base",
            "_model_module_version": "1.2.0",
            "_model_name": "LayoutModel",
            "_view_count": null,
            "_view_module": "@jupyter-widgets/base",
            "_view_module_version": "1.2.0",
            "_view_name": "LayoutView",
            "align_content": null,
            "align_items": null,
            "align_self": null,
            "border": null,
            "bottom": null,
            "display": null,
            "flex": null,
            "flex_flow": null,
            "grid_area": null,
            "grid_auto_columns": null,
            "grid_auto_flow": null,
            "grid_auto_rows": null,
            "grid_column": null,
            "grid_gap": null,
            "grid_row": null,
            "grid_template_areas": null,
            "grid_template_columns": null,
            "grid_template_rows": null,
            "height": null,
            "justify_content": null,
            "justify_items": null,
            "left": null,
            "margin": null,
            "max_height": null,
            "max_width": null,
            "min_height": null,
            "min_width": null,
            "object_fit": null,
            "object_position": null,
            "order": null,
            "overflow": null,
            "overflow_x": null,
            "overflow_y": null,
            "padding": null,
            "right": null,
            "top": null,
            "visibility": null,
            "width": null
          }
        },
        "38bc3c50ecb74b82b592c94a23e65a7a": {
          "model_module": "@jupyter-widgets/controls",
          "model_name": "ProgressStyleModel",
          "model_module_version": "1.5.0",
          "state": {
            "_model_module": "@jupyter-widgets/controls",
            "_model_module_version": "1.5.0",
            "_model_name": "ProgressStyleModel",
            "_view_count": null,
            "_view_module": "@jupyter-widgets/base",
            "_view_module_version": "1.2.0",
            "_view_name": "StyleView",
            "bar_color": null,
            "description_width": ""
          }
        },
        "862131ad08a3445284dae50c42f0416e": {
          "model_module": "@jupyter-widgets/base",
          "model_name": "LayoutModel",
          "model_module_version": "1.2.0",
          "state": {
            "_model_module": "@jupyter-widgets/base",
            "_model_module_version": "1.2.0",
            "_model_name": "LayoutModel",
            "_view_count": null,
            "_view_module": "@jupyter-widgets/base",
            "_view_module_version": "1.2.0",
            "_view_name": "LayoutView",
            "align_content": null,
            "align_items": null,
            "align_self": null,
            "border": null,
            "bottom": null,
            "display": null,
            "flex": null,
            "flex_flow": null,
            "grid_area": null,
            "grid_auto_columns": null,
            "grid_auto_flow": null,
            "grid_auto_rows": null,
            "grid_column": null,
            "grid_gap": null,
            "grid_row": null,
            "grid_template_areas": null,
            "grid_template_columns": null,
            "grid_template_rows": null,
            "height": null,
            "justify_content": null,
            "justify_items": null,
            "left": null,
            "margin": null,
            "max_height": null,
            "max_width": null,
            "min_height": null,
            "min_width": null,
            "object_fit": null,
            "object_position": null,
            "order": null,
            "overflow": null,
            "overflow_x": null,
            "overflow_y": null,
            "padding": null,
            "right": null,
            "top": null,
            "visibility": null,
            "width": null
          }
        },
        "4ded1d627a43427ea7bc593f56fb1c0c": {
          "model_module": "@jupyter-widgets/controls",
          "model_name": "DescriptionStyleModel",
          "model_module_version": "1.5.0",
          "state": {
            "_model_module": "@jupyter-widgets/controls",
            "_model_module_version": "1.5.0",
            "_model_name": "DescriptionStyleModel",
            "_view_count": null,
            "_view_module": "@jupyter-widgets/base",
            "_view_module_version": "1.2.0",
            "_view_name": "StyleView",
            "description_width": ""
          }
        },
        "4c74ce890461426fa970c14c76af54b7": {
          "model_module": "@jupyter-widgets/controls",
          "model_name": "HBoxModel",
          "model_module_version": "1.5.0",
          "state": {
            "_dom_classes": [],
            "_model_module": "@jupyter-widgets/controls",
            "_model_module_version": "1.5.0",
            "_model_name": "HBoxModel",
            "_view_count": null,
            "_view_module": "@jupyter-widgets/controls",
            "_view_module_version": "1.5.0",
            "_view_name": "HBoxView",
            "box_style": "",
            "children": [
              "IPY_MODEL_e1993c11296847a2af7011ad4c2eb27b",
              "IPY_MODEL_8afe1e3e002145f0a8094b4be457cc2c",
              "IPY_MODEL_4ca4c01739ef48a8ad56f4cbd98222bf"
            ],
            "layout": "IPY_MODEL_0d54fcbde6174663af242d2397af2c0f"
          }
        },
        "e1993c11296847a2af7011ad4c2eb27b": {
          "model_module": "@jupyter-widgets/controls",
          "model_name": "HTMLModel",
          "model_module_version": "1.5.0",
          "state": {
            "_dom_classes": [],
            "_model_module": "@jupyter-widgets/controls",
            "_model_module_version": "1.5.0",
            "_model_name": "HTMLModel",
            "_view_count": null,
            "_view_module": "@jupyter-widgets/controls",
            "_view_module_version": "1.5.0",
            "_view_name": "HTMLView",
            "description": "",
            "description_tooltip": null,
            "layout": "IPY_MODEL_a93960b344384bbbb138777228852d91",
            "placeholder": "​",
            "style": "IPY_MODEL_7cf603afe2944f06bc113a5975d1c7ab",
            "value": "100%"
          }
        },
        "8afe1e3e002145f0a8094b4be457cc2c": {
          "model_module": "@jupyter-widgets/controls",
          "model_name": "FloatProgressModel",
          "model_module_version": "1.5.0",
          "state": {
            "_dom_classes": [],
            "_model_module": "@jupyter-widgets/controls",
            "_model_module_version": "1.5.0",
            "_model_name": "FloatProgressModel",
            "_view_count": null,
            "_view_module": "@jupyter-widgets/controls",
            "_view_module_version": "1.5.0",
            "_view_name": "ProgressView",
            "bar_style": "success",
            "description": "",
            "description_tooltip": null,
            "layout": "IPY_MODEL_44e62f6ff28349f3b3038c5743f859d3",
            "max": 28881,
            "min": 0,
            "orientation": "horizontal",
            "style": "IPY_MODEL_aba4e595b1c746dd972cb94b29b215d3",
            "value": 28881
          }
        },
        "4ca4c01739ef48a8ad56f4cbd98222bf": {
          "model_module": "@jupyter-widgets/controls",
          "model_name": "HTMLModel",
          "model_module_version": "1.5.0",
          "state": {
            "_dom_classes": [],
            "_model_module": "@jupyter-widgets/controls",
            "_model_module_version": "1.5.0",
            "_model_name": "HTMLModel",
            "_view_count": null,
            "_view_module": "@jupyter-widgets/controls",
            "_view_module_version": "1.5.0",
            "_view_name": "HTMLView",
            "description": "",
            "description_tooltip": null,
            "layout": "IPY_MODEL_94264c0d014f4d0e87b702c35333e4db",
            "placeholder": "​",
            "style": "IPY_MODEL_5341712fcf534aa1ad7b06be2388d644",
            "value": " 28881/28881 [00:00&lt;00:00, 1224520.53it/s]"
          }
        },
        "0d54fcbde6174663af242d2397af2c0f": {
          "model_module": "@jupyter-widgets/base",
          "model_name": "LayoutModel",
          "model_module_version": "1.2.0",
          "state": {
            "_model_module": "@jupyter-widgets/base",
            "_model_module_version": "1.2.0",
            "_model_name": "LayoutModel",
            "_view_count": null,
            "_view_module": "@jupyter-widgets/base",
            "_view_module_version": "1.2.0",
            "_view_name": "LayoutView",
            "align_content": null,
            "align_items": null,
            "align_self": null,
            "border": null,
            "bottom": null,
            "display": null,
            "flex": null,
            "flex_flow": null,
            "grid_area": null,
            "grid_auto_columns": null,
            "grid_auto_flow": null,
            "grid_auto_rows": null,
            "grid_column": null,
            "grid_gap": null,
            "grid_row": null,
            "grid_template_areas": null,
            "grid_template_columns": null,
            "grid_template_rows": null,
            "height": null,
            "justify_content": null,
            "justify_items": null,
            "left": null,
            "margin": null,
            "max_height": null,
            "max_width": null,
            "min_height": null,
            "min_width": null,
            "object_fit": null,
            "object_position": null,
            "order": null,
            "overflow": null,
            "overflow_x": null,
            "overflow_y": null,
            "padding": null,
            "right": null,
            "top": null,
            "visibility": null,
            "width": null
          }
        },
        "a93960b344384bbbb138777228852d91": {
          "model_module": "@jupyter-widgets/base",
          "model_name": "LayoutModel",
          "model_module_version": "1.2.0",
          "state": {
            "_model_module": "@jupyter-widgets/base",
            "_model_module_version": "1.2.0",
            "_model_name": "LayoutModel",
            "_view_count": null,
            "_view_module": "@jupyter-widgets/base",
            "_view_module_version": "1.2.0",
            "_view_name": "LayoutView",
            "align_content": null,
            "align_items": null,
            "align_self": null,
            "border": null,
            "bottom": null,
            "display": null,
            "flex": null,
            "flex_flow": null,
            "grid_area": null,
            "grid_auto_columns": null,
            "grid_auto_flow": null,
            "grid_auto_rows": null,
            "grid_column": null,
            "grid_gap": null,
            "grid_row": null,
            "grid_template_areas": null,
            "grid_template_columns": null,
            "grid_template_rows": null,
            "height": null,
            "justify_content": null,
            "justify_items": null,
            "left": null,
            "margin": null,
            "max_height": null,
            "max_width": null,
            "min_height": null,
            "min_width": null,
            "object_fit": null,
            "object_position": null,
            "order": null,
            "overflow": null,
            "overflow_x": null,
            "overflow_y": null,
            "padding": null,
            "right": null,
            "top": null,
            "visibility": null,
            "width": null
          }
        },
        "7cf603afe2944f06bc113a5975d1c7ab": {
          "model_module": "@jupyter-widgets/controls",
          "model_name": "DescriptionStyleModel",
          "model_module_version": "1.5.0",
          "state": {
            "_model_module": "@jupyter-widgets/controls",
            "_model_module_version": "1.5.0",
            "_model_name": "DescriptionStyleModel",
            "_view_count": null,
            "_view_module": "@jupyter-widgets/base",
            "_view_module_version": "1.2.0",
            "_view_name": "StyleView",
            "description_width": ""
          }
        },
        "44e62f6ff28349f3b3038c5743f859d3": {
          "model_module": "@jupyter-widgets/base",
          "model_name": "LayoutModel",
          "model_module_version": "1.2.0",
          "state": {
            "_model_module": "@jupyter-widgets/base",
            "_model_module_version": "1.2.0",
            "_model_name": "LayoutModel",
            "_view_count": null,
            "_view_module": "@jupyter-widgets/base",
            "_view_module_version": "1.2.0",
            "_view_name": "LayoutView",
            "align_content": null,
            "align_items": null,
            "align_self": null,
            "border": null,
            "bottom": null,
            "display": null,
            "flex": null,
            "flex_flow": null,
            "grid_area": null,
            "grid_auto_columns": null,
            "grid_auto_flow": null,
            "grid_auto_rows": null,
            "grid_column": null,
            "grid_gap": null,
            "grid_row": null,
            "grid_template_areas": null,
            "grid_template_columns": null,
            "grid_template_rows": null,
            "height": null,
            "justify_content": null,
            "justify_items": null,
            "left": null,
            "margin": null,
            "max_height": null,
            "max_width": null,
            "min_height": null,
            "min_width": null,
            "object_fit": null,
            "object_position": null,
            "order": null,
            "overflow": null,
            "overflow_x": null,
            "overflow_y": null,
            "padding": null,
            "right": null,
            "top": null,
            "visibility": null,
            "width": null
          }
        },
        "aba4e595b1c746dd972cb94b29b215d3": {
          "model_module": "@jupyter-widgets/controls",
          "model_name": "ProgressStyleModel",
          "model_module_version": "1.5.0",
          "state": {
            "_model_module": "@jupyter-widgets/controls",
            "_model_module_version": "1.5.0",
            "_model_name": "ProgressStyleModel",
            "_view_count": null,
            "_view_module": "@jupyter-widgets/base",
            "_view_module_version": "1.2.0",
            "_view_name": "StyleView",
            "bar_color": null,
            "description_width": ""
          }
        },
        "94264c0d014f4d0e87b702c35333e4db": {
          "model_module": "@jupyter-widgets/base",
          "model_name": "LayoutModel",
          "model_module_version": "1.2.0",
          "state": {
            "_model_module": "@jupyter-widgets/base",
            "_model_module_version": "1.2.0",
            "_model_name": "LayoutModel",
            "_view_count": null,
            "_view_module": "@jupyter-widgets/base",
            "_view_module_version": "1.2.0",
            "_view_name": "LayoutView",
            "align_content": null,
            "align_items": null,
            "align_self": null,
            "border": null,
            "bottom": null,
            "display": null,
            "flex": null,
            "flex_flow": null,
            "grid_area": null,
            "grid_auto_columns": null,
            "grid_auto_flow": null,
            "grid_auto_rows": null,
            "grid_column": null,
            "grid_gap": null,
            "grid_row": null,
            "grid_template_areas": null,
            "grid_template_columns": null,
            "grid_template_rows": null,
            "height": null,
            "justify_content": null,
            "justify_items": null,
            "left": null,
            "margin": null,
            "max_height": null,
            "max_width": null,
            "min_height": null,
            "min_width": null,
            "object_fit": null,
            "object_position": null,
            "order": null,
            "overflow": null,
            "overflow_x": null,
            "overflow_y": null,
            "padding": null,
            "right": null,
            "top": null,
            "visibility": null,
            "width": null
          }
        },
        "5341712fcf534aa1ad7b06be2388d644": {
          "model_module": "@jupyter-widgets/controls",
          "model_name": "DescriptionStyleModel",
          "model_module_version": "1.5.0",
          "state": {
            "_model_module": "@jupyter-widgets/controls",
            "_model_module_version": "1.5.0",
            "_model_name": "DescriptionStyleModel",
            "_view_count": null,
            "_view_module": "@jupyter-widgets/base",
            "_view_module_version": "1.2.0",
            "_view_name": "StyleView",
            "description_width": ""
          }
        },
        "208bce52dd7649a7b671cbe47d3c40a6": {
          "model_module": "@jupyter-widgets/controls",
          "model_name": "HBoxModel",
          "model_module_version": "1.5.0",
          "state": {
            "_dom_classes": [],
            "_model_module": "@jupyter-widgets/controls",
            "_model_module_version": "1.5.0",
            "_model_name": "HBoxModel",
            "_view_count": null,
            "_view_module": "@jupyter-widgets/controls",
            "_view_module_version": "1.5.0",
            "_view_name": "HBoxView",
            "box_style": "",
            "children": [
              "IPY_MODEL_fa453b1d2c654b0eb3a25e4d70f4531f",
              "IPY_MODEL_d2b0fd5ebf2047ebb7412cbe73570d78",
              "IPY_MODEL_08b18ee773ae434ca085bb03fc0ed3e0"
            ],
            "layout": "IPY_MODEL_1313f76a649542c689c0f46ec035a88a"
          }
        },
        "fa453b1d2c654b0eb3a25e4d70f4531f": {
          "model_module": "@jupyter-widgets/controls",
          "model_name": "HTMLModel",
          "model_module_version": "1.5.0",
          "state": {
            "_dom_classes": [],
            "_model_module": "@jupyter-widgets/controls",
            "_model_module_version": "1.5.0",
            "_model_name": "HTMLModel",
            "_view_count": null,
            "_view_module": "@jupyter-widgets/controls",
            "_view_module_version": "1.5.0",
            "_view_name": "HTMLView",
            "description": "",
            "description_tooltip": null,
            "layout": "IPY_MODEL_9930191cdb4b4bd2a0dc7ec55dfdb667",
            "placeholder": "​",
            "style": "IPY_MODEL_3d38afa135724cdbbbdf44bba4e46149",
            "value": "100%"
          }
        },
        "d2b0fd5ebf2047ebb7412cbe73570d78": {
          "model_module": "@jupyter-widgets/controls",
          "model_name": "FloatProgressModel",
          "model_module_version": "1.5.0",
          "state": {
            "_dom_classes": [],
            "_model_module": "@jupyter-widgets/controls",
            "_model_module_version": "1.5.0",
            "_model_name": "FloatProgressModel",
            "_view_count": null,
            "_view_module": "@jupyter-widgets/controls",
            "_view_module_version": "1.5.0",
            "_view_name": "ProgressView",
            "bar_style": "success",
            "description": "",
            "description_tooltip": null,
            "layout": "IPY_MODEL_f4ec8b8da2f3458d82695cbd4f42b8a4",
            "max": 1648877,
            "min": 0,
            "orientation": "horizontal",
            "style": "IPY_MODEL_dd42231a51d548f29f5c9a01acf474fb",
            "value": 1648877
          }
        },
        "08b18ee773ae434ca085bb03fc0ed3e0": {
          "model_module": "@jupyter-widgets/controls",
          "model_name": "HTMLModel",
          "model_module_version": "1.5.0",
          "state": {
            "_dom_classes": [],
            "_model_module": "@jupyter-widgets/controls",
            "_model_module_version": "1.5.0",
            "_model_name": "HTMLModel",
            "_view_count": null,
            "_view_module": "@jupyter-widgets/controls",
            "_view_module_version": "1.5.0",
            "_view_name": "HTMLView",
            "description": "",
            "description_tooltip": null,
            "layout": "IPY_MODEL_b5eeceb1753f475ebdbf78ded31d7512",
            "placeholder": "​",
            "style": "IPY_MODEL_4565e957f4c5487c8531b38212dea09f",
            "value": " 1648877/1648877 [00:00&lt;00:00, 46687986.21it/s]"
          }
        },
        "1313f76a649542c689c0f46ec035a88a": {
          "model_module": "@jupyter-widgets/base",
          "model_name": "LayoutModel",
          "model_module_version": "1.2.0",
          "state": {
            "_model_module": "@jupyter-widgets/base",
            "_model_module_version": "1.2.0",
            "_model_name": "LayoutModel",
            "_view_count": null,
            "_view_module": "@jupyter-widgets/base",
            "_view_module_version": "1.2.0",
            "_view_name": "LayoutView",
            "align_content": null,
            "align_items": null,
            "align_self": null,
            "border": null,
            "bottom": null,
            "display": null,
            "flex": null,
            "flex_flow": null,
            "grid_area": null,
            "grid_auto_columns": null,
            "grid_auto_flow": null,
            "grid_auto_rows": null,
            "grid_column": null,
            "grid_gap": null,
            "grid_row": null,
            "grid_template_areas": null,
            "grid_template_columns": null,
            "grid_template_rows": null,
            "height": null,
            "justify_content": null,
            "justify_items": null,
            "left": null,
            "margin": null,
            "max_height": null,
            "max_width": null,
            "min_height": null,
            "min_width": null,
            "object_fit": null,
            "object_position": null,
            "order": null,
            "overflow": null,
            "overflow_x": null,
            "overflow_y": null,
            "padding": null,
            "right": null,
            "top": null,
            "visibility": null,
            "width": null
          }
        },
        "9930191cdb4b4bd2a0dc7ec55dfdb667": {
          "model_module": "@jupyter-widgets/base",
          "model_name": "LayoutModel",
          "model_module_version": "1.2.0",
          "state": {
            "_model_module": "@jupyter-widgets/base",
            "_model_module_version": "1.2.0",
            "_model_name": "LayoutModel",
            "_view_count": null,
            "_view_module": "@jupyter-widgets/base",
            "_view_module_version": "1.2.0",
            "_view_name": "LayoutView",
            "align_content": null,
            "align_items": null,
            "align_self": null,
            "border": null,
            "bottom": null,
            "display": null,
            "flex": null,
            "flex_flow": null,
            "grid_area": null,
            "grid_auto_columns": null,
            "grid_auto_flow": null,
            "grid_auto_rows": null,
            "grid_column": null,
            "grid_gap": null,
            "grid_row": null,
            "grid_template_areas": null,
            "grid_template_columns": null,
            "grid_template_rows": null,
            "height": null,
            "justify_content": null,
            "justify_items": null,
            "left": null,
            "margin": null,
            "max_height": null,
            "max_width": null,
            "min_height": null,
            "min_width": null,
            "object_fit": null,
            "object_position": null,
            "order": null,
            "overflow": null,
            "overflow_x": null,
            "overflow_y": null,
            "padding": null,
            "right": null,
            "top": null,
            "visibility": null,
            "width": null
          }
        },
        "3d38afa135724cdbbbdf44bba4e46149": {
          "model_module": "@jupyter-widgets/controls",
          "model_name": "DescriptionStyleModel",
          "model_module_version": "1.5.0",
          "state": {
            "_model_module": "@jupyter-widgets/controls",
            "_model_module_version": "1.5.0",
            "_model_name": "DescriptionStyleModel",
            "_view_count": null,
            "_view_module": "@jupyter-widgets/base",
            "_view_module_version": "1.2.0",
            "_view_name": "StyleView",
            "description_width": ""
          }
        },
        "f4ec8b8da2f3458d82695cbd4f42b8a4": {
          "model_module": "@jupyter-widgets/base",
          "model_name": "LayoutModel",
          "model_module_version": "1.2.0",
          "state": {
            "_model_module": "@jupyter-widgets/base",
            "_model_module_version": "1.2.0",
            "_model_name": "LayoutModel",
            "_view_count": null,
            "_view_module": "@jupyter-widgets/base",
            "_view_module_version": "1.2.0",
            "_view_name": "LayoutView",
            "align_content": null,
            "align_items": null,
            "align_self": null,
            "border": null,
            "bottom": null,
            "display": null,
            "flex": null,
            "flex_flow": null,
            "grid_area": null,
            "grid_auto_columns": null,
            "grid_auto_flow": null,
            "grid_auto_rows": null,
            "grid_column": null,
            "grid_gap": null,
            "grid_row": null,
            "grid_template_areas": null,
            "grid_template_columns": null,
            "grid_template_rows": null,
            "height": null,
            "justify_content": null,
            "justify_items": null,
            "left": null,
            "margin": null,
            "max_height": null,
            "max_width": null,
            "min_height": null,
            "min_width": null,
            "object_fit": null,
            "object_position": null,
            "order": null,
            "overflow": null,
            "overflow_x": null,
            "overflow_y": null,
            "padding": null,
            "right": null,
            "top": null,
            "visibility": null,
            "width": null
          }
        },
        "dd42231a51d548f29f5c9a01acf474fb": {
          "model_module": "@jupyter-widgets/controls",
          "model_name": "ProgressStyleModel",
          "model_module_version": "1.5.0",
          "state": {
            "_model_module": "@jupyter-widgets/controls",
            "_model_module_version": "1.5.0",
            "_model_name": "ProgressStyleModel",
            "_view_count": null,
            "_view_module": "@jupyter-widgets/base",
            "_view_module_version": "1.2.0",
            "_view_name": "StyleView",
            "bar_color": null,
            "description_width": ""
          }
        },
        "b5eeceb1753f475ebdbf78ded31d7512": {
          "model_module": "@jupyter-widgets/base",
          "model_name": "LayoutModel",
          "model_module_version": "1.2.0",
          "state": {
            "_model_module": "@jupyter-widgets/base",
            "_model_module_version": "1.2.0",
            "_model_name": "LayoutModel",
            "_view_count": null,
            "_view_module": "@jupyter-widgets/base",
            "_view_module_version": "1.2.0",
            "_view_name": "LayoutView",
            "align_content": null,
            "align_items": null,
            "align_self": null,
            "border": null,
            "bottom": null,
            "display": null,
            "flex": null,
            "flex_flow": null,
            "grid_area": null,
            "grid_auto_columns": null,
            "grid_auto_flow": null,
            "grid_auto_rows": null,
            "grid_column": null,
            "grid_gap": null,
            "grid_row": null,
            "grid_template_areas": null,
            "grid_template_columns": null,
            "grid_template_rows": null,
            "height": null,
            "justify_content": null,
            "justify_items": null,
            "left": null,
            "margin": null,
            "max_height": null,
            "max_width": null,
            "min_height": null,
            "min_width": null,
            "object_fit": null,
            "object_position": null,
            "order": null,
            "overflow": null,
            "overflow_x": null,
            "overflow_y": null,
            "padding": null,
            "right": null,
            "top": null,
            "visibility": null,
            "width": null
          }
        },
        "4565e957f4c5487c8531b38212dea09f": {
          "model_module": "@jupyter-widgets/controls",
          "model_name": "DescriptionStyleModel",
          "model_module_version": "1.5.0",
          "state": {
            "_model_module": "@jupyter-widgets/controls",
            "_model_module_version": "1.5.0",
            "_model_name": "DescriptionStyleModel",
            "_view_count": null,
            "_view_module": "@jupyter-widgets/base",
            "_view_module_version": "1.2.0",
            "_view_name": "StyleView",
            "description_width": ""
          }
        },
        "12e7603ccbb3464e80298b437e95aa6a": {
          "model_module": "@jupyter-widgets/controls",
          "model_name": "HBoxModel",
          "model_module_version": "1.5.0",
          "state": {
            "_dom_classes": [],
            "_model_module": "@jupyter-widgets/controls",
            "_model_module_version": "1.5.0",
            "_model_name": "HBoxModel",
            "_view_count": null,
            "_view_module": "@jupyter-widgets/controls",
            "_view_module_version": "1.5.0",
            "_view_name": "HBoxView",
            "box_style": "",
            "children": [
              "IPY_MODEL_fca98ed84bf641f58ce73c12bd31649d",
              "IPY_MODEL_9e899713c39b4c459b7df5eb5b833b60",
              "IPY_MODEL_1b72068c469b43e9941d78cad99155f7"
            ],
            "layout": "IPY_MODEL_0aa9dca0bbe84f688011304bd90ba3b3"
          }
        },
        "fca98ed84bf641f58ce73c12bd31649d": {
          "model_module": "@jupyter-widgets/controls",
          "model_name": "HTMLModel",
          "model_module_version": "1.5.0",
          "state": {
            "_dom_classes": [],
            "_model_module": "@jupyter-widgets/controls",
            "_model_module_version": "1.5.0",
            "_model_name": "HTMLModel",
            "_view_count": null,
            "_view_module": "@jupyter-widgets/controls",
            "_view_module_version": "1.5.0",
            "_view_name": "HTMLView",
            "description": "",
            "description_tooltip": null,
            "layout": "IPY_MODEL_ca59264fc6834e3aa8c1b31fee5c260f",
            "placeholder": "​",
            "style": "IPY_MODEL_58242bada9034bfeafd6e09a8b9f797d",
            "value": "100%"
          }
        },
        "9e899713c39b4c459b7df5eb5b833b60": {
          "model_module": "@jupyter-widgets/controls",
          "model_name": "FloatProgressModel",
          "model_module_version": "1.5.0",
          "state": {
            "_dom_classes": [],
            "_model_module": "@jupyter-widgets/controls",
            "_model_module_version": "1.5.0",
            "_model_name": "FloatProgressModel",
            "_view_count": null,
            "_view_module": "@jupyter-widgets/controls",
            "_view_module_version": "1.5.0",
            "_view_name": "ProgressView",
            "bar_style": "success",
            "description": "",
            "description_tooltip": null,
            "layout": "IPY_MODEL_5b614c91bd974f039e3919653d0fde8c",
            "max": 4542,
            "min": 0,
            "orientation": "horizontal",
            "style": "IPY_MODEL_b4e505b8bdd9418b9f9ad09d8cb942c0",
            "value": 4542
          }
        },
        "1b72068c469b43e9941d78cad99155f7": {
          "model_module": "@jupyter-widgets/controls",
          "model_name": "HTMLModel",
          "model_module_version": "1.5.0",
          "state": {
            "_dom_classes": [],
            "_model_module": "@jupyter-widgets/controls",
            "_model_module_version": "1.5.0",
            "_model_name": "HTMLModel",
            "_view_count": null,
            "_view_module": "@jupyter-widgets/controls",
            "_view_module_version": "1.5.0",
            "_view_name": "HTMLView",
            "description": "",
            "description_tooltip": null,
            "layout": "IPY_MODEL_ba4a2828da7e43809f9c99ea37d3d887",
            "placeholder": "​",
            "style": "IPY_MODEL_b8b0cdd7af4b484eb17758d07c699020",
            "value": " 4542/4542 [00:00&lt;00:00, 177399.05it/s]"
          }
        },
        "0aa9dca0bbe84f688011304bd90ba3b3": {
          "model_module": "@jupyter-widgets/base",
          "model_name": "LayoutModel",
          "model_module_version": "1.2.0",
          "state": {
            "_model_module": "@jupyter-widgets/base",
            "_model_module_version": "1.2.0",
            "_model_name": "LayoutModel",
            "_view_count": null,
            "_view_module": "@jupyter-widgets/base",
            "_view_module_version": "1.2.0",
            "_view_name": "LayoutView",
            "align_content": null,
            "align_items": null,
            "align_self": null,
            "border": null,
            "bottom": null,
            "display": null,
            "flex": null,
            "flex_flow": null,
            "grid_area": null,
            "grid_auto_columns": null,
            "grid_auto_flow": null,
            "grid_auto_rows": null,
            "grid_column": null,
            "grid_gap": null,
            "grid_row": null,
            "grid_template_areas": null,
            "grid_template_columns": null,
            "grid_template_rows": null,
            "height": null,
            "justify_content": null,
            "justify_items": null,
            "left": null,
            "margin": null,
            "max_height": null,
            "max_width": null,
            "min_height": null,
            "min_width": null,
            "object_fit": null,
            "object_position": null,
            "order": null,
            "overflow": null,
            "overflow_x": null,
            "overflow_y": null,
            "padding": null,
            "right": null,
            "top": null,
            "visibility": null,
            "width": null
          }
        },
        "ca59264fc6834e3aa8c1b31fee5c260f": {
          "model_module": "@jupyter-widgets/base",
          "model_name": "LayoutModel",
          "model_module_version": "1.2.0",
          "state": {
            "_model_module": "@jupyter-widgets/base",
            "_model_module_version": "1.2.0",
            "_model_name": "LayoutModel",
            "_view_count": null,
            "_view_module": "@jupyter-widgets/base",
            "_view_module_version": "1.2.0",
            "_view_name": "LayoutView",
            "align_content": null,
            "align_items": null,
            "align_self": null,
            "border": null,
            "bottom": null,
            "display": null,
            "flex": null,
            "flex_flow": null,
            "grid_area": null,
            "grid_auto_columns": null,
            "grid_auto_flow": null,
            "grid_auto_rows": null,
            "grid_column": null,
            "grid_gap": null,
            "grid_row": null,
            "grid_template_areas": null,
            "grid_template_columns": null,
            "grid_template_rows": null,
            "height": null,
            "justify_content": null,
            "justify_items": null,
            "left": null,
            "margin": null,
            "max_height": null,
            "max_width": null,
            "min_height": null,
            "min_width": null,
            "object_fit": null,
            "object_position": null,
            "order": null,
            "overflow": null,
            "overflow_x": null,
            "overflow_y": null,
            "padding": null,
            "right": null,
            "top": null,
            "visibility": null,
            "width": null
          }
        },
        "58242bada9034bfeafd6e09a8b9f797d": {
          "model_module": "@jupyter-widgets/controls",
          "model_name": "DescriptionStyleModel",
          "model_module_version": "1.5.0",
          "state": {
            "_model_module": "@jupyter-widgets/controls",
            "_model_module_version": "1.5.0",
            "_model_name": "DescriptionStyleModel",
            "_view_count": null,
            "_view_module": "@jupyter-widgets/base",
            "_view_module_version": "1.2.0",
            "_view_name": "StyleView",
            "description_width": ""
          }
        },
        "5b614c91bd974f039e3919653d0fde8c": {
          "model_module": "@jupyter-widgets/base",
          "model_name": "LayoutModel",
          "model_module_version": "1.2.0",
          "state": {
            "_model_module": "@jupyter-widgets/base",
            "_model_module_version": "1.2.0",
            "_model_name": "LayoutModel",
            "_view_count": null,
            "_view_module": "@jupyter-widgets/base",
            "_view_module_version": "1.2.0",
            "_view_name": "LayoutView",
            "align_content": null,
            "align_items": null,
            "align_self": null,
            "border": null,
            "bottom": null,
            "display": null,
            "flex": null,
            "flex_flow": null,
            "grid_area": null,
            "grid_auto_columns": null,
            "grid_auto_flow": null,
            "grid_auto_rows": null,
            "grid_column": null,
            "grid_gap": null,
            "grid_row": null,
            "grid_template_areas": null,
            "grid_template_columns": null,
            "grid_template_rows": null,
            "height": null,
            "justify_content": null,
            "justify_items": null,
            "left": null,
            "margin": null,
            "max_height": null,
            "max_width": null,
            "min_height": null,
            "min_width": null,
            "object_fit": null,
            "object_position": null,
            "order": null,
            "overflow": null,
            "overflow_x": null,
            "overflow_y": null,
            "padding": null,
            "right": null,
            "top": null,
            "visibility": null,
            "width": null
          }
        },
        "b4e505b8bdd9418b9f9ad09d8cb942c0": {
          "model_module": "@jupyter-widgets/controls",
          "model_name": "ProgressStyleModel",
          "model_module_version": "1.5.0",
          "state": {
            "_model_module": "@jupyter-widgets/controls",
            "_model_module_version": "1.5.0",
            "_model_name": "ProgressStyleModel",
            "_view_count": null,
            "_view_module": "@jupyter-widgets/base",
            "_view_module_version": "1.2.0",
            "_view_name": "StyleView",
            "bar_color": null,
            "description_width": ""
          }
        },
        "ba4a2828da7e43809f9c99ea37d3d887": {
          "model_module": "@jupyter-widgets/base",
          "model_name": "LayoutModel",
          "model_module_version": "1.2.0",
          "state": {
            "_model_module": "@jupyter-widgets/base",
            "_model_module_version": "1.2.0",
            "_model_name": "LayoutModel",
            "_view_count": null,
            "_view_module": "@jupyter-widgets/base",
            "_view_module_version": "1.2.0",
            "_view_name": "LayoutView",
            "align_content": null,
            "align_items": null,
            "align_self": null,
            "border": null,
            "bottom": null,
            "display": null,
            "flex": null,
            "flex_flow": null,
            "grid_area": null,
            "grid_auto_columns": null,
            "grid_auto_flow": null,
            "grid_auto_rows": null,
            "grid_column": null,
            "grid_gap": null,
            "grid_row": null,
            "grid_template_areas": null,
            "grid_template_columns": null,
            "grid_template_rows": null,
            "height": null,
            "justify_content": null,
            "justify_items": null,
            "left": null,
            "margin": null,
            "max_height": null,
            "max_width": null,
            "min_height": null,
            "min_width": null,
            "object_fit": null,
            "object_position": null,
            "order": null,
            "overflow": null,
            "overflow_x": null,
            "overflow_y": null,
            "padding": null,
            "right": null,
            "top": null,
            "visibility": null,
            "width": null
          }
        },
        "b8b0cdd7af4b484eb17758d07c699020": {
          "model_module": "@jupyter-widgets/controls",
          "model_name": "DescriptionStyleModel",
          "model_module_version": "1.5.0",
          "state": {
            "_model_module": "@jupyter-widgets/controls",
            "_model_module_version": "1.5.0",
            "_model_name": "DescriptionStyleModel",
            "_view_count": null,
            "_view_module": "@jupyter-widgets/base",
            "_view_module_version": "1.2.0",
            "_view_name": "StyleView",
            "description_width": ""
          }
        }
      }
    }
  },
  "nbformat": 4,
  "nbformat_minor": 0
}