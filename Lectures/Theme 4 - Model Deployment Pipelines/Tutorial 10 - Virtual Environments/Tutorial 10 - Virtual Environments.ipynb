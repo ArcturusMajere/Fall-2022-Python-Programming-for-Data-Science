{
 "cells": [
  {
   "cell_type": "markdown",
   "id": "182c44d2",
   "metadata": {},
   "source": [
    "# Python virtual environment cheat sheet\n",
    "\n",
    "Basic info:\n",
    "\n",
    "What is `venv`?\n",
    "\n",
    "`venv` is a lightweight module for managing `Python` virtual environments. This allows you to manage seperate package version for different projects. When creating a new project, you can simply create a new virtual environment. \n",
    "\n",
    "Why use `venv`?\n",
    "\n",
    "By creating and managing seperate environemnts for different projects,  there is no chance of breaking currenty installed packages in other environments. It is very similiar in nature to `conda`, but it was made specific for to be used with python. It also helps with reproducability among developers and researchers working on large projects.  \n",
    "\n",
    "\n",
    "- The full official documentation for `venv` can be found [here](https://docs.python.org/3/library/venv.html)\n",
    "- The full official user guide for `venv` can be found [here](https://packaging.python.org/en/latest/guides/installing-using-pip-and-virtual-environments/#creating-a-virtual-environment)\n",
    "- The PEP proposal for `venv` can be found [here](https://peps.python.org/pep-0405/)\n",
    "\n",
    "If you are looking for practical exmaples, I recommend consulting the user guide; however, if you are looking for more information about specific details of `venv`, I recommend consulting the full documentation."
   ]
  },
  {
   "cell_type": "markdown",
   "id": "cacf2b06",
   "metadata": {},
   "source": [
    "# Installing `venv`\n",
    "\n",
    "`venv` should be included in the standard python library. If for some reason you must install it, this can be done with the following command:\n",
    "\n",
    "`python3 -m pip install --user virutalenv`\n",
    "\n",
    "Note: on Debian/Ubuntu systems, you will need to install the python3-venv package using the following command:\n",
    "\n",
    "`apt install python3.10-venv`."
   ]
  },
  {
   "cell_type": "markdown",
   "id": "e3c3b4f1",
   "metadata": {},
   "source": [
    "# Creating a virtual environment\n",
    "\n",
    "To create a virutal envonment, run the following command:\n",
    "\n",
    "`python3 -m venv path/to/new/virutal/environment`.\n",
    "\n",
    "Alternatively, there is a script installed with the `venv` library to make this more slightly more convenient:\n",
    "\n",
    "`pyvenv /path/to/new/virtual/environment`."
   ]
  },
  {
   "cell_type": "markdown",
   "id": "04d09c54",
   "metadata": {},
   "source": [
    "# Activating a virtual environment\n",
    "\n",
    "Before we can start installing packages in the virtual environment, we must activate it. Doing so will put the virtual environment specfic python and pip executables in your shell's `PATH`\n",
    "To activate a virtual environment, run the following command: \n",
    "\n",
    "`source <path-to-venv>/bin/activate` \n",
    "\n",
    "To confirm that the virtual enviroment has been activated you can check the location of your Pyhton interpreter:\n",
    "\n",
    "`which python`\n",
    "\n",
    "As long as the environment is active, you'll be able to import packages installed in the environment.\n",
    "\n",
    "To leave the environment run:\n",
    "\n",
    "`deactivate`"
   ]
  },
  {
   "cell_type": "markdown",
   "id": "17c004ef",
   "metadata": {},
   "source": [
    "# Installing packages\n",
    "\n",
    "Make sure the environemmnt you wish to install packages into is active. Once this is done, it is as simple as installing packages through pip as you would normally. An exmaple command to install requests (a popular  library for making HTTP requests):\n",
    "\n",
    "`python -m pip install requests`"
   ]
  },
  {
   "cell_type": "markdown",
   "id": "11f308ea",
   "metadata": {},
   "source": [
    "# A word of caution and some best practices\n",
    "\n",
    "When a script is installed using `venv`, their shebang line points to the environments python interpreter. This means that these environments are inherently non-portable.\n",
    "\n",
    "Moreover, if one is careful to include the _**ABSOLUTE PATH**_ to the desired environments interpreter in the shebang line, it is not necessary to activate the virtual environent before running the script.\n",
    "\n",
    "For example, say you have an environment called `env` that has some non-standard packages installed. Then, you start writing a script that relies upon these packages but you did not want to (or can not) ensure the environment was active before running it, simply put something like the following as the shebang line:\n",
    "\n",
    "`#!/<path-to-venv>/bin/python`\n",
    "\n",
    "For more information as well as a simple example, refer to the video recording of the lecture."
   ]
  },
  {
   "cell_type": "code",
   "execution_count": null,
   "id": "e034dad4",
   "metadata": {},
   "outputs": [],
   "source": []
  }
 ],
 "metadata": {
  "kernelspec": {
   "display_name": "Python 3 (ipykernel)",
   "language": "python",
   "name": "python3"
  },
  "language_info": {
   "codemirror_mode": {
    "name": "ipython",
    "version": 3
   },
   "file_extension": ".py",
   "mimetype": "text/x-python",
   "name": "python",
   "nbconvert_exporter": "python",
   "pygments_lexer": "ipython3",
   "version": "3.9.13"
  }
 },
 "nbformat": 4,
 "nbformat_minor": 5
}
