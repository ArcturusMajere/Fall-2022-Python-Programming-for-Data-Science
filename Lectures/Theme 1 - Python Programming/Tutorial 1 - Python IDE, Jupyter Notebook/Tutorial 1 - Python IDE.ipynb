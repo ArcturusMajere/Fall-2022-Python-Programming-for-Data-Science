{
 "cells": [
  {
   "cell_type": "markdown",
   "metadata": {},
   "source": [
    "# Tutorial 1 Python IDE"
   ]
  },
  {
   "cell_type": "markdown",
   "metadata": {},
   "source": [
    "This tutorial presents several common environments and editors for Python code development.\n",
    "\n",
    "It contains the following subsections:\n",
    "- [IDEs](#section1)\n",
    "- [Introduction to Jupyter Notebook](#section2)\n",
    "- [Other IDEs and Code Editors for Python](#section3)"
   ]
  },
  {
   "cell_type": "markdown",
   "metadata": {},
   "source": [
    "### IDEs <a id=\"section1\"/>"
   ]
  },
  {
   "cell_type": "markdown",
   "metadata": {},
   "source": [
    "> An ***IDE (or Integrated Development Environment)*** is a program that integrates tools to facilitate software development, such as a code editor, tools for program execution and debugging, and source control.\n",
    "\n",
    "In other words, an IDE is a graphical user interface for program development, that allows end-users to edit, run, browse, and debug programs from a single interface. Using an IDE is especially convenient for beginners to start editing and running codes.\n",
    "\n",
    "Most IDEs support several different programming languages. There are some that are designed specifically for Python development (like the IDLE described in the last section of this lecture).\n",
    "\n",
    "Also, most IDEs offer a ***code editor***, although the code editor can be an independent software application. A code editor can be a simple text editor, or it can also allow code execution and debugging. In comparison to IDEs, code editors are simpler, but they are also less resource-demanding."
   ]
  },
  {
   "cell_type": "markdown",
   "metadata": {},
   "source": [
    "In general, IDEs offer the following basic features:\n",
    "- Save and reload code files\n",
    "- Run code from within the environment\n",
    "- Debugging support\n",
    "- Syntax highlighting\n",
    "- Automatic code formatting\n",
    "\n",
    "The debugging support typically allows setting breakpoints in the code that stop the execution, showing variable values, and so on. For simpler debugging operations, most IDEs allow clicking on the text of an error message to quickly jump to the line of code where the error occurred, and after correcting the error to quickly run the code.\n",
    "\n",
    "Syntax highlighting refers to displaying source code using different colors and fonts according to the category of the written text and commands. It facilitates code writing by providing visually distinct syntax, and it can help to identify mistakes in the code.\n",
    "\n",
    "Automatic code formatting can include features such as automated indentation, automated spacing around operators, auto-completion, etc.\n",
    "\n",
    "Other helpful features often include: advanced text and file search options, help links or pop-up windows when hovering with the mouse over an object, selection list for object attributes (e.g., after a '.' press the Tab key), links to definition of objects, and similar."
   ]
  },
  {
   "cell_type": "markdown",
   "metadata": {},
   "source": [
    "### Introduction to Jupyter Notebook <a id=\"section2\"/>"
   ]
  },
  {
   "cell_type": "markdown",
   "metadata": {},
   "source": [
    "Jupyter Notebook is a general-purpose IDE, build upon an older IDE for Python called IPython. It is an open-source web application, designed for sharing documents that contain code, text, equations, and visualizations. It is part of [Project Jupyter](https://jupyter.org/), which also includes Jupyter Lab - an updated version of Jupyter Notebook with enhanced capabilities."
   ]
  },
  {
   "cell_type": "markdown",
   "metadata": {},
   "source": [
    "> **Notebooks** are documents that contain both code and text elements, such as equations, visualizations (i.e., figures and graphs), links, and similar related elements."
   ]
  },
  {
   "cell_type": "markdown",
   "metadata": {},
   "source": [
    "The name Jupyter does not really relate to the largest planet in the Solar system (spelled Jupiter), but instead, it is a coined word from the three core programming languages supported by the notebooks: Julia, Python, and R."
   ]
  },
  {
   "cell_type": "markdown",
   "metadata": {},
   "source": [
    "The Jupyter Notebook environment can be started by running the command `jupyter notebook` in the Command Prompt on Windows systems, or in the Anaconda prompt, or in a shell or terminal window on computers with other operating systems. "
   ]
  },
  {
   "cell_type": "markdown",
   "metadata": {},
   "source": [
    "<img style=\"float: left; height:160px;\" src=\"images/pic6.jpg\">"
   ]
  },
  {
   "cell_type": "markdown",
   "metadata": {},
   "source": [
    "Alternatively, on a Windows computer with installed Anaconda package, you can click on the `Start Programs` button in the lower-left corner, expand the `Anaconda` folder, and select `Jupyter Notebook`. (It is also convenient to create a shortcut on your desktop for direct access)."
   ]
  },
  {
   "cell_type": "markdown",
   "metadata": {},
   "source": [
    "<img style=\"float: left; height:360px; width:auto\" src=\"images/pic6a.jpg\">"
   ]
  },
  {
   "cell_type": "markdown",
   "metadata": {},
   "source": [
    "Jupyter will open in your default browser, or in a new tab if the browser has other open tabs, at the following URL: http://localhost:8888/tree. Localhost is not a website, it only indicates that the content is being served from your local machine, i.e. your computer. Therefore, Jupyter can be run on a computer without Internet access, or it can be run on a remote server accessed through the Internet.\n",
    "\n",
    "On my computer, the Jupyter environment (i.e., the Notebook server) looks like in the figure below. The environment is also called Jupyter Dashboard, as it allows working with and managing notebooks. The start-up directory for the Jupyter dashboard can be changed to a preferred directory."
   ]
  },
  {
   "cell_type": "markdown",
   "metadata": {},
   "source": [
    "<img style=\"float: left; height:290px; width:auto\" src=\"images/pic7.jpg\">"
   ]
  },
  {
   "cell_type": "markdown",
   "metadata": {},
   "source": [
    "Now, let's create a new notebook. Click on the `New` button in the upper right corner and from the drop-down menu select `Python 3`. Note that the New button also allows to create a new text file, folder, or open a new terminal (the terminal allows to run shell commands directly in your browser, instead of the Windows Command Prompt). "
   ]
  },
  {
   "cell_type": "markdown",
   "metadata": {},
   "source": [
    "<img style=\"float: left; height:260px; width:auto\" src=\"images/pic8.jpg\">"
   ]
  },
  {
   "cell_type": "markdown",
   "metadata": {},
   "source": [
    "The newly created notebook will look like this."
   ]
  },
  {
   "cell_type": "markdown",
   "metadata": {},
   "source": [
    "<img style=\"float: left; height:160px; width:auto\" src=\"images/pic9.jpg\">"
   ]
  },
  {
   "cell_type": "markdown",
   "metadata": {},
   "source": [
    "The default assigned title to new notebooks is Untitled. You can see the title at the top of the page.\n",
    "\n",
    "To change the title into a more descriptive one, click on the word `Untitled`. In the newly opened window enter the name `Hello world`, for example, and click on `Rename` to close the window."
   ]
  },
  {
   "cell_type": "markdown",
   "metadata": {},
   "source": [
    "<img style=\"float: left; height:200px; width:auto\" src=\"images/pic10.jpg\">"
   ]
  },
  {
   "cell_type": "markdown",
   "metadata": {},
   "source": [
    "The new title of the Notebook should now show at the top of the page. Also, if you switch back to the Jupyter Dashboard you will see the new notebook listed in the current working directory.\n",
    "\n",
    "The extension for Jupyter Notebook files is `.ipynb`, which is an acronym for IPython Notebook."
   ]
  },
  {
   "cell_type": "markdown",
   "metadata": {},
   "source": [
    "Jupyter Notebooks organize codes in cells. Our newly created notebook has one empty cell in it (that is the box with green borders). \n",
    "\n",
    "The cells use the Python 3 kernel that we choose when we created the notebook (the kernel is also called IPython kernel). This means that we can write and execute Python code in the cell. "
   ]
  },
  {
   "cell_type": "markdown",
   "metadata": {},
   "source": [
    "> A **cell** is a container for code to be executed by the notebook’s kernel or text to be displayed in the notebook."
   ]
  },
  {
   "cell_type": "markdown",
   "metadata": {},
   "source": [
    "> A **kernel** is a program that executes the code in a cell. \n",
    "Jupyter Notebook has a kernel for Python code, but also there are other kernels available for other programming languages."
   ]
  },
  {
   "cell_type": "markdown",
   "metadata": {},
   "source": [
    "Let's give it a try and write `print('Hello world!')` in the cell. To execute the cell, we can either click on the Run button in the toolbar on the top of the screen, or we can press the `Shift` and `Enter` keys of the keyboard."
   ]
  },
  {
   "cell_type": "markdown",
   "metadata": {},
   "source": [
    "<img style=\"float: left; height:200px; width:auto\" src=\"images/pic11.jpg\">"
   ]
  },
  {
   "cell_type": "markdown",
   "metadata": {},
   "source": [
    "When you run a code cell, the kernel executes the code and the output of the code is returned back to the cell to be displayed. \n",
    "\n",
    "Notice that each cell has a number, enclosed in square brackets `In [1]` to the left of the cell. If we write another statement in the next cell, the order of the cell will be automatically changed to `In [2]`. But also, if we run the first cell multiple times, each time the cell is executed the cell number will increase. This way, in a program with many cells, we can tell the order in which the cells were executed.\n",
    "\n",
    "Using multiple cells in a module allows to separate the code into logical groups, for improved code readability.\n",
    "\n",
    "Furthermore, the variables and imported packages are shared across cells. For instance, if we define a variable X in cell 2, we can invoke the same variable in cell 3. Therefore, importing libraries of defining functions needs to be done only once in a notebook, and they are afterward shared by all cells in the notebook."
   ]
  },
  {
   "cell_type": "markdown",
   "metadata": {},
   "source": [
    "<img style=\"float: left; height:165px; width:auto\" src=\"images/pic12.jpg\">"
   ]
  },
  {
   "cell_type": "markdown",
   "metadata": {},
   "source": [
    "Jupyter Notebooks have the following drop-down menus on the top of the screen:\n",
    "- **File**: allows to create a new notebook, open existing notebooks, or save, download, and close notebooks. \n",
    "- **Edit**: have cut, copy, and paste cells buttons. It also allows to delete, split, merge, or reorder the cells in a notebook. \n",
    "- **View**: offers commands for toggling the visibility of the header, toolbar, and line numbers.\n",
    "- **Insert**: is for inserting cells above or below the currently selected cell.\n",
    "- **Cells**: allows to run one cell, a group of several cells, or all the cells. \n",
    "- **Kernel**: is for working with the selected kernel. You can restart the kernel, reconnect to the kernel, shut it down, or change the kernel. \n",
    "- **Widgets**: allows to add widgets that can impart additional functionality to the cells. Imported widgets can make the notebooks more interactive, e.g., by adding buttons or input-based text.\n",
    "- **Help**: to get help about Jupyter Notebooks, learn about keyboard shortcuts, or access links to reference materials."
   ]
  },
  {
   "cell_type": "markdown",
   "metadata": {},
   "source": [
    "Beside the top menus, several functions that are the most commonly used can be invoked from the toolbar. If you hover the mouse over the icons, a brief description will show up. The icons include: save, insert a new cell, cut, copy, and paste selected cells, move cells up or down, run, interrupt, and restart the kernel, cell type, and open the command palette."
   ]
  },
  {
   "cell_type": "markdown",
   "metadata": {},
   "source": [
    "<img style=\"float: left; height:70px; width:auto\" src=\"images/pic14.jpg\">"
   ]
  },
  {
   "cell_type": "markdown",
   "metadata": {},
   "source": [
    "There are four cell types: Code, Markdown, Raw NBConvert, and Heading.\n",
    "\n",
    "The default one is **Code**, which we use for running codes.\n",
    "\n",
    "**Markdown** cells are used for Markdown, which a lightweight markup language with plain-text formatting syntax. In fact, I created this file using Markdown language cells. If you click within the cells of this file, you can see the original markdown text. The file extension is *.md* (e.g., the ReadMe documents on GitHub are markdown files). Markdown is a simple language, that adds formatting elements to plain text. For example, headings are created by adding the number sign (as in `# Lecture 1`), for **bold font** use two asterisks, for *italic font* use a single asterisk, etc (see several examples in the figure below). Still, Markdown accepts standard HTML language, which can add complexity when needed. To learn more about the syntax of Markdown language please follow this [link](https://www.markdownguide.org/basic-syntax/).\n",
    "\n",
    "**Raw NBConvert** cell type is only intended for special use cases, and it allows using the nbconvert command line tool to control the formatting when converting a Notebook to another format.\n",
    "\n",
    "**Heading** cell type was used for typing Headings in files, however, this cell type is not supported anymore. If you select it, it will inform you that you should use Markdown for typing Headings instead (funny that Heading is still listed as an option but it is not supported anymore). As we mentioned, Headings are created by using Markdown cells preceded by the number sign #."
   ]
  },
  {
   "cell_type": "markdown",
   "metadata": {},
   "source": [
    "<img style=\"float: left; height:170px; width:auto\" src=\"images/pic15.jpg\">"
   ]
  },
  {
   "cell_type": "markdown",
   "metadata": {},
   "source": [
    "The following cell shows examples of Markdown language code, and the cell afterward displays the output of the cell. Note that the markdown cells don't have the line numbers on the left."
   ]
  },
  {
   "cell_type": "code",
   "execution_count": null,
   "metadata": {},
   "outputs": [],
   "source": [
    "# This is a level 1 heading\n",
    "## This is a level 2 heading\n",
    "This is some plain text that forms a paragraph.\n",
    "Add emphasis via **bold** and __bold__, *italic* and _italic_, or ***bold and italic*** and ___bold and italic___.\n",
    "Paragraphs must be separated by an empty line.\n",
    "- Sometimes we want to include lists.\n",
    "    - Which can be indented.      \n",
    "\n",
    "[It is possible to include hyperlinks](https://www.example.com).\n",
    "\n",
    "1. Lists can also be numbered.\n",
    "2. For ordered lists.\n",
    "\n",
    "We can add inline equations using LaTeX code, e.g., $c = \\sqrt{a^2 + b^2}$,\n",
    "and equations in a new line: $$c = \\sqrt{a^2 + b^2}$$\n",
    "\n",
    "Inline code uses single backticks: `foo()`, and code blocks use triple backticks:\n",
    "```\n",
    "bar()\n",
    "```\n",
    "Or can be indented by 4 spaces:\n",
    "\n",
    "    foo()\n",
    "    \n",
    "And also we can add images, for example: ![Image title text](images/house.png)"
   ]
  },
  {
   "cell_type": "markdown",
   "metadata": {},
   "source": [
    "# This is a level 1 heading\n",
    "## This is a level 2 heading\n",
    "This is some plain text that forms a paragraph.\n",
    "Add emphasis via **bold** and __bold__, *italic* and _italic_, or ***bold and italic*** and ___bold and italic___.\n",
    "Paragraphs must be separated by an empty line.\n",
    "- Sometimes we want to include lists.\n",
    "    - Which can be indented.      \n",
    "\n",
    "[It is possible to include hyperlinks](https://www.example.com).\n",
    "\n",
    "1. Lists can also be numbered.\n",
    "2. For ordered lists.\n",
    "\n",
    "We can add inline equations using LaTeX code, e.g., $c = \\sqrt{a^2 + b^2}$,\n",
    "and equations in a new line: $$c = \\sqrt{a^2 + b^2}$$\n",
    "\n",
    "Inline code uses single backticks: `foo()`, and code blocks use triple backticks:\n",
    "\n",
    "```\n",
    "bar()\n",
    "```\n",
    "\n",
    "Or can be indented by 4 spaces:\n",
    "\n",
    "    foo()\n",
    " \n",
    "And also we can add images, for example: ![Image title text](images/house.png)  "
   ]
  },
  {
   "cell_type": "markdown",
   "metadata": {},
   "source": [
    "On the home page of the Jupyter server, beside Files, there are two other tabs:\n",
    "- **Running**: (shown below) lists the notebooks and terminals that are currently running. It allows to shutdown notebooks to release computational resources, or we may want to make sure that we have saved the variables before the notebook is shutdown (Note that even if you close the tab of the notebook, the kernel will continue to run in the background, and it needs to be shutdown to be fully \"closed\").   \n",
    "Otherwise, Jupyter Notebooks are auto-saved pretty frequently (every 120 seconds), and it is rare to lose data. A checkpoint file is created in a subdirectory of the working directory named `.ipynb_checkpoints`. The checkpoint file enables to recover your unsaved work in the event of an unexpected issue. \n",
    "\n",
    "- **Clusters**: used for IPython's parallel computing, which allows to control many individual kernels for parallel computing when working on compute-heavy tasks."
   ]
  },
  {
   "cell_type": "markdown",
   "metadata": {},
   "source": [
    "<img style=\"float: left; height:220px; width:auto\" src=\"images/pic13.jpg\">"
   ]
  },
  {
   "cell_type": "markdown",
   "metadata": {},
   "source": [
    "As we mentioned, Jupyter Notebooks can be shared by other people, by using `File` -> `Download as` function, which offers several different file formats: notebook (.ipynb), python (.py), HTML (.html), markdown (.md), LaTeX (.tex), PDF via LaTeX (.pdf), etc. Besides downloading, files can also be exported by using the nbconvert command."
   ]
  },
  {
   "cell_type": "markdown",
   "metadata": {},
   "source": [
    "In conclusion, Jupyter Notebooks are very useful for learning Python and testing your codes, as well as for sharing Python codes.\n",
    "\n",
    "For instance, the graduate students I work with usually share their codes as Jupyter Notebooks, so I can directly see the outputs of the codes, which may include numerical results, or graphs, tables, and other visualizations. The notebooks also show any error messages and other important information. Also note that the average time for executing codes for most of the problems we work on in machine learning is about 1-2 hours, and some codes take over 10 hours to complete. Being able to see the results without the need to run the codes myself is extremely helpful and simplifies the collaboration with the students. "
   ]
  },
  {
   "cell_type": "markdown",
   "metadata": {},
   "source": [
    "The following are tips for best practices when working with Jupyter Notebooks:\n",
    "- Don't forget to name your notebooks.\n",
    "- Provide comments to your code to improve the code readability, and help others understand your code.\n",
    "- Arrange your code into cells, using logical grouping of the code lines.\n",
    "- Keep the cells simple, and don't put too many functions into one cell.  \n",
    "- Try to import all packages in the first code cell of the notebook.\n",
    "- Display the graphics inline, so that they are visible to others (e.g., using `%matplotlib inline`)."
   ]
  },
  {
   "cell_type": "markdown",
   "metadata": {},
   "source": [
    "### Other IDEs and Code Editors for Python <a id=\"section3\"/>"
   ]
  },
  {
   "cell_type": "markdown",
   "metadata": {},
   "source": [
    "***IDLE*** is the original IDE for Python development. It is available for Windows, Unix, and Mac OS platforms, and it comes preinstalled with the Python installation. IDLE is free, easy to use, and portable across platforms.\n",
    "\n",
    "The name is a variation of IDE, and it is after one of the members of the Monty Python group - Eric Idle. \n",
    "\n",
    "To access IDLE, type in the Windows Command Prompt: `python -m idlelib.idle`. The IDLE window is shown in the figure below. Notice the `>>>` prompt in IDLE, which allows interactive programming, i.e., we can type commands and run them immediately. Also note the syntax highlighting of the entered Python statements, and the menu bar on the top of the window that is similar to the Jupyter Notebook menu and to other MS Office apps (e.g., MS Word).\n",
    "\n",
    "IDLE is simple to use and recommended for newcomers because it simplifies some details and does not assume prior experience with system command lines. On the other hand, it is somewhat limited compared to more advanced commercial IDEs."
   ]
  },
  {
   "cell_type": "markdown",
   "metadata": {},
   "source": [
    "<img style=\"float: left; height:250px; width:auto\" src=\"images/pic17-1.jpg\">"
   ]
  },
  {
   "cell_type": "markdown",
   "metadata": {},
   "source": [
    "***Spyder*** is a Python IDE ([https://github.com/spyder-ide/spyder](https://github.com/spyder-ide/spyder)) which is available with the Anaconda installation, so you should have it installed on your computer. It can be accessed from the Start Program menu, as shown below. Spyder offers most of the common IDE features. An interesting feature that is not offered by many similar IDEs is the variable explorer, which displays the user data and variables in a table-based layout inside the IDE."
   ]
  },
  {
   "cell_type": "markdown",
   "metadata": {},
   "source": [
    "<img style=\"float: left; height:250px; width:auto\" src=\"images/pic18a.jpg\"><img style=\"float: left; height:450px; width:auto\" src=\"images/pic18b.jpg\">"
   ]
  },
  {
   "cell_type": "markdown",
   "metadata": {},
   "source": [
    "***Visual Studio*** is a general-purpose IDE ([https://visualstudio.microsoft.com/vs/](https://visualstudio.microsoft.com/vs/)) developed by Microsoft. It is available for Windows and Mac OS, both as a free (Community) and paid (Professional and Enterprise) versions. Visual Studio provides support for program development in different programming languages. Python Tools for Visual Studio (PTVS) enables Python coding in Visual Studio. If you already have VS installed, adding PTVS is easy. VS is a large download, but it provides excellent tools for different languages."
   ]
  },
  {
   "cell_type": "markdown",
   "metadata": {},
   "source": [
    "<img style=\"float: left; height:350px; width:auto\" src=\"images/pic19.jpg\">"
   ]
  },
  {
   "cell_type": "markdown",
   "metadata": {},
   "source": [
    "***Visual Studio Code*** is a code editor ([https://code.visualstudio.com/](https://code.visualstudio.com/)), available for Windows, Linux, and Mac OS. Differently from Visual Studio, Visual Studio Code is small and light-weight, open-source, and extensible. Installing Python support is easy, and VS Code will recognize your Python installation and libraries automatically. VS Code is built using Electron, a framework for creating desktop applications using JavaScript, HTML, and CSS."
   ]
  },
  {
   "cell_type": "markdown",
   "metadata": {},
   "source": [
    "<img style=\"float: left; height:350px; width:auto\" src=\"images/pic20.jpg\">"
   ]
  },
  {
   "cell_type": "markdown",
   "metadata": {},
   "source": [
    "***Eclipse and PyDev*** is an IDE ([www.eclipse.org](http://www.eclipse.org)), originally developed as a Java IDE, but it supports Python development by installing the PyDev plug-in. It is a popular and powerful IDE for Python development. It is available for Windows, Linux, and Mac OS. However, it may not be the easiest IDE for beginner programmers. "
   ]
  },
  {
   "cell_type": "markdown",
   "metadata": {},
   "source": [
    "<img style=\"float: left; height:350px; width:auto\" src=\"images/pic17.jpg\">"
   ]
  },
  {
   "cell_type": "markdown",
   "metadata": {},
   "source": [
    "***PyCharm*** is a fully dedicated IDE for Python ([https://www.jetbrains.com/pycharm/](https://www.jetbrains.com/pycharm/)). Available in both paid (Professional) and free open-source (Community) editions, PyCharm installs quickly and easily on Windows, Mac OS, and Linux platforms. PyCharm allows writing, running, and debugging Python code, and it has support for source control and projects."
   ]
  },
  {
   "cell_type": "markdown",
   "metadata": {},
   "source": [
    "<img style=\"float: left; height:350px; width:auto\" src=\"images/pic21.jpg\">"
   ]
  },
  {
   "cell_type": "markdown",
   "metadata": {},
   "source": [
    "Beside these, there are also other general-purpose IDEs and code editors, such as [Komodo](http://www.activestate.com), [Sublime Text](http://www.sublimetext.com), [Atom](https://atom.io/), [GNU Emacs](https://www.gnu.org/software/emacs/), and others dedicated to Python code development, such as [PythonWin](http://www.python.org/), [NetBeans](http://plugins.netbeans.org/plugin/61688/python),[Thonny](http://thonny.org/), and many others. The IDE selection is subjective; we choose Jupyter Notebook due to its popularity and ease-of-use by beginner programmers."
   ]
  }
 ],
 "metadata": {
  "kernelspec": {
   "display_name": "Python 3",
   "language": "python",
   "name": "python3"
  },
  "language_info": {
   "codemirror_mode": {
    "name": "ipython",
    "version": 3
   },
   "file_extension": ".py",
   "mimetype": "text/x-python",
   "name": "python",
   "nbconvert_exporter": "python",
   "pygments_lexer": "ipython3",
   "version": "3.6.9"
  }
 },
 "nbformat": 4,
 "nbformat_minor": 2
}
