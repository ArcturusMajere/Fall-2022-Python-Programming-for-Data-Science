{
 "cells": [
  {
   "cell_type": "markdown",
   "metadata": {},
   "source": [
    "# Lecture 5 Object-Oriented Programming (OOP)"
   ]
  },
  {
   "cell_type": "markdown",
   "metadata": {},
   "source": [
    "- [5.1 Overview](#section1)\n",
    "- [5.2 Inheritance](#section2)\n",
    "- [5.3 Abstract Classes](#section3)\n",
    "- [5.4 Special Methods](#section4)\n",
    "- [5.5 Appendix: Additional Special Methods, the super() Function](#section5)\n",
    "- [References](#section6)"
   ]
  },
  {
   "cell_type": "markdown",
   "metadata": {},
   "source": [
    "# 5.1 Overview <a id=\"section1\"/>"
   ]
  },
  {
   "cell_type": "markdown",
   "metadata": {},
   "source": [
    "**Object-oriented programming** (OOP) is a programming approach to structuring programs based on the concept of **objects**, which can contain *data* and *code* in the form of *attributes* and *methods*, respectively. For instance, an object could represent a person with attributes like name, age, and address, and methods such as walking, talking, and running. Or, it could represent an email with attributes like a recipient list, subject, and body, and methods like adding attachments and sending.\n",
    "\n",
    "In OOP, computer programs are designed by defining objects that interact with one another. In Python, the main tool for achieving OOP are Python **classes**. Classes are created using the <code>class</code> statement. Then, from classes we can construct object **instances**, which are specific objects created from a particular class. \n",
    "\n",
    "Besides OOP, other programming paradigms on which other languages are based include procedural, functional, and logic programming paradigms."
   ]
  },
  {
   "cell_type": "markdown",
   "metadata": {},
   "source": [
    "### class Statement\n",
    "\n",
    "Let's define the class `Dog` by using the `class` statement and the name of the class. It is a convention in Python to begin class names with an uppercase letter, and modules and function names with a lowercase letter. This is not a requirement, but if you follow this naming convention it will be appreciated by others who are to use your codes."
   ]
  },
  {
   "cell_type": "code",
   "execution_count": 1,
   "metadata": {},
   "outputs": [
    {
     "name": "stdout",
     "output_type": "stream",
     "text": [
      "<class '__main__.Dog'>\n"
     ]
    }
   ],
   "source": [
    "# Create a new class called Dog\n",
    "class Dog:\n",
    "    \"\"\"Class object for a dog.\"\"\"\n",
    "    pass\n",
    "\n",
    "# Create an instance object of the class Dog\n",
    "sam = Dog()\n",
    "\n",
    "print(type(sam))"
   ]
  },
  {
   "cell_type": "markdown",
   "metadata": {},
   "source": [
    "In the above code, inside the class definition we currently have just the `pass` command, which means do nothing for now.\n",
    "\n",
    "Classes can be thought of as blueprints for creating objects. When we defined the class `Dog` using the line `class Dog:`, we didn't actually create an object. \n",
    "\n",
    "To create an object of the class `Dog`, we called the class by name (and optionally we can pass arguments as we did with functions in Python). That is, we **instantiated** the Dog class, and <code>sam</code> is now the reference to our new instance of a Dog class. \n",
    "\n",
    "In the code, `sam` is referred to as a ***class object***, or a ***class instance***, or just an ***instance***. \n",
    "\n",
    "We can create many instances of the class by calling the class `Dog()`. For example, below we created two Dog instances sam and frank. Note that although they are both instances of the class Dog, they represent two distinct objects."
   ]
  },
  {
   "cell_type": "code",
   "execution_count": 2,
   "metadata": {},
   "outputs": [
    {
     "data": {
      "text/plain": [
       "False"
      ]
     },
     "execution_count": 2,
     "metadata": {},
     "output_type": "execute_result"
    }
   ],
   "source": [
    "sam = Dog()\n",
    "frank = Dog()\n",
    "\n",
    "sam == frank"
   ]
  },
  {
   "cell_type": "code",
   "execution_count": 3,
   "metadata": {},
   "outputs": [
    {
     "data": {
      "text/plain": [
       "<__main__.Dog at 0x141d0821828>"
      ]
     },
     "execution_count": 3,
     "metadata": {},
     "output_type": "execute_result"
    }
   ],
   "source": [
    "sam"
   ]
  },
  {
   "cell_type": "code",
   "execution_count": 4,
   "metadata": {},
   "outputs": [
    {
     "data": {
      "text/plain": [
       "<__main__.Dog at 0x141d0821cc0>"
      ]
     },
     "execution_count": 4,
     "metadata": {},
     "output_type": "execute_result"
    }
   ],
   "source": [
    "frank"
   ]
  },
  {
   "cell_type": "markdown",
   "metadata": {},
   "source": [
    "Note also that the two instances have different memory addresses. The addresses for your computer's memory will be different than these shown here."
   ]
  },
  {
   "cell_type": "markdown",
   "metadata": {},
   "source": [
    "Class objects can have attributes and methods.\n",
    "\n",
    "> An **attribute** is an individual characteristic of an object (instance) of the class.\n",
    "\n",
    "> A **method** is an operation that is performed with the object (instance) of the class.\n",
    "\n",
    "### Instance Attributes\n",
    "\n",
    "In Python, **instance attributes** are defined by using the `__init__()` constructor method (which is abbreviated from *initialize*). In the parentheses of the `__init__()` method first `self` is listed, and afterwards the attributes are listed.\n",
    "The syntax for creating an attribute is:\n",
    "    \n",
    "    def __init__(self, attribute):\n",
    "        self.attribute = something\n",
    "\n",
    "The syntax for accessing an attribute of an object instance is:\n",
    "\n",
    "         instance.attribute\n",
    "\n",
    "For example:"
   ]
  },
  {
   "cell_type": "code",
   "execution_count": 5,
   "metadata": {},
   "outputs": [],
   "source": [
    "class Dog:\n",
    "    def __init__(self, breed, name):\n",
    "        self.breed = breed\n",
    "        self.name = name\n",
    "\n",
    "# Create an instance from the 'Dog' class by passing breed and name, assign it to the name 'sam'\n",
    "sam = Dog(breed='Labrador', name='Sam')\n",
    "# Create another instance from the 'Dog' class by passing breed and name, assign it to the name 'frank'\n",
    "frank = Dog(breed='Huskie', name='Frank')\n",
    "# Create another instance from the 'Dog' class by passing breed and name, assign it to the name 'my_dog'\n",
    "my_dog = Dog(breed='Terrier', name='Scooby')"
   ]
  },
  {
   "cell_type": "markdown",
   "metadata": {},
   "source": [
    "The `__init__()` method is present in almost every class, and it is used to initialize newly created class instances by passing attributes. In the example, the attributes *breed* and *name* are the arguments to the special method `__init__()`. Each attribute in a class definition begins with a reference to the class object, which by convention is named `self`, such as in `self.breed = breed`.\n",
    "\n",
    "When we created the instances of the class Dog, `__init__()` initialized these objects by passing the assigned values for *breed* and *name* to the instances *sam*, *frank*, and *my_dog*. In the `__init__()` method, the word `self` is the newly created instance. Therefore, for the instance *sam*, the line `self.breed = breed` is equivalent to stating `sam.breed = 'Labrador'`. Similarly, `self.name = name` is equivalent to stating `sam.name = 'Sam'`. Similarly, for the instance *frank*, `self.breed = breed` is equivalent to stating `frank.breed = 'Huskie'` and `self` refers to the instance *frank*. \n",
    "\n",
    "Notice again that `sam`, `frank`, and `my_dog` are three separate instances of the `Dog` class, and they have their own attributes, i.e., different breed and name. We can then access these attributes like this:"
   ]
  },
  {
   "cell_type": "code",
   "execution_count": 6,
   "metadata": {},
   "outputs": [
    {
     "data": {
      "text/plain": [
       "'Labrador'"
      ]
     },
     "execution_count": 6,
     "metadata": {},
     "output_type": "execute_result"
    }
   ],
   "source": [
    "# Access the 'breed' attribute of the class instance 'sam'\n",
    "sam.breed"
   ]
  },
  {
   "cell_type": "code",
   "execution_count": 7,
   "metadata": {},
   "outputs": [
    {
     "data": {
      "text/plain": [
       "'Huskie'"
      ]
     },
     "execution_count": 7,
     "metadata": {},
     "output_type": "execute_result"
    }
   ],
   "source": [
    "# Access the 'breed' attribute of the class instance 'frank'\n",
    "frank.breed"
   ]
  },
  {
   "cell_type": "code",
   "execution_count": 8,
   "metadata": {},
   "outputs": [
    {
     "data": {
      "text/plain": [
       "'Scooby'"
      ]
     },
     "execution_count": 8,
     "metadata": {},
     "output_type": "execute_result"
    }
   ],
   "source": [
    "# Access the 'name' attribute of the class instance 'my_dog'\n",
    "my_dog.name"
   ]
  },
  {
   "cell_type": "markdown",
   "metadata": {},
   "source": [
    "In general, it is possible to create new classes without the `__init__()` construction method. This is shown below, where we used a `def` statement to introduce a method called `enterinfo` to the class `Dog`."
   ]
  },
  {
   "cell_type": "code",
   "execution_count": 9,
   "metadata": {},
   "outputs": [],
   "source": [
    "class Dog:\n",
    "    def enterinfo(self, breed): \n",
    "        self.breed = breed"
   ]
  },
  {
   "cell_type": "code",
   "execution_count": 10,
   "metadata": {},
   "outputs": [],
   "source": [
    "sam = Dog()\n",
    "sam.enterinfo(breed='Labrador')"
   ]
  },
  {
   "cell_type": "code",
   "execution_count": 11,
   "metadata": {},
   "outputs": [
    {
     "data": {
      "text/plain": [
       "'Labrador'"
      ]
     },
     "execution_count": 11,
     "metadata": {},
     "output_type": "execute_result"
    }
   ],
   "source": [
    "sam.breed"
   ]
  },
  {
   "cell_type": "markdown",
   "metadata": {},
   "source": [
    "However, in this case, we need to first create a new class instance `sam` as shown above, and afterward assign the `breed` attribute using the `enterinfo` method. \n",
    "\n",
    "On the other hand, by using the `__init__()` method, we can initialize the instance attributes at the same time when the new instance is created. Therefore, using `__init__()` is preferred and always recommended. Without `__init__()`, an empty instance is created, and we need to initialize it afterwards."
   ]
  },
  {
   "cell_type": "markdown",
   "metadata": {},
   "source": [
    "We can modify the attributes of an instance by using the dot `.` notation, as in `instance.attribute`. "
   ]
  },
  {
   "cell_type": "code",
   "execution_count": 12,
   "metadata": {},
   "outputs": [
    {
     "data": {
      "text/plain": [
       "'Sammi'"
      ]
     },
     "execution_count": 12,
     "metadata": {},
     "output_type": "execute_result"
    }
   ],
   "source": [
    "# Modify attribute\n",
    "sam.name = 'Sammi'\n",
    "sam.name"
   ]
  },
  {
   "cell_type": "markdown",
   "metadata": {},
   "source": [
    "To delete any instance attribute, use the `del` keyword."
   ]
  },
  {
   "cell_type": "code",
   "execution_count": 13,
   "metadata": {},
   "outputs": [],
   "source": [
    "del frank.name"
   ]
  },
  {
   "cell_type": "code",
   "execution_count": 14,
   "metadata": {},
   "outputs": [
    {
     "ename": "AttributeError",
     "evalue": "'Dog' object has no attribute 'name'",
     "output_type": "error",
     "traceback": [
      "\u001b[1;31m---------------------------------------------------------------------------\u001b[0m",
      "\u001b[1;31mAttributeError\u001b[0m                            Traceback (most recent call last)",
      "\u001b[1;32m<ipython-input-14-ccfc9137cc67>\u001b[0m in \u001b[0;36m<module>\u001b[1;34m\u001b[0m\n\u001b[1;32m----> 1\u001b[1;33m \u001b[0mprint\u001b[0m\u001b[1;33m(\u001b[0m\u001b[0mfrank\u001b[0m\u001b[1;33m.\u001b[0m\u001b[0mname\u001b[0m\u001b[1;33m,\u001b[0m \u001b[0mfrank\u001b[0m\u001b[1;33m.\u001b[0m\u001b[0mbreed\u001b[0m\u001b[1;33m)\u001b[0m\u001b[1;33m\u001b[0m\u001b[1;33m\u001b[0m\u001b[0m\n\u001b[0m",
      "\u001b[1;31mAttributeError\u001b[0m: 'Dog' object has no attribute 'name'"
     ]
    }
   ],
   "source": [
    "print(frank.name, frank.breed)"
   ]
  },
  {
   "cell_type": "code",
   "execution_count": 15,
   "metadata": {},
   "outputs": [
    {
     "data": {
      "text/plain": [
       "'Sammi'"
      ]
     },
     "execution_count": 15,
     "metadata": {},
     "output_type": "execute_result"
    }
   ],
   "source": [
    "sam.name"
   ]
  },
  {
   "cell_type": "markdown",
   "metadata": {},
   "source": [
    "### Class Attributes\n",
    "\n",
    "In Python there are also **class attributes**, also referred to as *class object attributes*. The class attributes are the same for all instances of the class. For example, we could create the attribute *species* for the Dog class. Regardless of their breed, name, or other attributes, all dogs will have the attribute `mammal`. The instances of the class Dog also have the ***instance attributes*** `breed` and `name` which can be unique for each class instance. \n",
    "\n",
    "We apply this logic in the following manner."
   ]
  },
  {
   "cell_type": "code",
   "execution_count": 16,
   "metadata": {},
   "outputs": [],
   "source": [
    "class Dog:\n",
    "    \n",
    "    # Class attribute\n",
    "    species = 'mammal'\n",
    "    \n",
    "    # Instance attributes\n",
    "    def __init__(self, breed, name):\n",
    "        self.breed = breed\n",
    "        self.name = name"
   ]
  },
  {
   "cell_type": "code",
   "execution_count": 17,
   "metadata": {},
   "outputs": [],
   "source": [
    "# Create an instance from the 'Dog' class by passing breed and name\n",
    "sam = Dog('Labrador','Sam')"
   ]
  },
  {
   "cell_type": "code",
   "execution_count": 18,
   "metadata": {},
   "outputs": [
    {
     "data": {
      "text/plain": [
       "'mammal'"
      ]
     },
     "execution_count": 18,
     "metadata": {},
     "output_type": "execute_result"
    }
   ],
   "source": [
    "# Access attributes\n",
    "sam.species"
   ]
  },
  {
   "cell_type": "code",
   "execution_count": 19,
   "metadata": {},
   "outputs": [
    {
     "data": {
      "text/plain": [
       "'Sam'"
      ]
     },
     "execution_count": 19,
     "metadata": {},
     "output_type": "execute_result"
    }
   ],
   "source": [
    "# Access attributes\n",
    "sam.name"
   ]
  },
  {
   "cell_type": "markdown",
   "metadata": {},
   "source": [
    "Note that the class attribute `mammal` is defined outside of any methods in the class. Also by convention, they are placed before the `__init__()` method."
   ]
  },
  {
   "cell_type": "markdown",
   "metadata": {},
   "source": [
    "### Instance Methods\n",
    "\n",
    "**Instance methods** are functions defined inside the body of a class. They are designed to perform operations on the class objects. Methods are a key concept of the OOP paradigm. They are essential to dividing responsibilities in programming, especially in large applications.\n",
    "\n",
    "Methods have access to all attributes for an instance of the object; they can access and modify anything previously set on `self`. Because they use `self`, they require an instance of the class in order to be used. For this reason, they're often referred to as *instance methods*.\n",
    "\n",
    "You can basically think of methods as regular functions, with one major difference that the first argument of the method is always the instance object referenced through `self`. \n",
    "\n",
    "Technically, even the word `self` is a convention, and any other term can be used, although it would be very unusual to others using your code.\n",
    "\n",
    "Let's see an example of creating a Circle class. The objects of this class have two methods: `SetRadius` that allows to change the attribute radius, and `getCircumference` that calculates the circumference."
   ]
  },
  {
   "cell_type": "code",
   "execution_count": 20,
   "metadata": {},
   "outputs": [
    {
     "name": "stdout",
     "output_type": "stream",
     "text": [
      "Radius is:  1\n",
      "Area is:  3.14\n",
      "Circumference is:  6.28\n"
     ]
    }
   ],
   "source": [
    "class Circle:\n",
    "    pi = 3.14\n",
    "\n",
    "    # Circle gets instantiated with a radius (default is 1)\n",
    "    def __init__(self, radius=1):\n",
    "        self.radius = radius \n",
    "        self.area = radius * radius * Circle.pi\n",
    "\n",
    "    # Method for resetting Radius\n",
    "    def setRadius(self, new_radius):\n",
    "        self.radius = new_radius\n",
    "        self.area = new_radius * new_radius * self.pi\n",
    "\n",
    "    # Method for getting Circumference\n",
    "    def getCircumference(self):\n",
    "        return self.radius * self.pi * 2\n",
    "\n",
    "c = Circle()\n",
    "\n",
    "print('Radius is: ', c.radius)\n",
    "print('Area is: ', c.area)\n",
    "print('Circumference is: ', c.getCircumference())"
   ]
  },
  {
   "cell_type": "markdown",
   "metadata": {},
   "source": [
    "In the `__init__` method above, in order to calculate the area attribute, we had to call `Circle.pi`. This is because the object does not have its own `pi` attribute, so we call the Class Attribute pi instead.\n",
    "\n",
    "In the `setRadius` method, however, we'll be working with an existing Circle object that does have its own pi attribute. Here we can use either `Circle.pi` or `self.pi`.\n",
    "\n",
    "Now let's change the radius and see how that affects the Circle object:"
   ]
  },
  {
   "cell_type": "code",
   "execution_count": 21,
   "metadata": {},
   "outputs": [
    {
     "name": "stdout",
     "output_type": "stream",
     "text": [
      "Radius is:  2\n",
      "Area is:  12.56\n",
      "Circumference is:  12.56\n"
     ]
    }
   ],
   "source": [
    "c.setRadius(2)\n",
    "\n",
    "print('Radius is: ', c.radius)\n",
    "print('Area is: ', c.area)\n",
    "print('Circumference is: ', c.getCircumference())"
   ]
  },
  {
   "cell_type": "markdown",
   "metadata": {},
   "source": [
    "Notice how we used the notation `self.radius` and `self.pi` to reference attributes of the class within the method `getCircumference`."
   ]
  },
  {
   "cell_type": "markdown",
   "metadata": {},
   "source": [
    "> **Classes** serve as instance factories. They provide attributes and functions that are inherited by all the instances generated from them.\n",
    "\n",
    "> **Instances** represent the concrete objects of a class. Their attributes consist of information that varies per specific object."
   ]
  },
  {
   "cell_type": "markdown",
   "metadata": {},
   "source": [
    "Shown next is one more example of a class `Customer` with attributes name and balance, and methods withdraw and deposit. "
   ]
  },
  {
   "cell_type": "code",
   "execution_count": 22,
   "metadata": {},
   "outputs": [],
   "source": [
    "class Customer():\n",
    "    \"\"\"A customer of ABC Bank with a checking account. Customers have the\n",
    "    following properties:\n",
    "\n",
    "    Attributes:\n",
    "        name: A string representing the customer's name.\n",
    "        balance: A float tracking the current balance of the customer's account.\n",
    "    \"\"\"\n",
    "\n",
    "    def __init__(self, name, balance=0.0):\n",
    "        \"\"\"Return a Customer object whose name is *name* and starting\n",
    "        balance is *balance*.\"\"\"\n",
    "        self.name = name\n",
    "        self.balance = balance\n",
    "\n",
    "    def withdraw(self, amount):\n",
    "        \"\"\"Return the balance remaining after withdrawing *amount*\n",
    "        dollars.\"\"\"\n",
    "        if amount > self.balance:\n",
    "            raise RuntimeError('Amount greater than available balance.')\n",
    "        self.balance -= amount\n",
    "        return self.balance\n",
    "\n",
    "    def deposit(self, amount):\n",
    "        \"\"\"Return the balance remaining after depositing *amount*\n",
    "        dollars.\"\"\"\n",
    "        self.balance += amount\n",
    "        return self.balance"
   ]
  },
  {
   "cell_type": "code",
   "execution_count": 23,
   "metadata": {},
   "outputs": [],
   "source": [
    "# Create a new instance\n",
    "bob = Customer('Bob Smith', 1000)"
   ]
  },
  {
   "cell_type": "code",
   "execution_count": 24,
   "metadata": {},
   "outputs": [
    {
     "data": {
      "text/plain": [
       "900"
      ]
     },
     "execution_count": 24,
     "metadata": {},
     "output_type": "execute_result"
    }
   ],
   "source": [
    "bob.withdraw(100)"
   ]
  },
  {
   "cell_type": "code",
   "execution_count": 25,
   "metadata": {},
   "outputs": [
    {
     "data": {
      "text/plain": [
       "1300"
      ]
     },
     "execution_count": 25,
     "metadata": {},
     "output_type": "execute_result"
    }
   ],
   "source": [
    "bob.deposit(400)"
   ]
  },
  {
   "cell_type": "markdown",
   "metadata": {},
   "source": [
    "# 5.2 Inheritance  <a id=\"section2\"/>\n",
    "\n",
    "For our programs to be truly object-oriented, it is required that they use inheritance hierarchy. ***Inheritance*** is the process of creating a new class by reusing the attributes and methods from an existing class. This way, we can edit only what we need to modify in the new class, and this will override the behavior of the old class.\n",
    "\n",
    "The newly formed inheriting class is known as a ***subclass*** or a **child class**, or **derived class**, and the class it inherits from is known as a ***superclass***, or a **parent class**, or **base class**.\n",
    "\n",
    "Important benefits of inheritance are code reuse and reduction of complexity of a program, because the derived classes override or extend the functionality of base classes.\n",
    "\n",
    "Let's see an example by incorporating inheritance on the Dog class."
   ]
  },
  {
   "cell_type": "code",
   "execution_count": 26,
   "metadata": {},
   "outputs": [],
   "source": [
    "class Animal:\n",
    "    def __init__(self):\n",
    "        print(\"Animal created\")\n",
    "\n",
    "    def whoAmI(self):\n",
    "        print(\"Animal\")\n",
    "\n",
    "    def eat(self):\n",
    "        print(\"Eating\")\n",
    "\n",
    "        \n",
    "class Dog(Animal): # The class Dog inherits the functionalities of the class Animal\n",
    "    def __init__(self):\n",
    "        Animal.__init__(self)   # This can also be replaced with: super().__init__()\n",
    "        print(\"Dog created\")\n",
    "\n",
    "    def whoAmI(self): \n",
    "        print(\"Dog\")\n",
    "\n",
    "    def bark(self):\n",
    "        print(\"Woof!\")\n",
    "        \n",
    "class Cat(Animal): # The class Cat inherits the functionalities of the class Animal\n",
    "    def __init__(self):\n",
    "        # The line Animal.__init__(self) is missing in the Cat class\n",
    "        print(\"Cat created\")\n",
    "\n",
    "    def whoAmI(self): \n",
    "        print(\"Cat\")"
   ]
  },
  {
   "cell_type": "code",
   "execution_count": 27,
   "metadata": {},
   "outputs": [
    {
     "name": "stdout",
     "output_type": "stream",
     "text": [
      "Animal created\n",
      "Dog created\n"
     ]
    }
   ],
   "source": [
    "d = Dog()"
   ]
  },
  {
   "cell_type": "code",
   "execution_count": 28,
   "metadata": {},
   "outputs": [
    {
     "name": "stdout",
     "output_type": "stream",
     "text": [
      "Dog\n"
     ]
    }
   ],
   "source": [
    "d.whoAmI()"
   ]
  },
  {
   "cell_type": "code",
   "execution_count": 29,
   "metadata": {},
   "outputs": [
    {
     "name": "stdout",
     "output_type": "stream",
     "text": [
      "Eating\n"
     ]
    }
   ],
   "source": [
    "d.eat()"
   ]
  },
  {
   "cell_type": "code",
   "execution_count": 30,
   "metadata": {},
   "outputs": [
    {
     "name": "stdout",
     "output_type": "stream",
     "text": [
      "Woof!\n"
     ]
    }
   ],
   "source": [
    "d.bark()"
   ]
  },
  {
   "cell_type": "code",
   "execution_count": 31,
   "metadata": {},
   "outputs": [
    {
     "name": "stdout",
     "output_type": "stream",
     "text": [
      "Cat created\n"
     ]
    }
   ],
   "source": [
    "# Note the difference in the attributes in comparison to Dog\n",
    "c = Cat()"
   ]
  },
  {
   "cell_type": "code",
   "execution_count": 32,
   "metadata": {},
   "outputs": [
    {
     "name": "stdout",
     "output_type": "stream",
     "text": [
      "Cat\n"
     ]
    }
   ],
   "source": [
    "c.whoAmI()"
   ]
  },
  {
   "cell_type": "code",
   "execution_count": 33,
   "metadata": {},
   "outputs": [
    {
     "name": "stdout",
     "output_type": "stream",
     "text": [
      "Eating\n"
     ]
    }
   ],
   "source": [
    "c.eat()"
   ]
  },
  {
   "cell_type": "markdown",
   "metadata": {},
   "source": [
    "In this example, we have three classes: Animal, Dog, and Cat. The Animal is the base class (superclass), the Dog and Cat are the derived classes (subclasses). \n",
    "\n",
    "Note that when defining the subclass `Dog`, the superclass `Animal` is listed in parentheses in the class header, i.e., `class Dog(Animal)`.\n",
    "\n",
    "The subclass inherits the functionality of the superclass. This is shown by the `eat()` method, which is defined in the superclass, but is not defined in the subclass `Dog`. \n",
    "\n",
    "The subclass also modifies existing behavior of the superclass. This is shown by the `whoAmI()` method. Python searches for function names first in the subclass, and if they are not found, afterwards it searches in the superclass. In this case, `whoAmI()` method is found in the subclass `Dog`.\n",
    "\n",
    "Finally, the subclass `Dog` extends the functionality of the superclass, by defining a new `bark()` method."
   ]
  },
  {
   "cell_type": "markdown",
   "metadata": {},
   "source": [
    "One more example follows."
   ]
  },
  {
   "cell_type": "code",
   "execution_count": 34,
   "metadata": {},
   "outputs": [],
   "source": [
    "class Person:\n",
    "    def __init__(self, name, job=None, pay=0):\n",
    "        self.name = name\n",
    "        self.job = job\n",
    "        self.pay = pay\n",
    "    \n",
    "    def giveRaise(self, percent):\n",
    "        self.pay = int(self.pay * (1 + percent)) \n",
    "        \n",
    "class Manager(Person):\n",
    "    def giveRaise(self, percent, bonus=.10):\n",
    "        self.pay = int(self.pay * (1 + percent + bonus))       "
   ]
  },
  {
   "cell_type": "code",
   "execution_count": 35,
   "metadata": {},
   "outputs": [
    {
     "data": {
      "text/plain": [
       "55000"
      ]
     },
     "execution_count": 35,
     "metadata": {},
     "output_type": "execute_result"
    }
   ],
   "source": [
    "# Create a new instance of Person\n",
    "bob =  Person('Bob Smith', pay=50000)\n",
    "bob.giveRaise(percent=0.1)  # 50000 * 1.1 = 55000\n",
    "bob.pay"
   ]
  },
  {
   "cell_type": "code",
   "execution_count": 36,
   "metadata": {},
   "outputs": [
    {
     "name": "stdout",
     "output_type": "stream",
     "text": [
      "Tom Jones mgr 50000\n"
     ]
    }
   ],
   "source": [
    "# Create a new instance of Manager\n",
    "tom = Manager('Tom Jones', 'mgr', 50000)\n",
    "print(tom.name, tom.job, tom.pay)"
   ]
  },
  {
   "cell_type": "code",
   "execution_count": 37,
   "metadata": {},
   "outputs": [
    {
     "data": {
      "text/plain": [
       "60000"
      ]
     },
     "execution_count": 37,
     "metadata": {},
     "output_type": "execute_result"
    }
   ],
   "source": [
    "# On a salary of 50,000, giveRaise for Person applied 10% raise, and giveRaise for Manager appied 10% bonus\n",
    "tom.giveRaise(percent=0.1, bonus=0.1)   # 50000 * 1.2 = 60000\n",
    "tom.pay"
   ]
  },
  {
   "cell_type": "markdown",
   "metadata": {},
   "source": [
    "Another way to define the method `giveRaise` for the `Manager` sublcass is by using the syntax below `class.method(self, arguments)`, as in `Person.giveRaise(self, percent + bonus)` shown below. Note that this is different from the syntax above `self.method(arguments)` as in `self.pay = int(self.pay * (1 + percent + bonus)) `. However, this coding approach using `self.method(arguments)` does not rely on the superclass `Person`, and if `Person` is changed, the code will not work as expected. Therefore, it is preferred to use the syntax `class.method(self, arguments)`."
   ]
  },
  {
   "cell_type": "code",
   "execution_count": 38,
   "metadata": {},
   "outputs": [],
   "source": [
    "class Manager(Person):\n",
    "    def giveRaise(self, percent, bonus=.10):\n",
    "        Person.giveRaise(self, percent + bonus) "
   ]
  },
  {
   "cell_type": "code",
   "execution_count": 39,
   "metadata": {},
   "outputs": [
    {
     "data": {
      "text/plain": [
       "60000"
      ]
     },
     "execution_count": 39,
     "metadata": {},
     "output_type": "execute_result"
    }
   ],
   "source": [
    "tom = Manager('Tom Jones', 'mgr', 50000)\n",
    "# On a salary of 50,000, giveRaise for Person applied 10% raise, and giveRaise for Manager appied 10% bonus\n",
    "tom.giveRaise(percent=0.1, bonus=0.1)   # Person.giveRaise(.10+0.10) = Person.giveRaise(0.20)   # 50000 * 1.2 = 60000\n",
    "tom.pay"
   ]
  },
  {
   "cell_type": "markdown",
   "metadata": {},
   "source": [
    "### Polymorphism in Classes\n",
    "\n",
    "We learned about polymorphism in functions, and we saw that when functions take in different arguments, the actions depend on the type of objects. \n",
    "Similarly, in Python **polymorphism** exists with classes, where different classes can share the same method name, and these methods can perform different actions based on the object they act upon. \n",
    "\n",
    "The best way to explain this is by example:"
   ]
  },
  {
   "cell_type": "code",
   "execution_count": 40,
   "metadata": {},
   "outputs": [
    {
     "name": "stdout",
     "output_type": "stream",
     "text": [
      "Niko says Woof!\n",
      "Felix says Meow!\n"
     ]
    }
   ],
   "source": [
    "class Dog:\n",
    "    def __init__(self, name):\n",
    "        self.name = name\n",
    "\n",
    "    def speak(self):\n",
    "        return self.name+' says Woof!'\n",
    "    \n",
    "class Cat:\n",
    "    def __init__(self, name):\n",
    "        self.name = name\n",
    "\n",
    "    def speak(self):\n",
    "        return self.name+' says Meow!' \n",
    "    \n",
    "niko = Dog('Niko')\n",
    "felix = Cat('Felix')\n",
    "\n",
    "print(niko.speak())\n",
    "print(felix.speak())"
   ]
  },
  {
   "cell_type": "markdown",
   "metadata": {},
   "source": [
    "Here we have a Dog class and a Cat class, and each has a `.speak()` method. When called, each object's `.speak()` method returns a result that is unique to the class of the instance. This demonstrated polymorphism, because we passed in different object types to the `speak()` method, and we obtained object-specific results from the same mechanism."
   ]
  },
  {
   "cell_type": "markdown",
   "metadata": {},
   "source": [
    "# 5.3 Abstract Classes <a id=\"section3\"/>"
   ]
  },
  {
   "cell_type": "markdown",
   "metadata": {
    "slideshow": {
     "slide_type": "slide"
    }
   },
   "source": [
    "An **abstract class** is one that never expects to be instantiated. In the next example, we will never instantiate an Animal object, but only Dog and Cat objects will be derived from the class Animal.\n",
    "\n",
    "Abstract classes allow to create a set of methods that must be created within any subclasses built from the abstract class. An **abstract method** is a method that has a declaration but does not have an implementation. An example is the `speak` method in the Animal class. Abstract classes are helpful when designing large functional units and we want to provide a common interface for different implementations of a method. \n",
    "\n",
    "> An **abstract class** is one that is not expected to be instantiated, and contains one or more abstract methods.\n",
    "\n",
    "Python support abstract classes through the `abc` module, which provides the infrastructure for defining abstract classes. Defining an abstract method is achieved by using the `@abstractmethod` decorator (more on decorators in Python in a next week's lecture)."
   ]
  },
  {
   "cell_type": "code",
   "execution_count": 41,
   "metadata": {},
   "outputs": [
    {
     "name": "stdout",
     "output_type": "stream",
     "text": [
      "Fido says Woof!\n",
      "Isis says Meow!\n"
     ]
    }
   ],
   "source": [
    "from abc import ABC, abstractmethod\n",
    "\n",
    "# Abstract class\n",
    "class Animal(ABC):\n",
    "    \n",
    "    def __init__(self, name):    \n",
    "        self.name = name\n",
    "   \n",
    "    @abstractmethod\n",
    "    def speak(self):              # Abstract method, it is not implemented\n",
    "        pass\n",
    "\n",
    "# Subclass of Animal\n",
    "class Dog(Animal):    \n",
    "    \n",
    "    def speak(self):\n",
    "        return self.name+' says Woof!'\n",
    "\n",
    "# Subclass of Animal    \n",
    "class Cat(Animal):   \n",
    "    \n",
    "    def speak(self):\n",
    "        return self.name+' says Meow!'\n",
    "\n",
    "# Create instances\n",
    "fido = Dog('Fido')\n",
    "isis = Cat('Isis')\n",
    "\n",
    "# The method 'speak' has different implementations for the subclasses Dog and Cat\n",
    "print(fido.speak())\n",
    "print(isis.speak())"
   ]
  },
  {
   "cell_type": "markdown",
   "metadata": {},
   "source": [
    "Note that the abstract class Animal cannot be instantiated, because it has only an abstract version of the `speak` method. "
   ]
  },
  {
   "cell_type": "code",
   "execution_count": 42,
   "metadata": {},
   "outputs": [
    {
     "ename": "TypeError",
     "evalue": "Can't instantiate abstract class Animal with abstract methods speak",
     "output_type": "error",
     "traceback": [
      "\u001b[1;31m---------------------------------------------------------------------------\u001b[0m",
      "\u001b[1;31mTypeError\u001b[0m                                 Traceback (most recent call last)",
      "\u001b[1;32m<ipython-input-42-cf8af4b736da>\u001b[0m in \u001b[0;36m<module>\u001b[1;34m\u001b[0m\n\u001b[1;32m----> 1\u001b[1;33m \u001b[0ma\u001b[0m \u001b[1;33m=\u001b[0m \u001b[0mAnimal\u001b[0m\u001b[1;33m(\u001b[0m\u001b[1;34m'fido'\u001b[0m\u001b[1;33m)\u001b[0m\u001b[1;33m\u001b[0m\u001b[1;33m\u001b[0m\u001b[0m\n\u001b[0m",
      "\u001b[1;31mTypeError\u001b[0m: Can't instantiate abstract class Animal with abstract methods speak"
     ]
    }
   ],
   "source": [
    "a = Animal('fido')"
   ]
  },
  {
   "cell_type": "markdown",
   "metadata": {},
   "source": [
    "By defining an abstract class, one can define common methods for a set of subclasses. This capability is especially useful in situations where a third-party is going to provide implementations, or it can also help when working in a large team or with a large code-base where maintaining all classes is difficult or not possible. "
   ]
  },
  {
   "cell_type": "markdown",
   "metadata": {},
   "source": [
    "One more example is shown, where the abstract class `Employee` has an abstract method `get_salary`. The subclasses `FulltimeEmployee` and `HourlyEmployee` are derived, and they define different `get_salary` methods for each class. The class `Payroll` has methods to add an employee and print the name and salary information. "
   ]
  },
  {
   "cell_type": "code",
   "execution_count": 43,
   "metadata": {},
   "outputs": [],
   "source": [
    "from abc import ABC, abstractmethod\n",
    "\n",
    "# Abstract class Employee\n",
    "class Employee(ABC):\n",
    "    def __init__(self, first_name, last_name):\n",
    "        self.first_name = first_name\n",
    "        self.last_name = last_name\n",
    "\n",
    "    @abstractmethod\n",
    "    def get_salary(self):\n",
    "        pass\n",
    "    \n",
    "# Subclass \n",
    "class FulltimeEmployee(Employee):\n",
    "    def __init__(self, first_name, last_name, salary):\n",
    "        super().__init__(first_name, last_name)\n",
    "        self.salary = salary\n",
    "\n",
    "    def get_salary(self):\n",
    "        return self.salary\n",
    "    \n",
    "# Subclass \n",
    "class HourlyEmployee(Employee):\n",
    "    def __init__(self, first_name, last_name, worked_hours, rate):\n",
    "        super().__init__(first_name, last_name)\n",
    "        self.worked_hours = worked_hours\n",
    "        self.rate = rate\n",
    "\n",
    "    def get_salary(self):\n",
    "        return self.worked_hours * self.rate\n",
    "\n",
    "# A separate class Payroll\n",
    "class Payroll:\n",
    "    def __init__(self):\n",
    "        self.employee_list = []\n",
    "\n",
    "    def add(self, employee):\n",
    "        self.employee_list.append(employee)\n",
    "\n",
    "    def print(self):\n",
    "        for e in self.employee_list:\n",
    "            print(f'{e.first_name} {e.last_name} \\t ${e.get_salary()}')"
   ]
  },
  {
   "cell_type": "code",
   "execution_count": 44,
   "metadata": {},
   "outputs": [],
   "source": [
    "payroll = Payroll()\n",
    "\n",
    "payroll.add(FulltimeEmployee('John', 'Doe', 6000))\n",
    "payroll.add(FulltimeEmployee('Jane', 'Doe', 6500))\n",
    "payroll.add(HourlyEmployee('Jenifer', 'Smith', 200, 50))\n",
    "payroll.add(HourlyEmployee('David', 'Wilson', 150, 100))\n",
    "payroll.add(HourlyEmployee('Kevin', 'Miller', 100, 150))"
   ]
  },
  {
   "cell_type": "code",
   "execution_count": 45,
   "metadata": {},
   "outputs": [
    {
     "name": "stdout",
     "output_type": "stream",
     "text": [
      "John Doe \t $6000\n",
      "Jane Doe \t $6500\n",
      "Jenifer Smith \t $10000\n",
      "David Wilson \t $15000\n",
      "Kevin Miller \t $15000\n"
     ]
    }
   ],
   "source": [
    "payroll.print()"
   ]
  },
  {
   "cell_type": "markdown",
   "metadata": {},
   "source": [
    "# 5.4 Special Methods <a id=\"section4\"/>"
   ]
  },
  {
   "cell_type": "markdown",
   "metadata": {},
   "source": [
    "Python has many other built-in methods which can be used with user-defined classes. These methods are also known as ***special methods*** or ***magic methods***. Similar to the `__init__()` method, all special methods have leading and trailing double underscores (also called *dunders*).\n",
    "\n",
    "For instance, the list of special methods for mathematical operators in Python involve the following.\n",
    "```python\n",
    "a + b       a.__add__(b)\n",
    "a - b       a.__sub__(b)\n",
    "a * b       a.__mul__(b)\n",
    "a / b       a.__truediv__(b)\n",
    "a // b      a.__floordiv__(b)\n",
    "a % b       a.__mod__(b)\n",
    "a << b      a.__lshift__(b)\n",
    "a >> b      a.__rshift__(b)\n",
    "a & b       a.__and__(b)\n",
    "a | b       a.__or__(b)\n",
    "a ^ b       a.__xor__(b)\n",
    "a ** b      a.__pow__(b)\n",
    "-a          a.__neg__()\n",
    "~a          a.__invert__()\n",
    "abs(a)      a.__abs__()\n",
    "```\n",
    "Special methods for item access in sequences involves the following.\n",
    "\n",
    "```python\n",
    "len(x)      x.__len__()\n",
    "x[a]        x.__getitem__(a)\n",
    "x[a] = v    x.__setitem__(a,v)\n",
    "del x[a]    x.__delitem__(a)\n",
    "```\n",
    "\n",
    "Other type of special methods are used for access to object attributes. These include:\n",
    "\n",
    "```python\n",
    "X.a         x.__getattr__()\n",
    "X.a = v     x.__setattr__(a)\n",
    "del X.a     x.__delattr__(a,v)\n",
    "X.any       x.__hasattr__(a)\n",
    "```\n",
    "\n",
    "And there are other types of special methods that are not listed above."
   ]
  },
  {
   "cell_type": "markdown",
   "metadata": {},
   "source": [
    "For instance, if we would like to see all special methods that are implemented for a string object, we can use `dir()`, and it will return a list of all special methods available for `str` objects with leading and trailing underscores, as well as all regular methods."
   ]
  },
  {
   "cell_type": "code",
   "execution_count": 46,
   "metadata": {},
   "outputs": [
    {
     "data": {
      "text/plain": [
       "['__add__',\n",
       " '__class__',\n",
       " '__contains__',\n",
       " '__delattr__',\n",
       " '__dir__',\n",
       " '__doc__',\n",
       " '__eq__',\n",
       " '__format__',\n",
       " '__ge__',\n",
       " '__getattribute__',\n",
       " '__getitem__',\n",
       " '__getnewargs__',\n",
       " '__gt__',\n",
       " '__hash__',\n",
       " '__init__',\n",
       " '__init_subclass__',\n",
       " '__iter__',\n",
       " '__le__',\n",
       " '__len__',\n",
       " '__lt__',\n",
       " '__mod__',\n",
       " '__mul__',\n",
       " '__ne__',\n",
       " '__new__',\n",
       " '__reduce__',\n",
       " '__reduce_ex__',\n",
       " '__repr__',\n",
       " '__rmod__',\n",
       " '__rmul__',\n",
       " '__setattr__',\n",
       " '__sizeof__',\n",
       " '__str__',\n",
       " '__subclasshook__',\n",
       " 'capitalize',\n",
       " 'casefold',\n",
       " 'center',\n",
       " 'count',\n",
       " 'encode',\n",
       " 'endswith',\n",
       " 'expandtabs',\n",
       " 'find',\n",
       " 'format',\n",
       " 'format_map',\n",
       " 'index',\n",
       " 'isalnum',\n",
       " 'isalpha',\n",
       " 'isdecimal',\n",
       " 'isdigit',\n",
       " 'isidentifier',\n",
       " 'islower',\n",
       " 'isnumeric',\n",
       " 'isprintable',\n",
       " 'isspace',\n",
       " 'istitle',\n",
       " 'isupper',\n",
       " 'join',\n",
       " 'ljust',\n",
       " 'lower',\n",
       " 'lstrip',\n",
       " 'maketrans',\n",
       " 'partition',\n",
       " 'replace',\n",
       " 'rfind',\n",
       " 'rindex',\n",
       " 'rjust',\n",
       " 'rpartition',\n",
       " 'rsplit',\n",
       " 'rstrip',\n",
       " 'split',\n",
       " 'splitlines',\n",
       " 'startswith',\n",
       " 'strip',\n",
       " 'swapcase',\n",
       " 'title',\n",
       " 'translate',\n",
       " 'upper',\n",
       " 'zfill']"
      ]
     },
     "execution_count": 46,
     "metadata": {},
     "output_type": "execute_result"
    }
   ],
   "source": [
    "dir('abc')"
   ]
  },
  {
   "cell_type": "markdown",
   "metadata": {},
   "source": [
    "The use of special methods with user-defined classes is also called **operator overloading** in OOP, because these methods allow the new instances of our user-defined classes to exhibit the behaviors of the applied special methods. For example, the operator `+` is implemented using the special method `__add__()` and it can perform addition of numbers, concatenation of strings, etc. Operator overloading in Python is an example of *polymorphism* in Python. Although, the term polymorphism is more general, and it describes actions performed upon different objects in a different way based on the object (such as the example of `Animal.speak()` method above).\n",
    "\n",
    "By implementing special methods into our user-defined classes, they can behave like built-in Python types. "
   ]
  },
  {
   "cell_type": "markdown",
   "metadata": {},
   "source": [
    "### Sequence Length with `__len__()`"
   ]
  },
  {
   "cell_type": "markdown",
   "metadata": {},
   "source": [
    "We can implement the special method `__len__()` in our custom classes, which will allow us to use `len()` with the instances of the class. \n",
    "\n",
    "In the example below, we used the method `__len__()` in the class `Employee`, which returns the length of the attribute `self.pay`."
   ]
  },
  {
   "cell_type": "code",
   "execution_count": 47,
   "metadata": {},
   "outputs": [],
   "source": [
    "class Employee: \n",
    "    \n",
    "    def __init__(self, name, pay): \n",
    "        self.name = name\n",
    "        self.pay = pay\n",
    "        \n",
    "    def __len__(self):\n",
    "        return len(self.pay)"
   ]
  },
  {
   "cell_type": "code",
   "execution_count": 48,
   "metadata": {},
   "outputs": [
    {
     "name": "stdout",
     "output_type": "stream",
     "text": [
      "Bob Smith [50000, 55000, 53000, 60000]\n"
     ]
    }
   ],
   "source": [
    "bob = Employee(name='Bob Smith', pay=[50000, 55000, 53000, 60000])\n",
    "print(bob.name, bob.pay)"
   ]
  },
  {
   "cell_type": "code",
   "execution_count": 49,
   "metadata": {},
   "outputs": [
    {
     "data": {
      "text/plain": [
       "4"
      ]
     },
     "execution_count": 49,
     "metadata": {},
     "output_type": "execute_result"
    }
   ],
   "source": [
    "# Length of the bob.pay object\n",
    "len(bob)"
   ]
  },
  {
   "cell_type": "code",
   "execution_count": 50,
   "metadata": {},
   "outputs": [
    {
     "name": "stdout",
     "output_type": "stream",
     "text": [
      "Sue Jones [50000, 60000]\n"
     ]
    }
   ],
   "source": [
    "sue = Employee(name='Sue Jones', pay=[50000, 60000])\n",
    "print(sue.name, sue.pay)"
   ]
  },
  {
   "cell_type": "code",
   "execution_count": 51,
   "metadata": {},
   "outputs": [
    {
     "data": {
      "text/plain": [
       "2"
      ]
     },
     "execution_count": 51,
     "metadata": {},
     "output_type": "execute_result"
    }
   ],
   "source": [
    "len(sue)"
   ]
  },
  {
   "cell_type": "markdown",
   "metadata": {},
   "source": [
    "# 5.5 Appendix (not required for quizzes and assignments) <a id=\"section5\"/>"
   ]
  },
  {
   "cell_type": "markdown",
   "metadata": {},
   "source": [
    "# Additional Examples of Special Methods"
   ]
  },
  {
   "cell_type": "markdown",
   "metadata": {},
   "source": [
    "### Indexing and Slicing with `__getitem__()` and `__setitem__()`"
   ]
  },
  {
   "cell_type": "markdown",
   "metadata": {},
   "source": [
    "Indexing in Python is implemented with the built-in method `__getitem__()`."
   ]
  },
  {
   "cell_type": "code",
   "execution_count": 52,
   "metadata": {},
   "outputs": [
    {
     "data": {
      "text/plain": [
       "1"
      ]
     },
     "execution_count": 52,
     "metadata": {},
     "output_type": "execute_result"
    }
   ],
   "source": [
    "list1 = [1, 2, 3]\n",
    "list1[0]"
   ]
  },
  {
   "cell_type": "code",
   "execution_count": 53,
   "metadata": {},
   "outputs": [
    {
     "data": {
      "text/plain": [
       "1"
      ]
     },
     "execution_count": 53,
     "metadata": {},
     "output_type": "execute_result"
    }
   ],
   "source": [
    "list1.__getitem__(0)"
   ]
  },
  {
   "cell_type": "markdown",
   "metadata": {},
   "source": [
    "We can implement the special method `__getitem__()` in our classes to provide built-in indexing behaviors of Python sequences to our class instances.\n",
    "\n",
    "In the following code, the `index` argument is used to specify the elements in `self.pay`."
   ]
  },
  {
   "cell_type": "code",
   "execution_count": 54,
   "metadata": {},
   "outputs": [],
   "source": [
    "class Employee: \n",
    "    \n",
    "    def __init__(self, name, pay): \n",
    "        self.name = name\n",
    "        self.pay = pay\n",
    "        \n",
    "    def __getitem__(self, index):\n",
    "        return self.pay[index]         "
   ]
  },
  {
   "cell_type": "code",
   "execution_count": 55,
   "metadata": {},
   "outputs": [
    {
     "name": "stdout",
     "output_type": "stream",
     "text": [
      "Bob Smith [50000, 55000, 53000, 60000]\n"
     ]
    }
   ],
   "source": [
    "bob = Employee(name='Bob Smith', pay=[50000, 55000, 53000, 60000])\n",
    "print(bob.name, bob.pay)"
   ]
  },
  {
   "cell_type": "code",
   "execution_count": 56,
   "metadata": {},
   "outputs": [
    {
     "data": {
      "text/plain": [
       "55000"
      ]
     },
     "execution_count": 56,
     "metadata": {},
     "output_type": "execute_result"
    }
   ],
   "source": [
    "bob[1]"
   ]
  },
  {
   "cell_type": "code",
   "execution_count": 57,
   "metadata": {},
   "outputs": [
    {
     "data": {
      "text/plain": [
       "60000"
      ]
     },
     "execution_count": 57,
     "metadata": {},
     "output_type": "execute_result"
    }
   ],
   "source": [
    "bob[-1]"
   ]
  },
  {
   "cell_type": "markdown",
   "metadata": {},
   "source": [
    "Interestingly, in addition to indexing, `__getitem__()` is also used for ***slicing expressions***, as shown below. The Python slice object is used for this purpose to define the starting and stopping index (and optional index step) for extracting the elements from a sequence."
   ]
  },
  {
   "cell_type": "code",
   "execution_count": 58,
   "metadata": {},
   "outputs": [],
   "source": [
    "list1 = [1, 2, 3, 4, 5]"
   ]
  },
  {
   "cell_type": "code",
   "execution_count": 59,
   "metadata": {},
   "outputs": [
    {
     "data": {
      "text/plain": [
       "[3, 4]"
      ]
     },
     "execution_count": 59,
     "metadata": {},
     "output_type": "execute_result"
    }
   ],
   "source": [
    "list1[slice(2, 4)]"
   ]
  },
  {
   "cell_type": "code",
   "execution_count": 60,
   "metadata": {},
   "outputs": [
    {
     "data": {
      "text/plain": [
       "[2, 3, 4]"
      ]
     },
     "execution_count": 60,
     "metadata": {},
     "output_type": "execute_result"
    }
   ],
   "source": [
    "list1[slice(1, -1)]"
   ]
  },
  {
   "cell_type": "code",
   "execution_count": 61,
   "metadata": {},
   "outputs": [
    {
     "data": {
      "text/plain": [
       "[4, 5]"
      ]
     },
     "execution_count": 61,
     "metadata": {},
     "output_type": "execute_result"
    }
   ],
   "source": [
    "list1[slice(3, None)]"
   ]
  },
  {
   "cell_type": "markdown",
   "metadata": {},
   "source": [
    "This means that we can use the `__getitem__()` method within our defined class to perform slicing, if we wanted to, and not only indexing."
   ]
  },
  {
   "cell_type": "code",
   "execution_count": 62,
   "metadata": {},
   "outputs": [
    {
     "name": "stdout",
     "output_type": "stream",
     "text": [
      "Bob Smith [50000, 55000, 53000, 60000]\n"
     ]
    }
   ],
   "source": [
    "print(bob.name, bob.pay)"
   ]
  },
  {
   "cell_type": "code",
   "execution_count": 63,
   "metadata": {},
   "outputs": [
    {
     "data": {
      "text/plain": [
       "[50000, 55000]"
      ]
     },
     "execution_count": 63,
     "metadata": {},
     "output_type": "execute_result"
    }
   ],
   "source": [
    "bob[0:2]"
   ]
  },
  {
   "cell_type": "code",
   "execution_count": 64,
   "metadata": {},
   "outputs": [
    {
     "data": {
      "text/plain": [
       "[55000, 53000, 60000]"
      ]
     },
     "execution_count": 64,
     "metadata": {},
     "output_type": "execute_result"
    }
   ],
   "source": [
    "bob[1:]"
   ]
  },
  {
   "cell_type": "markdown",
   "metadata": {},
   "source": [
    "On the other hand, if we want to change the value of `bob.pay` outside of the class, we won't be able to do that."
   ]
  },
  {
   "cell_type": "code",
   "execution_count": 65,
   "metadata": {},
   "outputs": [
    {
     "ename": "TypeError",
     "evalue": "'Employee' object does not support item assignment",
     "output_type": "error",
     "traceback": [
      "\u001b[1;31m---------------------------------------------------------------------------\u001b[0m",
      "\u001b[1;31mTypeError\u001b[0m                                 Traceback (most recent call last)",
      "\u001b[1;32m<ipython-input-65-2188d2271732>\u001b[0m in \u001b[0;36m<module>\u001b[1;34m\u001b[0m\n\u001b[1;32m----> 1\u001b[1;33m \u001b[0mbob\u001b[0m\u001b[1;33m[\u001b[0m\u001b[1;36m0\u001b[0m\u001b[1;33m]\u001b[0m \u001b[1;33m=\u001b[0m \u001b[1;36m25000\u001b[0m\u001b[1;33m\u001b[0m\u001b[1;33m\u001b[0m\u001b[0m\n\u001b[0m",
      "\u001b[1;31mTypeError\u001b[0m: 'Employee' object does not support item assignment"
     ]
    }
   ],
   "source": [
    "bob[0] = 25000"
   ]
  },
  {
   "cell_type": "markdown",
   "metadata": {},
   "source": [
    "The special method `__setitem__()` allows to assign values to sequence objects. In the example below, new value can be assigned to the elements of the instance `bob` with a user-entered index. "
   ]
  },
  {
   "cell_type": "code",
   "execution_count": 66,
   "metadata": {},
   "outputs": [],
   "source": [
    "class Employee: \n",
    "    \n",
    "    def __init__(self, name, pay): \n",
    "        self.name = name\n",
    "        self.pay = pay\n",
    "        \n",
    "    def __setitem__(self, index, value):\n",
    "        self.pay[index] = value        "
   ]
  },
  {
   "cell_type": "code",
   "execution_count": 67,
   "metadata": {},
   "outputs": [
    {
     "name": "stdout",
     "output_type": "stream",
     "text": [
      "Bob Smith [50000, 55000, 53000, 60000]\n"
     ]
    }
   ],
   "source": [
    "bob = Employee(name='Bob Smith', pay=[50000, 55000, 53000, 60000])\n",
    "print(bob.name, bob.pay)"
   ]
  },
  {
   "cell_type": "code",
   "execution_count": 68,
   "metadata": {},
   "outputs": [],
   "source": [
    "bob[0] = 45000"
   ]
  },
  {
   "cell_type": "code",
   "execution_count": 69,
   "metadata": {},
   "outputs": [
    {
     "name": "stdout",
     "output_type": "stream",
     "text": [
      "Bob Smith [45000, 55000, 53000, 60000]\n"
     ]
    }
   ],
   "source": [
    "print(bob.name, bob.pay)"
   ]
  },
  {
   "cell_type": "markdown",
   "metadata": {},
   "source": [
    "### Printing using `__str__()` and `__repr__()`"
   ]
  },
  {
   "cell_type": "markdown",
   "metadata": {},
   "source": [
    "We know that `str()` is used to convert an object to a `str` object. Internally, it is implemented by the `__str__()` method. Moreover, Python uses `__str__()` when we call `print()` to display an object. "
   ]
  },
  {
   "cell_type": "markdown",
   "metadata": {},
   "source": [
    "Let's consider again the instance of the `Employee` class. If we call the instance `bob` which we created before or if we try to print it, we can see a general Python output that tells us that it is an object created by the `Employee` class and Python also provides its memory address."
   ]
  },
  {
   "cell_type": "code",
   "execution_count": 70,
   "metadata": {},
   "outputs": [
    {
     "data": {
      "text/plain": [
       "<__main__.Employee at 0x141d08eb048>"
      ]
     },
     "execution_count": 70,
     "metadata": {},
     "output_type": "execute_result"
    }
   ],
   "source": [
    "bob"
   ]
  },
  {
   "cell_type": "code",
   "execution_count": 71,
   "metadata": {},
   "outputs": [
    {
     "name": "stdout",
     "output_type": "stream",
     "text": [
      "<__main__.Employee object at 0x00000141D08EB048>\n"
     ]
    }
   ],
   "source": [
    "print(bob)"
   ]
  },
  {
   "cell_type": "markdown",
   "metadata": {},
   "source": [
    "We can implement the `__str__()` method, so that, when the class instance `self` is printed, we can customize the displayed output. The code below instructs the output to list the employee name and pay. Recall the string formatting methods, which we covered earlier: `%s` with `% (name)` formatting, `{}` with `.format(name)` formatting, and f strings `f` with `{name}` formatting."
   ]
  },
  {
   "cell_type": "code",
   "execution_count": 72,
   "metadata": {},
   "outputs": [],
   "source": [
    "class Employee: \n",
    "    def __init__(self, name, pay): \n",
    "        self.name = name\n",
    "        self.pay = pay\n",
    "    \n",
    "    def __str__(self): \n",
    "        return 'Employee name %s and pay %s' % (self.name, self.pay)\n",
    "        #  return 'Employee name {0} and pay {1}'.format(self.name, self.pay)\n",
    "        # return f'Employee name {self.name} and pay {self.pay}'"
   ]
  },
  {
   "cell_type": "code",
   "execution_count": 73,
   "metadata": {},
   "outputs": [
    {
     "name": "stdout",
     "output_type": "stream",
     "text": [
      "Bob Smith 50000\n"
     ]
    }
   ],
   "source": [
    "bob = Employee(name='Bob Smith', pay=50000)\n",
    "print(bob.name, bob.pay)"
   ]
  },
  {
   "cell_type": "code",
   "execution_count": 74,
   "metadata": {},
   "outputs": [
    {
     "name": "stdout",
     "output_type": "stream",
     "text": [
      "Employee name Bob Smith and pay 50000\n"
     ]
    }
   ],
   "source": [
    "print(bob)"
   ]
  },
  {
   "cell_type": "code",
   "execution_count": 75,
   "metadata": {},
   "outputs": [
    {
     "name": "stdout",
     "output_type": "stream",
     "text": [
      "Employee name Sue Jones and pay 60000\n"
     ]
    }
   ],
   "source": [
    "sue = Employee(name='Sue Jones', pay=60000)\n",
    "print(sue)"
   ]
  },
  {
   "cell_type": "markdown",
   "metadata": {},
   "source": [
    "If we enter only the instance name without `print`, we will still obtain the general Pyhton output."
   ]
  },
  {
   "cell_type": "code",
   "execution_count": 76,
   "metadata": {},
   "outputs": [
    {
     "data": {
      "text/plain": [
       "<__main__.Employee at 0x141d08eb780>"
      ]
     },
     "execution_count": 76,
     "metadata": {},
     "output_type": "execute_result"
    }
   ],
   "source": [
    "sue"
   ]
  },
  {
   "cell_type": "markdown",
   "metadata": {},
   "source": [
    "Besides the `__str__()` method, there is another similar method `__repr__()` which stands for *representation* and it is also used for overloading the `print` method in Python. It provides another way to customize the printed outputs. "
   ]
  },
  {
   "cell_type": "code",
   "execution_count": 77,
   "metadata": {},
   "outputs": [],
   "source": [
    "class Employee: \n",
    "    def __init__(self, name, pay): \n",
    "        self.name = name\n",
    "        self.pay = pay\n",
    "    \n",
    "    def __repr__(self): \n",
    "        return '<The name and pay for the employee are {} and {} dollars>'.format(self.name, self.pay)"
   ]
  },
  {
   "cell_type": "code",
   "execution_count": 78,
   "metadata": {},
   "outputs": [
    {
     "name": "stdout",
     "output_type": "stream",
     "text": [
      "<The name and pay for the employee are Sue Jones and 60000 dollars>\n"
     ]
    }
   ],
   "source": [
    "sue = Employee(name='Sue Jones', pay=60000)\n",
    "print(sue)"
   ]
  },
  {
   "cell_type": "markdown",
   "metadata": {},
   "source": [
    "Note also in the cell below that the displayed output for `sue` is the same as for `print(sue)`. I.e., Python uses `__repr__()` to display the object in the interactive prompt. "
   ]
  },
  {
   "cell_type": "code",
   "execution_count": 79,
   "metadata": {},
   "outputs": [
    {
     "data": {
      "text/plain": [
       "<The name and pay for the employee are Sue Jones and 60000 dollars>"
      ]
     },
     "execution_count": 79,
     "metadata": {},
     "output_type": "execute_result"
    }
   ],
   "source": [
    "sue"
   ]
  },
  {
   "cell_type": "markdown",
   "metadata": {},
   "source": [
    "The method `__repr__()` is more general than `_str__()` and it applies to nested appearances and a few other additional cases. The `__str__()` and `__repr__()` methods are very useful, because when other people are using our codes, they can get a good idea of what an object is by just printing it."
   ]
  },
  {
   "cell_type": "markdown",
   "metadata": {},
   "source": [
    "# The super() function"
   ]
  },
  {
   "cell_type": "markdown",
   "metadata": {},
   "source": [
    "The `super()` function in Python returns a temporary object of the superclass that then allows to call methods from superclasses in subclasses.\n",
    "\n",
    "Calling previously built methods with `super()` eliminates the need to rewrite those methods in subclasses, and allows  to swap out superclasses with minimal code changes.\n",
    "\n",
    "For instance, in the following code, `super()` calls the `__init__()` function of the Rectangle superclass, allowing to use it in the Square subclass.  This sets the `.length` and `.width` attributes of Square even though we just had to supply a single length parameter to the Square constructor. Even though the Square class doesn’t explicitly implement the `.area()` method, it will use the `.area()` method in the superclass and print 16. "
   ]
  },
  {
   "cell_type": "code",
   "execution_count": 80,
   "metadata": {},
   "outputs": [],
   "source": [
    "class Rectangle:\n",
    "    def __init__(self, length, width):\n",
    "        self.length = length\n",
    "        self.width = width\n",
    "\n",
    "    def area(self):\n",
    "        return self.length * self.width\n",
    "\n",
    "    def perimeter(self):\n",
    "        return 2 * self.length + 2 * self.width\n",
    "\n",
    "# Here we declare that the Square class inherits from the Rectangle class\n",
    "class Square(Rectangle):\n",
    "    def __init__(self, length):\n",
    "        super().__init__(length, length)"
   ]
  },
  {
   "cell_type": "code",
   "execution_count": 81,
   "metadata": {},
   "outputs": [
    {
     "data": {
      "text/plain": [
       "16"
      ]
     },
     "execution_count": 81,
     "metadata": {},
     "output_type": "execute_result"
    }
   ],
   "source": [
    "square1 = Square(4)\n",
    "square1.area()"
   ]
  },
  {
   "cell_type": "markdown",
   "metadata": {},
   "source": [
    "In the example below, a subclass Cube is created that inherits from Square, and extends the functionality of `.area()` inherited from the Rectangle class via `super().area()`, to calculate the volume of a Cube.\n",
    "\n",
    "The method `.volume()` for a cube relies on calculating the area of a single face, so rather than reimplementing the area calculation, we use `super()` to extend the area calculation. The function `super()` returns an object of the superclass, and allows to call the method `volume()` directly through `super().area()`.\n",
    "\n",
    "Also notice that the Cube class definition does not have an `__init__()` function. Because Cube inherits from Square and `__init__()` doesn’t really do anything differently for Cube than it already does for Square, we can skip defining it, and the `__init__()` of the superclass Square will be called automatically."
   ]
  },
  {
   "cell_type": "code",
   "execution_count": 82,
   "metadata": {},
   "outputs": [],
   "source": [
    "class Cube(Square):\n",
    "    \n",
    "    def volume(self):\n",
    "        face_area = super().area()\n",
    "        return face_area * self.length"
   ]
  },
  {
   "cell_type": "code",
   "execution_count": 83,
   "metadata": {},
   "outputs": [
    {
     "data": {
      "text/plain": [
       "27"
      ]
     },
     "execution_count": 83,
     "metadata": {},
     "output_type": "execute_result"
    }
   ],
   "source": [
    "cube1 = Cube(3)\n",
    "cube1.volume()"
   ]
  },
  {
   "cell_type": "markdown",
   "metadata": {},
   "source": [
    "# References <a id=\"section6\"/>\n",
    "\n",
    "1. Mark Lutz, \"Learning Python,\" 5-th edition, O-Reilly, 2013. ISBN: 978-1-449-35573-9.\n",
    "2. Pierian Data Inc., \"Complete Python 3 Bootcamp,\" codes available at: [https://github.com/Pierian-Data/Complete-Python-3-Bootcamp](https://github.com/Pierian-Data/Complete-Python-3-Bootcamp).\n",
    "3. Python - Made with ML, Goku Mohandas, codes available at: [https://madewithml.com/](https://madewithml.com/).\n",
    "4. Jeff Knupp, Improve Your Python: Python Classes and Object Oriented Programming, availabe at [link]().(https://jeffknupp.com/blog/2014/06/18/improve-your-python-python-classes-and-object-oriented-programming/).\n",
    "5. Python Tutorial, Python Abstract Classes, available at [link](https://www.pythontutorial.net/python-oop/python-abstract-class/).\n",
    "6. Kyle Stratis, Supercharge Your Classes with Python super(), available at [link](https://realpython.com/python-super/#an-overview-of-pythons-super-function)."
   ]
  }
 ],
 "metadata": {
  "kernelspec": {
   "display_name": "Python 3",
   "language": "python",
   "name": "python3"
  },
  "language_info": {
   "codemirror_mode": {
    "name": "ipython",
    "version": 3
   },
   "file_extension": ".py",
   "mimetype": "text/x-python",
   "name": "python",
   "nbconvert_exporter": "python",
   "pygments_lexer": "ipython3",
   "version": "3.6.8"
  }
 },
 "nbformat": 4,
 "nbformat_minor": 4
}
